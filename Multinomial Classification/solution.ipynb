{
 "metadata": {
  "language_info": {
   "codemirror_mode": {
    "name": "ipython",
    "version": 3
   },
   "file_extension": ".py",
   "mimetype": "text/x-python",
   "name": "python",
   "nbconvert_exporter": "python",
   "pygments_lexer": "ipython3",
   "version": "3.8.5-final"
  },
  "orig_nbformat": 2,
  "kernelspec": {
   "name": "python38564bitbasecondafca1e29cefa54f57b261bfb4c3ce0277",
   "display_name": "Python 3.8.5 64-bit ('base': conda)"
  }
 },
 "nbformat": 4,
 "nbformat_minor": 2,
 "cells": [
  {
   "cell_type": "code",
   "execution_count": 122,
   "metadata": {},
   "outputs": [],
   "source": [
    "import numpy as np\n",
    "import pandas as pd\n",
    "\n",
    "import matplotlib.pyplot as plt\n",
    "import seaborn as sn\n",
    "\n",
    "from pprint import pprint\n",
    "\n",
    "from sklearn.ensemble import RandomForestClassifier\n",
    "from sklearn.metrics import confusion_matrix\n",
    "from sklearn.model_selection import RandomizedSearchCV\n"
   ]
  },
  {
   "source": [
    "# Reading the dataset using Pandas"
   ],
   "cell_type": "markdown",
   "metadata": {}
  },
  {
   "cell_type": "code",
   "execution_count": 123,
   "metadata": {},
   "outputs": [],
   "source": [
    "# Some missing values were represented as inf and -inf\n",
    "na_values = [\"inf\",\"-inf\"]"
   ]
  },
  {
   "cell_type": "code",
   "execution_count": 124,
   "metadata": {},
   "outputs": [],
   "source": [
    "train = pd.read_csv('Train.csv', na_values=na_values)\n",
    "test = pd.read_csv('Test.csv', na_values=na_values)"
   ]
  },
  {
   "cell_type": "code",
   "execution_count": null,
   "metadata": {},
   "outputs": [],
   "source": [
    "print('train shape:', train.shape)\n",
    "print('test shape:', test.shape)"
   ]
  },
  {
   "cell_type": "code",
   "execution_count": 106,
   "metadata": {},
   "outputs": [
    {
     "output_type": "execute_result",
     "data": {
      "text/plain": [
       "   id  column_1  column_2  column_3  column_4  column_5   column_6   column_7  \\\n",
       "0   0  15059.27  15376.02  28326.26  19587.18         2  1007.9608  3960.0965   \n",
       "1   1  17455.22  38952.17  19410.83  25272.74         3   520.6264  1717.0405   \n",
       "2   2  15359.09   3879.60  11571.05  10269.91         1     0.0000  1425.7998   \n",
       "3   3   5605.87   6134.37   8585.83   6775.36         0     0.0000   291.0967   \n",
       "4   4  10572.48  10403.86   7721.41   9565.92         1     0.0000  2530.3404   \n",
       "\n",
       "   column_8  column_9  ...  column_361  column_362  column_363  column_364  \\\n",
       "0    3.6600    7.3174  ...      0.0068   7078.3939      38.285        20.0   \n",
       "1    0.0000    8.0772  ...      0.0000   5566.8946       0.000        34.0   \n",
       "2    0.0000    7.1665  ...      0.0000   3821.4173       0.000        30.0   \n",
       "3    0.0000    4.1596  ...      0.0000   1254.8651       0.000        14.0   \n",
       "4    3.9933    3.7377  ...     -0.0032   3581.9975     -12.345         2.0   \n",
       "\n",
       "   column_365  column_366  column_367  column_368  column_369  column_370  \n",
       "0         0.0          27           1           0           0           0  \n",
       "1         1.0          31           1           0           0           0  \n",
       "2         0.0          56           1           0           0           0  \n",
       "3         0.0          31           0           0           0           0  \n",
       "4         0.0          55           0           0           1           0  \n",
       "\n",
       "[5 rows x 371 columns]"
      ],
      "text/html": "<div>\n<style scoped>\n    .dataframe tbody tr th:only-of-type {\n        vertical-align: middle;\n    }\n\n    .dataframe tbody tr th {\n        vertical-align: top;\n    }\n\n    .dataframe thead th {\n        text-align: right;\n    }\n</style>\n<table border=\"1\" class=\"dataframe\">\n  <thead>\n    <tr style=\"text-align: right;\">\n      <th></th>\n      <th>id</th>\n      <th>column_1</th>\n      <th>column_2</th>\n      <th>column_3</th>\n      <th>column_4</th>\n      <th>column_5</th>\n      <th>column_6</th>\n      <th>column_7</th>\n      <th>column_8</th>\n      <th>column_9</th>\n      <th>...</th>\n      <th>column_361</th>\n      <th>column_362</th>\n      <th>column_363</th>\n      <th>column_364</th>\n      <th>column_365</th>\n      <th>column_366</th>\n      <th>column_367</th>\n      <th>column_368</th>\n      <th>column_369</th>\n      <th>column_370</th>\n    </tr>\n  </thead>\n  <tbody>\n    <tr>\n      <th>0</th>\n      <td>0</td>\n      <td>15059.27</td>\n      <td>15376.02</td>\n      <td>28326.26</td>\n      <td>19587.18</td>\n      <td>2</td>\n      <td>1007.9608</td>\n      <td>3960.0965</td>\n      <td>3.6600</td>\n      <td>7.3174</td>\n      <td>...</td>\n      <td>0.0068</td>\n      <td>7078.3939</td>\n      <td>38.285</td>\n      <td>20.0</td>\n      <td>0.0</td>\n      <td>27</td>\n      <td>1</td>\n      <td>0</td>\n      <td>0</td>\n      <td>0</td>\n    </tr>\n    <tr>\n      <th>1</th>\n      <td>1</td>\n      <td>17455.22</td>\n      <td>38952.17</td>\n      <td>19410.83</td>\n      <td>25272.74</td>\n      <td>3</td>\n      <td>520.6264</td>\n      <td>1717.0405</td>\n      <td>0.0000</td>\n      <td>8.0772</td>\n      <td>...</td>\n      <td>0.0000</td>\n      <td>5566.8946</td>\n      <td>0.000</td>\n      <td>34.0</td>\n      <td>1.0</td>\n      <td>31</td>\n      <td>1</td>\n      <td>0</td>\n      <td>0</td>\n      <td>0</td>\n    </tr>\n    <tr>\n      <th>2</th>\n      <td>2</td>\n      <td>15359.09</td>\n      <td>3879.60</td>\n      <td>11571.05</td>\n      <td>10269.91</td>\n      <td>1</td>\n      <td>0.0000</td>\n      <td>1425.7998</td>\n      <td>0.0000</td>\n      <td>7.1665</td>\n      <td>...</td>\n      <td>0.0000</td>\n      <td>3821.4173</td>\n      <td>0.000</td>\n      <td>30.0</td>\n      <td>0.0</td>\n      <td>56</td>\n      <td>1</td>\n      <td>0</td>\n      <td>0</td>\n      <td>0</td>\n    </tr>\n    <tr>\n      <th>3</th>\n      <td>3</td>\n      <td>5605.87</td>\n      <td>6134.37</td>\n      <td>8585.83</td>\n      <td>6775.36</td>\n      <td>0</td>\n      <td>0.0000</td>\n      <td>291.0967</td>\n      <td>0.0000</td>\n      <td>4.1596</td>\n      <td>...</td>\n      <td>0.0000</td>\n      <td>1254.8651</td>\n      <td>0.000</td>\n      <td>14.0</td>\n      <td>0.0</td>\n      <td>31</td>\n      <td>0</td>\n      <td>0</td>\n      <td>0</td>\n      <td>0</td>\n    </tr>\n    <tr>\n      <th>4</th>\n      <td>4</td>\n      <td>10572.48</td>\n      <td>10403.86</td>\n      <td>7721.41</td>\n      <td>9565.92</td>\n      <td>1</td>\n      <td>0.0000</td>\n      <td>2530.3404</td>\n      <td>3.9933</td>\n      <td>3.7377</td>\n      <td>...</td>\n      <td>-0.0032</td>\n      <td>3581.9975</td>\n      <td>-12.345</td>\n      <td>2.0</td>\n      <td>0.0</td>\n      <td>55</td>\n      <td>0</td>\n      <td>0</td>\n      <td>1</td>\n      <td>0</td>\n    </tr>\n  </tbody>\n</table>\n<p>5 rows × 371 columns</p>\n</div>"
     },
     "metadata": {},
     "execution_count": 106
    }
   ],
   "source": [
    "train.head()"
   ]
  },
  {
   "cell_type": "code",
   "execution_count": 107,
   "metadata": {},
   "outputs": [
    {
     "output_type": "execute_result",
     "data": {
      "text/plain": [
       "   id  column_6   column_7  column_8  column_9  column_10  column_11  \\\n",
       "0   0  317.6870  1419.7523    0.0000    7.3778    20.8500        0.0   \n",
       "1   1    0.0000  1147.3111    0.0000    6.4608    53.7567        0.0   \n",
       "2   2   45.3894  1331.8722    7.1933    2.1552    85.8633        0.0   \n",
       "3   3    0.0000   743.1287    0.0000    6.9048     8.6600        5.0   \n",
       "4   4    0.0000   261.8643    0.0000    3.1889     0.0000        0.0   \n",
       "\n",
       "   column_12  column_13  column_14  ...  column_361  column_362  column_363  \\\n",
       "0     0.6667     9.0517    15.2300  ...      0.0000   3961.7543        0.00   \n",
       "1     1.0000     9.7730    24.3267  ...      0.0000   1991.3987        0.00   \n",
       "2     0.3333    13.0650    31.0000  ...      0.0122   2666.0984       75.19   \n",
       "3     0.0000     5.4300    83.9767  ...      0.0000   2398.4816        0.00   \n",
       "4     0.3333     0.0000     0.0000  ...      0.0000   1338.8069        0.00   \n",
       "\n",
       "   column_364  column_365  column_366  column_367  column_368  column_369  \\\n",
       "0        24.0         1.0          23           1           0           0   \n",
       "1        17.0         0.0          38           0           0           0   \n",
       "2         2.0         0.0          46           0           1           0   \n",
       "3        29.0         1.0          53           0           1           0   \n",
       "4         2.0         0.0          43           0           0           1   \n",
       "\n",
       "   column_370  \n",
       "0           0  \n",
       "1           1  \n",
       "2           0  \n",
       "3           0  \n",
       "4           0  \n",
       "\n",
       "[5 rows x 366 columns]"
      ],
      "text/html": "<div>\n<style scoped>\n    .dataframe tbody tr th:only-of-type {\n        vertical-align: middle;\n    }\n\n    .dataframe tbody tr th {\n        vertical-align: top;\n    }\n\n    .dataframe thead th {\n        text-align: right;\n    }\n</style>\n<table border=\"1\" class=\"dataframe\">\n  <thead>\n    <tr style=\"text-align: right;\">\n      <th></th>\n      <th>id</th>\n      <th>column_6</th>\n      <th>column_7</th>\n      <th>column_8</th>\n      <th>column_9</th>\n      <th>column_10</th>\n      <th>column_11</th>\n      <th>column_12</th>\n      <th>column_13</th>\n      <th>column_14</th>\n      <th>...</th>\n      <th>column_361</th>\n      <th>column_362</th>\n      <th>column_363</th>\n      <th>column_364</th>\n      <th>column_365</th>\n      <th>column_366</th>\n      <th>column_367</th>\n      <th>column_368</th>\n      <th>column_369</th>\n      <th>column_370</th>\n    </tr>\n  </thead>\n  <tbody>\n    <tr>\n      <th>0</th>\n      <td>0</td>\n      <td>317.6870</td>\n      <td>1419.7523</td>\n      <td>0.0000</td>\n      <td>7.3778</td>\n      <td>20.8500</td>\n      <td>0.0</td>\n      <td>0.6667</td>\n      <td>9.0517</td>\n      <td>15.2300</td>\n      <td>...</td>\n      <td>0.0000</td>\n      <td>3961.7543</td>\n      <td>0.00</td>\n      <td>24.0</td>\n      <td>1.0</td>\n      <td>23</td>\n      <td>1</td>\n      <td>0</td>\n      <td>0</td>\n      <td>0</td>\n    </tr>\n    <tr>\n      <th>1</th>\n      <td>1</td>\n      <td>0.0000</td>\n      <td>1147.3111</td>\n      <td>0.0000</td>\n      <td>6.4608</td>\n      <td>53.7567</td>\n      <td>0.0</td>\n      <td>1.0000</td>\n      <td>9.7730</td>\n      <td>24.3267</td>\n      <td>...</td>\n      <td>0.0000</td>\n      <td>1991.3987</td>\n      <td>0.00</td>\n      <td>17.0</td>\n      <td>0.0</td>\n      <td>38</td>\n      <td>0</td>\n      <td>0</td>\n      <td>0</td>\n      <td>1</td>\n    </tr>\n    <tr>\n      <th>2</th>\n      <td>2</td>\n      <td>45.3894</td>\n      <td>1331.8722</td>\n      <td>7.1933</td>\n      <td>2.1552</td>\n      <td>85.8633</td>\n      <td>0.0</td>\n      <td>0.3333</td>\n      <td>13.0650</td>\n      <td>31.0000</td>\n      <td>...</td>\n      <td>0.0122</td>\n      <td>2666.0984</td>\n      <td>75.19</td>\n      <td>2.0</td>\n      <td>0.0</td>\n      <td>46</td>\n      <td>0</td>\n      <td>1</td>\n      <td>0</td>\n      <td>0</td>\n    </tr>\n    <tr>\n      <th>3</th>\n      <td>3</td>\n      <td>0.0000</td>\n      <td>743.1287</td>\n      <td>0.0000</td>\n      <td>6.9048</td>\n      <td>8.6600</td>\n      <td>5.0</td>\n      <td>0.0000</td>\n      <td>5.4300</td>\n      <td>83.9767</td>\n      <td>...</td>\n      <td>0.0000</td>\n      <td>2398.4816</td>\n      <td>0.00</td>\n      <td>29.0</td>\n      <td>1.0</td>\n      <td>53</td>\n      <td>0</td>\n      <td>1</td>\n      <td>0</td>\n      <td>0</td>\n    </tr>\n    <tr>\n      <th>4</th>\n      <td>4</td>\n      <td>0.0000</td>\n      <td>261.8643</td>\n      <td>0.0000</td>\n      <td>3.1889</td>\n      <td>0.0000</td>\n      <td>0.0</td>\n      <td>0.3333</td>\n      <td>0.0000</td>\n      <td>0.0000</td>\n      <td>...</td>\n      <td>0.0000</td>\n      <td>1338.8069</td>\n      <td>0.00</td>\n      <td>2.0</td>\n      <td>0.0</td>\n      <td>43</td>\n      <td>0</td>\n      <td>0</td>\n      <td>1</td>\n      <td>0</td>\n    </tr>\n  </tbody>\n</table>\n<p>5 rows × 366 columns</p>\n</div>"
     },
     "metadata": {},
     "execution_count": 107
    }
   ],
   "source": [
    "test.head()"
   ]
  },
  {
   "source": [
    "# Splitting train dataset"
   ],
   "cell_type": "markdown",
   "metadata": {}
  },
  {
   "cell_type": "code",
   "execution_count": 108,
   "metadata": {},
   "outputs": [],
   "source": [
    "X = train.drop(['id','column_1','column_2','column_3','column_4','column_5'],axis=1)\n",
    "Y = train['column_5']"
   ]
  },
  {
   "cell_type": "code",
   "execution_count": 109,
   "metadata": {},
   "outputs": [
    {
     "output_type": "execute_result",
     "data": {
      "text/plain": [
       "    column_6   column_7  column_8  column_9  column_10  column_11  column_12  \\\n",
       "0  1007.9608  3960.0965    3.6600    7.3174   394.4033     0.6667     0.8580   \n",
       "1   520.6264  1717.0405    0.0000    8.0772    79.7667     2.6667     0.0000   \n",
       "2     0.0000  1425.7998    0.0000    7.1665   152.6967     0.0000     0.0000   \n",
       "3     0.0000   291.0967    0.0000    4.1596    47.9833     5.3333     0.0000   \n",
       "4     0.0000  2530.3404    3.9933    3.7377    87.7833     0.0000     1.2882   \n",
       "\n",
       "   column_13  column_14  column_15  ...  column_361  column_362  column_363  \\\n",
       "0    16.4128    88.0800   239.4438  ...      0.0068   7078.3939      38.285   \n",
       "1     6.1967    21.9933   882.0933  ...      0.0000   5566.8946       0.000   \n",
       "2     0.0000    46.9900     0.0000  ...      0.0000   3821.4173       0.000   \n",
       "3     0.0000     0.0000     0.0000  ...      0.0000   1254.8651       0.000   \n",
       "4    10.3333    40.7700     0.0000  ...     -0.0032   3581.9975     -12.345   \n",
       "\n",
       "   column_364  column_365  column_366  column_367  column_368  column_369  \\\n",
       "0        20.0         0.0          27           1           0           0   \n",
       "1        34.0         1.0          31           1           0           0   \n",
       "2        30.0         0.0          56           1           0           0   \n",
       "3        14.0         0.0          31           0           0           0   \n",
       "4         2.0         0.0          55           0           0           1   \n",
       "\n",
       "   column_370  \n",
       "0           0  \n",
       "1           0  \n",
       "2           0  \n",
       "3           0  \n",
       "4           0  \n",
       "\n",
       "[5 rows x 365 columns]"
      ],
      "text/html": "<div>\n<style scoped>\n    .dataframe tbody tr th:only-of-type {\n        vertical-align: middle;\n    }\n\n    .dataframe tbody tr th {\n        vertical-align: top;\n    }\n\n    .dataframe thead th {\n        text-align: right;\n    }\n</style>\n<table border=\"1\" class=\"dataframe\">\n  <thead>\n    <tr style=\"text-align: right;\">\n      <th></th>\n      <th>column_6</th>\n      <th>column_7</th>\n      <th>column_8</th>\n      <th>column_9</th>\n      <th>column_10</th>\n      <th>column_11</th>\n      <th>column_12</th>\n      <th>column_13</th>\n      <th>column_14</th>\n      <th>column_15</th>\n      <th>...</th>\n      <th>column_361</th>\n      <th>column_362</th>\n      <th>column_363</th>\n      <th>column_364</th>\n      <th>column_365</th>\n      <th>column_366</th>\n      <th>column_367</th>\n      <th>column_368</th>\n      <th>column_369</th>\n      <th>column_370</th>\n    </tr>\n  </thead>\n  <tbody>\n    <tr>\n      <th>0</th>\n      <td>1007.9608</td>\n      <td>3960.0965</td>\n      <td>3.6600</td>\n      <td>7.3174</td>\n      <td>394.4033</td>\n      <td>0.6667</td>\n      <td>0.8580</td>\n      <td>16.4128</td>\n      <td>88.0800</td>\n      <td>239.4438</td>\n      <td>...</td>\n      <td>0.0068</td>\n      <td>7078.3939</td>\n      <td>38.285</td>\n      <td>20.0</td>\n      <td>0.0</td>\n      <td>27</td>\n      <td>1</td>\n      <td>0</td>\n      <td>0</td>\n      <td>0</td>\n    </tr>\n    <tr>\n      <th>1</th>\n      <td>520.6264</td>\n      <td>1717.0405</td>\n      <td>0.0000</td>\n      <td>8.0772</td>\n      <td>79.7667</td>\n      <td>2.6667</td>\n      <td>0.0000</td>\n      <td>6.1967</td>\n      <td>21.9933</td>\n      <td>882.0933</td>\n      <td>...</td>\n      <td>0.0000</td>\n      <td>5566.8946</td>\n      <td>0.000</td>\n      <td>34.0</td>\n      <td>1.0</td>\n      <td>31</td>\n      <td>1</td>\n      <td>0</td>\n      <td>0</td>\n      <td>0</td>\n    </tr>\n    <tr>\n      <th>2</th>\n      <td>0.0000</td>\n      <td>1425.7998</td>\n      <td>0.0000</td>\n      <td>7.1665</td>\n      <td>152.6967</td>\n      <td>0.0000</td>\n      <td>0.0000</td>\n      <td>0.0000</td>\n      <td>46.9900</td>\n      <td>0.0000</td>\n      <td>...</td>\n      <td>0.0000</td>\n      <td>3821.4173</td>\n      <td>0.000</td>\n      <td>30.0</td>\n      <td>0.0</td>\n      <td>56</td>\n      <td>1</td>\n      <td>0</td>\n      <td>0</td>\n      <td>0</td>\n    </tr>\n    <tr>\n      <th>3</th>\n      <td>0.0000</td>\n      <td>291.0967</td>\n      <td>0.0000</td>\n      <td>4.1596</td>\n      <td>47.9833</td>\n      <td>5.3333</td>\n      <td>0.0000</td>\n      <td>0.0000</td>\n      <td>0.0000</td>\n      <td>0.0000</td>\n      <td>...</td>\n      <td>0.0000</td>\n      <td>1254.8651</td>\n      <td>0.000</td>\n      <td>14.0</td>\n      <td>0.0</td>\n      <td>31</td>\n      <td>0</td>\n      <td>0</td>\n      <td>0</td>\n      <td>0</td>\n    </tr>\n    <tr>\n      <th>4</th>\n      <td>0.0000</td>\n      <td>2530.3404</td>\n      <td>3.9933</td>\n      <td>3.7377</td>\n      <td>87.7833</td>\n      <td>0.0000</td>\n      <td>1.2882</td>\n      <td>10.3333</td>\n      <td>40.7700</td>\n      <td>0.0000</td>\n      <td>...</td>\n      <td>-0.0032</td>\n      <td>3581.9975</td>\n      <td>-12.345</td>\n      <td>2.0</td>\n      <td>0.0</td>\n      <td>55</td>\n      <td>0</td>\n      <td>0</td>\n      <td>1</td>\n      <td>0</td>\n    </tr>\n  </tbody>\n</table>\n<p>5 rows × 365 columns</p>\n</div>"
     },
     "metadata": {},
     "execution_count": 109
    }
   ],
   "source": [
    "X.head()"
   ]
  },
  {
   "cell_type": "code",
   "execution_count": 110,
   "metadata": {},
   "outputs": [
    {
     "output_type": "execute_result",
     "data": {
      "text/plain": [
       "0    2\n",
       "1    3\n",
       "2    1\n",
       "3    0\n",
       "4    1\n",
       "Name: column_5, dtype: int64"
      ]
     },
     "metadata": {},
     "execution_count": 110
    }
   ],
   "source": [
    "Y.head()"
   ]
  },
  {
   "source": [
    "# Handling missing values"
   ],
   "cell_type": "markdown",
   "metadata": {}
  },
  {
   "cell_type": "code",
   "execution_count": 111,
   "metadata": {},
   "outputs": [],
   "source": [
    "X.fillna(X.mean(skipna=True), inplace=True)"
   ]
  },
  {
   "cell_type": "code",
   "execution_count": 112,
   "metadata": {},
   "outputs": [
    {
     "output_type": "execute_result",
     "data": {
      "text/plain": [
       "0"
      ]
     },
     "metadata": {},
     "execution_count": 112
    }
   ],
   "source": [
    "missing = X.isnull().sum()\n",
    "missing.sum()"
   ]
  },
  {
   "source": [
    "Now we are sure that every NaN was replaced by column`s mean value"
   ],
   "cell_type": "markdown",
   "metadata": {}
  },
  {
   "source": [
    "# Using Random Forest model from sklearn"
   ],
   "cell_type": "markdown",
   "metadata": {}
  },
  {
   "source": [
    "Tuning parameters with randomized search"
   ],
   "cell_type": "markdown",
   "metadata": {}
  },
  {
   "cell_type": "code",
   "execution_count": 150,
   "metadata": {},
   "outputs": [],
   "source": [
    "n_estimators = [int(x) for x in np.linspace(start = 2, stop = 20, num = 10)]\n",
    "max_features = ['auto', 'sqrt']\n",
    "max_depth = [int(x) for x in np.linspace(1, 20, num = 20)]\n",
    "max_depth.append(None)\n",
    "min_samples_split = [2, 5, 10, 20]\n",
    "min_samples_leaf = [1, 2, 3, 5]\n",
    "bootstrap = [True, False]"
   ]
  },
  {
   "cell_type": "code",
   "execution_count": 151,
   "metadata": {},
   "outputs": [
    {
     "output_type": "stream",
     "name": "stdout",
     "text": [
      "{'bootstrap': [True, False],\n 'max_depth': [1,\n               2,\n               3,\n               4,\n               5,\n               6,\n               7,\n               8,\n               9,\n               10,\n               11,\n               12,\n               13,\n               14,\n               15,\n               16,\n               17,\n               18,\n               19,\n               20,\n               None],\n 'max_features': ['auto', 'sqrt'],\n 'min_samples_leaf': [1, 2, 3, 5],\n 'min_samples_split': [2, 5, 10, 20],\n 'n_estimators': [2, 4, 6, 8, 10, 12, 14, 16, 18, 20]}\n"
     ]
    }
   ],
   "source": [
    "# Creating the random grid\n",
    "random_grid = {'n_estimators': n_estimators,\n",
    "               'max_features': max_features,\n",
    "               'max_depth': max_depth,\n",
    "               'min_samples_split': min_samples_split,\n",
    "               'min_samples_leaf': min_samples_leaf,\n",
    "               'bootstrap': bootstrap}\n",
    "pprint(random_grid)"
   ]
  },
  {
   "cell_type": "code",
   "execution_count": 152,
   "metadata": {},
   "outputs": [],
   "source": [
    "# Using the random grid to search for best hyperparameters\n",
    "rforest = RandomForestClassifier()\n",
    "# Random search of parameters, using 3 fold cross validation\n",
    "rf_random = RandomizedSearchCV(estimator = rforest, param_distributions = random_grid, n_iter = 15, cv = 5, verbose=2, random_state=42, n_jobs = -1)\n"
   ]
  },
  {
   "cell_type": "code",
   "execution_count": 153,
   "metadata": {},
   "outputs": [
    {
     "output_type": "stream",
     "name": "stdout",
     "text": [
      "Fitting 5 folds for each of 15 candidates, totalling 75 fits\n",
      "[Parallel(n_jobs=-1)]: Using backend LokyBackend with 8 concurrent workers.\n",
      "[Parallel(n_jobs=-1)]: Done  25 tasks      | elapsed:   22.9s\n",
      "[Parallel(n_jobs=-1)]: Done  75 out of  75 | elapsed:  1.3min finished\n",
      "{'bootstrap': False,\n",
      " 'max_depth': None,\n",
      " 'max_features': 'sqrt',\n",
      " 'min_samples_leaf': 5,\n",
      " 'min_samples_split': 5,\n",
      " 'n_estimators': 18}\n"
     ]
    }
   ],
   "source": [
    "rf_random.fit(X, Y.values)\n",
    "params = rf_random.best_params_\n",
    "pprint(params)"
   ]
  },
  {
   "source": [
    " Fitting Random Forest Classifier with the best parameters from Randomized Search"
   ],
   "cell_type": "markdown",
   "metadata": {}
  },
  {
   "cell_type": "code",
   "execution_count": 154,
   "metadata": {},
   "outputs": [
    {
     "output_type": "execute_result",
     "data": {
      "text/plain": [
       "RandomForestClassifier(bootstrap=False, max_features='sqrt', min_samples_leaf=5,\n",
       "                       min_samples_split=5, n_estimators=18)"
      ]
     },
     "metadata": {},
     "execution_count": 154
    }
   ],
   "source": [
    "rforest = RandomForestClassifier(**params)\n",
    "rforest.fit(X , Y)\n"
   ]
  },
  {
   "source": [
    "Measuring performance on the training set"
   ],
   "cell_type": "markdown",
   "metadata": {}
  },
  {
   "cell_type": "code",
   "execution_count": 155,
   "metadata": {},
   "outputs": [],
   "source": [
    "Y_train_predicted = rforest.predict(X)"
   ]
  },
  {
   "cell_type": "code",
   "execution_count": 156,
   "metadata": {},
   "outputs": [
    {
     "output_type": "execute_result",
     "data": {
      "text/plain": [
       "0.9886420245093155"
      ]
     },
     "metadata": {},
     "execution_count": 156
    },
    {
     "output_type": "display_data",
     "data": {
      "text/plain": "<Figure size 720x504 with 2 Axes>",
      "image/svg+xml": "<?xml version=\"1.0\" encoding=\"utf-8\" standalone=\"no\"?>\n<!DOCTYPE svg PUBLIC \"-//W3C//DTD SVG 1.1//EN\"\n  \"http://www.w3.org/Graphics/SVG/1.1/DTD/svg11.dtd\">\n<!-- Created with matplotlib (https://matplotlib.org/) -->\n<svg height=\"425.27625pt\" version=\"1.1\" viewBox=\"0 0 576.89475 425.27625\" width=\"576.89475pt\" xmlns=\"http://www.w3.org/2000/svg\" xmlns:xlink=\"http://www.w3.org/1999/xlink\">\n <metadata>\n  <rdf:RDF xmlns:cc=\"http://creativecommons.org/ns#\" xmlns:dc=\"http://purl.org/dc/elements/1.1/\" xmlns:rdf=\"http://www.w3.org/1999/02/22-rdf-syntax-ns#\">\n   <cc:Work>\n    <dc:type rdf:resource=\"http://purl.org/dc/dcmitype/StillImage\"/>\n    <dc:date>2021-08-01T22:15:50.797292</dc:date>\n    <dc:format>image/svg+xml</dc:format>\n    <dc:creator>\n     <cc:Agent>\n      <dc:title>Matplotlib v3.3.2, https://matplotlib.org/</dc:title>\n     </cc:Agent>\n    </dc:creator>\n   </cc:Work>\n  </rdf:RDF>\n </metadata>\n <defs>\n  <style type=\"text/css\">*{stroke-linecap:butt;stroke-linejoin:round;}</style>\n </defs>\n <g id=\"figure_1\">\n  <g id=\"patch_1\">\n   <path d=\"M 0 425.27625 \nL 576.89475 425.27625 \nL 576.89475 0 \nL 0 0 \nz\n\" style=\"fill:none;\"/>\n  </g>\n  <g id=\"axes_1\">\n   <g id=\"patch_2\">\n    <path d=\"M 37.55625 387.72 \nL 483.95625 387.72 \nL 483.95625 7.2 \nL 37.55625 7.2 \nz\n\" style=\"fill:#ffffff;\"/>\n   </g>\n   <g id=\"QuadMesh_1\">\n    <path clip-path=\"url(#p343bcd83b7)\" d=\"M 37.55625 7.2 \nL 149.15625 7.2 \nL 149.15625 102.33 \nL 37.55625 102.33 \nL 37.55625 7.2 \n\" style=\"fill:#f37651;\"/>\n    <path clip-path=\"url(#p343bcd83b7)\" d=\"M 149.15625 7.2 \nL 260.75625 7.2 \nL 260.75625 102.33 \nL 149.15625 102.33 \nL 149.15625 7.2 \n\" style=\"fill:#03051a;\"/>\n    <path clip-path=\"url(#p343bcd83b7)\" d=\"M 260.75625 7.2 \nL 372.35625 7.2 \nL 372.35625 102.33 \nL 260.75625 102.33 \nL 260.75625 7.2 \n\" style=\"fill:#03051a;\"/>\n    <path clip-path=\"url(#p343bcd83b7)\" d=\"M 372.35625 7.2 \nL 483.95625 7.2 \nL 483.95625 102.33 \nL 372.35625 102.33 \nL 372.35625 7.2 \n\" style=\"fill:#03051a;\"/>\n    <path clip-path=\"url(#p343bcd83b7)\" d=\"M 37.55625 102.33 \nL 149.15625 102.33 \nL 149.15625 197.46 \nL 37.55625 197.46 \nL 37.55625 102.33 \n\" style=\"fill:#03051a;\"/>\n    <path clip-path=\"url(#p343bcd83b7)\" d=\"M 149.15625 102.33 \nL 260.75625 102.33 \nL 260.75625 197.46 \nL 149.15625 197.46 \nL 149.15625 102.33 \n\" style=\"fill:#faebdd;\"/>\n    <path clip-path=\"url(#p343bcd83b7)\" d=\"M 260.75625 102.33 \nL 372.35625 102.33 \nL 372.35625 197.46 \nL 260.75625 197.46 \nL 260.75625 102.33 \n\" style=\"fill:#03051a;\"/>\n    <path clip-path=\"url(#p343bcd83b7)\" d=\"M 372.35625 102.33 \nL 483.95625 102.33 \nL 483.95625 197.46 \nL 372.35625 197.46 \nL 372.35625 102.33 \n\" style=\"fill:#03051a;\"/>\n    <path clip-path=\"url(#p343bcd83b7)\" d=\"M 37.55625 197.46 \nL 149.15625 197.46 \nL 149.15625 292.59 \nL 37.55625 292.59 \nL 37.55625 197.46 \n\" style=\"fill:#03051a;\"/>\n    <path clip-path=\"url(#p343bcd83b7)\" d=\"M 149.15625 197.46 \nL 260.75625 197.46 \nL 260.75625 292.59 \nL 149.15625 292.59 \nL 149.15625 197.46 \n\" style=\"fill:#04051a;\"/>\n    <path clip-path=\"url(#p343bcd83b7)\" d=\"M 260.75625 197.46 \nL 372.35625 197.46 \nL 372.35625 292.59 \nL 260.75625 292.59 \nL 260.75625 197.46 \n\" style=\"fill:#781f59;\"/>\n    <path clip-path=\"url(#p343bcd83b7)\" d=\"M 372.35625 197.46 \nL 483.95625 197.46 \nL 483.95625 292.59 \nL 372.35625 292.59 \nL 372.35625 197.46 \n\" style=\"fill:#03051a;\"/>\n    <path clip-path=\"url(#p343bcd83b7)\" d=\"M 37.55625 292.59 \nL 149.15625 292.59 \nL 149.15625 387.72 \nL 37.55625 387.72 \nL 37.55625 292.59 \n\" style=\"fill:#03051a;\"/>\n    <path clip-path=\"url(#p343bcd83b7)\" d=\"M 149.15625 292.59 \nL 260.75625 292.59 \nL 260.75625 387.72 \nL 149.15625 387.72 \nL 149.15625 292.59 \n\" style=\"fill:#05061b;\"/>\n    <path clip-path=\"url(#p343bcd83b7)\" d=\"M 260.75625 292.59 \nL 372.35625 292.59 \nL 372.35625 387.72 \nL 260.75625 387.72 \nL 260.75625 292.59 \n\" style=\"fill:#03051a;\"/>\n    <path clip-path=\"url(#p343bcd83b7)\" d=\"M 372.35625 292.59 \nL 483.95625 292.59 \nL 483.95625 387.72 \nL 372.35625 387.72 \nL 372.35625 292.59 \n\" style=\"fill:#140e26;\"/>\n   </g>\n   <g id=\"matplotlib.axis_1\">\n    <g id=\"xtick_1\">\n     <g id=\"line2d_1\">\n      <defs>\n       <path d=\"M 0 0 \nL 0 3.5 \n\" id=\"mea259352b1\" style=\"stroke:#000000;stroke-width:0.8;\"/>\n      </defs>\n      <g>\n       <use style=\"stroke:#000000;stroke-width:0.8;\" x=\"93.35625\" xlink:href=\"#mea259352b1\" y=\"387.72\"/>\n      </g>\n     </g>\n     <g id=\"text_1\">\n      <!-- 0 -->\n      <g transform=\"translate(90.175 402.318437)scale(0.1 -0.1)\">\n       <defs>\n        <path d=\"M 31.78125 66.40625 \nQ 24.171875 66.40625 20.328125 58.90625 \nQ 16.5 51.421875 16.5 36.375 \nQ 16.5 21.390625 20.328125 13.890625 \nQ 24.171875 6.390625 31.78125 6.390625 \nQ 39.453125 6.390625 43.28125 13.890625 \nQ 47.125 21.390625 47.125 36.375 \nQ 47.125 51.421875 43.28125 58.90625 \nQ 39.453125 66.40625 31.78125 66.40625 \nz\nM 31.78125 74.21875 \nQ 44.046875 74.21875 50.515625 64.515625 \nQ 56.984375 54.828125 56.984375 36.375 \nQ 56.984375 17.96875 50.515625 8.265625 \nQ 44.046875 -1.421875 31.78125 -1.421875 \nQ 19.53125 -1.421875 13.0625 8.265625 \nQ 6.59375 17.96875 6.59375 36.375 \nQ 6.59375 54.828125 13.0625 64.515625 \nQ 19.53125 74.21875 31.78125 74.21875 \nz\n\" id=\"DejaVuSans-48\"/>\n       </defs>\n       <use xlink:href=\"#DejaVuSans-48\"/>\n      </g>\n     </g>\n    </g>\n    <g id=\"xtick_2\">\n     <g id=\"line2d_2\">\n      <g>\n       <use style=\"stroke:#000000;stroke-width:0.8;\" x=\"204.95625\" xlink:href=\"#mea259352b1\" y=\"387.72\"/>\n      </g>\n     </g>\n     <g id=\"text_2\">\n      <!-- 1 -->\n      <g transform=\"translate(201.775 402.318437)scale(0.1 -0.1)\">\n       <defs>\n        <path d=\"M 12.40625 8.296875 \nL 28.515625 8.296875 \nL 28.515625 63.921875 \nL 10.984375 60.40625 \nL 10.984375 69.390625 \nL 28.421875 72.90625 \nL 38.28125 72.90625 \nL 38.28125 8.296875 \nL 54.390625 8.296875 \nL 54.390625 0 \nL 12.40625 0 \nz\n\" id=\"DejaVuSans-49\"/>\n       </defs>\n       <use xlink:href=\"#DejaVuSans-49\"/>\n      </g>\n     </g>\n    </g>\n    <g id=\"xtick_3\">\n     <g id=\"line2d_3\">\n      <g>\n       <use style=\"stroke:#000000;stroke-width:0.8;\" x=\"316.55625\" xlink:href=\"#mea259352b1\" y=\"387.72\"/>\n      </g>\n     </g>\n     <g id=\"text_3\">\n      <!-- 2 -->\n      <g transform=\"translate(313.375 402.318437)scale(0.1 -0.1)\">\n       <defs>\n        <path d=\"M 19.1875 8.296875 \nL 53.609375 8.296875 \nL 53.609375 0 \nL 7.328125 0 \nL 7.328125 8.296875 \nQ 12.9375 14.109375 22.625 23.890625 \nQ 32.328125 33.6875 34.8125 36.53125 \nQ 39.546875 41.84375 41.421875 45.53125 \nQ 43.3125 49.21875 43.3125 52.78125 \nQ 43.3125 58.59375 39.234375 62.25 \nQ 35.15625 65.921875 28.609375 65.921875 \nQ 23.96875 65.921875 18.8125 64.3125 \nQ 13.671875 62.703125 7.8125 59.421875 \nL 7.8125 69.390625 \nQ 13.765625 71.78125 18.9375 73 \nQ 24.125 74.21875 28.421875 74.21875 \nQ 39.75 74.21875 46.484375 68.546875 \nQ 53.21875 62.890625 53.21875 53.421875 \nQ 53.21875 48.921875 51.53125 44.890625 \nQ 49.859375 40.875 45.40625 35.40625 \nQ 44.1875 33.984375 37.640625 27.21875 \nQ 31.109375 20.453125 19.1875 8.296875 \nz\n\" id=\"DejaVuSans-50\"/>\n       </defs>\n       <use xlink:href=\"#DejaVuSans-50\"/>\n      </g>\n     </g>\n    </g>\n    <g id=\"xtick_4\">\n     <g id=\"line2d_4\">\n      <g>\n       <use style=\"stroke:#000000;stroke-width:0.8;\" x=\"428.15625\" xlink:href=\"#mea259352b1\" y=\"387.72\"/>\n      </g>\n     </g>\n     <g id=\"text_4\">\n      <!-- 3 -->\n      <g transform=\"translate(424.975 402.318437)scale(0.1 -0.1)\">\n       <defs>\n        <path d=\"M 40.578125 39.3125 \nQ 47.65625 37.796875 51.625 33 \nQ 55.609375 28.21875 55.609375 21.1875 \nQ 55.609375 10.40625 48.1875 4.484375 \nQ 40.765625 -1.421875 27.09375 -1.421875 \nQ 22.515625 -1.421875 17.65625 -0.515625 \nQ 12.796875 0.390625 7.625 2.203125 \nL 7.625 11.71875 \nQ 11.71875 9.328125 16.59375 8.109375 \nQ 21.484375 6.890625 26.8125 6.890625 \nQ 36.078125 6.890625 40.9375 10.546875 \nQ 45.796875 14.203125 45.796875 21.1875 \nQ 45.796875 27.640625 41.28125 31.265625 \nQ 36.765625 34.90625 28.71875 34.90625 \nL 20.21875 34.90625 \nL 20.21875 43.015625 \nL 29.109375 43.015625 \nQ 36.375 43.015625 40.234375 45.921875 \nQ 44.09375 48.828125 44.09375 54.296875 \nQ 44.09375 59.90625 40.109375 62.90625 \nQ 36.140625 65.921875 28.71875 65.921875 \nQ 24.65625 65.921875 20.015625 65.03125 \nQ 15.375 64.15625 9.8125 62.3125 \nL 9.8125 71.09375 \nQ 15.4375 72.65625 20.34375 73.4375 \nQ 25.25 74.21875 29.59375 74.21875 \nQ 40.828125 74.21875 47.359375 69.109375 \nQ 53.90625 64.015625 53.90625 55.328125 \nQ 53.90625 49.265625 50.4375 45.09375 \nQ 46.96875 40.921875 40.578125 39.3125 \nz\n\" id=\"DejaVuSans-51\"/>\n       </defs>\n       <use xlink:href=\"#DejaVuSans-51\"/>\n      </g>\n     </g>\n    </g>\n    <g id=\"text_5\">\n     <!-- Predicted -->\n     <g transform=\"translate(237.285938 415.996562)scale(0.1 -0.1)\">\n      <defs>\n       <path d=\"M 19.671875 64.796875 \nL 19.671875 37.40625 \nL 32.078125 37.40625 \nQ 38.96875 37.40625 42.71875 40.96875 \nQ 46.484375 44.53125 46.484375 51.125 \nQ 46.484375 57.671875 42.71875 61.234375 \nQ 38.96875 64.796875 32.078125 64.796875 \nz\nM 9.8125 72.90625 \nL 32.078125 72.90625 \nQ 44.34375 72.90625 50.609375 67.359375 \nQ 56.890625 61.8125 56.890625 51.125 \nQ 56.890625 40.328125 50.609375 34.8125 \nQ 44.34375 29.296875 32.078125 29.296875 \nL 19.671875 29.296875 \nL 19.671875 0 \nL 9.8125 0 \nz\n\" id=\"DejaVuSans-80\"/>\n       <path d=\"M 41.109375 46.296875 \nQ 39.59375 47.171875 37.8125 47.578125 \nQ 36.03125 48 33.890625 48 \nQ 26.265625 48 22.1875 43.046875 \nQ 18.109375 38.09375 18.109375 28.8125 \nL 18.109375 0 \nL 9.078125 0 \nL 9.078125 54.6875 \nL 18.109375 54.6875 \nL 18.109375 46.1875 \nQ 20.953125 51.171875 25.484375 53.578125 \nQ 30.03125 56 36.53125 56 \nQ 37.453125 56 38.578125 55.875 \nQ 39.703125 55.765625 41.0625 55.515625 \nz\n\" id=\"DejaVuSans-114\"/>\n       <path d=\"M 56.203125 29.59375 \nL 56.203125 25.203125 \nL 14.890625 25.203125 \nQ 15.484375 15.921875 20.484375 11.0625 \nQ 25.484375 6.203125 34.421875 6.203125 \nQ 39.59375 6.203125 44.453125 7.46875 \nQ 49.3125 8.734375 54.109375 11.28125 \nL 54.109375 2.78125 \nQ 49.265625 0.734375 44.1875 -0.34375 \nQ 39.109375 -1.421875 33.890625 -1.421875 \nQ 20.796875 -1.421875 13.15625 6.1875 \nQ 5.515625 13.8125 5.515625 26.8125 \nQ 5.515625 40.234375 12.765625 48.109375 \nQ 20.015625 56 32.328125 56 \nQ 43.359375 56 49.78125 48.890625 \nQ 56.203125 41.796875 56.203125 29.59375 \nz\nM 47.21875 32.234375 \nQ 47.125 39.59375 43.09375 43.984375 \nQ 39.0625 48.390625 32.421875 48.390625 \nQ 24.90625 48.390625 20.390625 44.140625 \nQ 15.875 39.890625 15.1875 32.171875 \nz\n\" id=\"DejaVuSans-101\"/>\n       <path d=\"M 45.40625 46.390625 \nL 45.40625 75.984375 \nL 54.390625 75.984375 \nL 54.390625 0 \nL 45.40625 0 \nL 45.40625 8.203125 \nQ 42.578125 3.328125 38.25 0.953125 \nQ 33.9375 -1.421875 27.875 -1.421875 \nQ 17.96875 -1.421875 11.734375 6.484375 \nQ 5.515625 14.40625 5.515625 27.296875 \nQ 5.515625 40.1875 11.734375 48.09375 \nQ 17.96875 56 27.875 56 \nQ 33.9375 56 38.25 53.625 \nQ 42.578125 51.265625 45.40625 46.390625 \nz\nM 14.796875 27.296875 \nQ 14.796875 17.390625 18.875 11.75 \nQ 22.953125 6.109375 30.078125 6.109375 \nQ 37.203125 6.109375 41.296875 11.75 \nQ 45.40625 17.390625 45.40625 27.296875 \nQ 45.40625 37.203125 41.296875 42.84375 \nQ 37.203125 48.484375 30.078125 48.484375 \nQ 22.953125 48.484375 18.875 42.84375 \nQ 14.796875 37.203125 14.796875 27.296875 \nz\n\" id=\"DejaVuSans-100\"/>\n       <path d=\"M 9.421875 54.6875 \nL 18.40625 54.6875 \nL 18.40625 0 \nL 9.421875 0 \nz\nM 9.421875 75.984375 \nL 18.40625 75.984375 \nL 18.40625 64.59375 \nL 9.421875 64.59375 \nz\n\" id=\"DejaVuSans-105\"/>\n       <path d=\"M 48.78125 52.59375 \nL 48.78125 44.1875 \nQ 44.96875 46.296875 41.140625 47.34375 \nQ 37.3125 48.390625 33.40625 48.390625 \nQ 24.65625 48.390625 19.8125 42.84375 \nQ 14.984375 37.3125 14.984375 27.296875 \nQ 14.984375 17.28125 19.8125 11.734375 \nQ 24.65625 6.203125 33.40625 6.203125 \nQ 37.3125 6.203125 41.140625 7.25 \nQ 44.96875 8.296875 48.78125 10.40625 \nL 48.78125 2.09375 \nQ 45.015625 0.34375 40.984375 -0.53125 \nQ 36.96875 -1.421875 32.421875 -1.421875 \nQ 20.0625 -1.421875 12.78125 6.34375 \nQ 5.515625 14.109375 5.515625 27.296875 \nQ 5.515625 40.671875 12.859375 48.328125 \nQ 20.21875 56 33.015625 56 \nQ 37.15625 56 41.109375 55.140625 \nQ 45.0625 54.296875 48.78125 52.59375 \nz\n\" id=\"DejaVuSans-99\"/>\n       <path d=\"M 18.3125 70.21875 \nL 18.3125 54.6875 \nL 36.8125 54.6875 \nL 36.8125 47.703125 \nL 18.3125 47.703125 \nL 18.3125 18.015625 \nQ 18.3125 11.328125 20.140625 9.421875 \nQ 21.96875 7.515625 27.59375 7.515625 \nL 36.8125 7.515625 \nL 36.8125 0 \nL 27.59375 0 \nQ 17.1875 0 13.234375 3.875 \nQ 9.28125 7.765625 9.28125 18.015625 \nL 9.28125 47.703125 \nL 2.6875 47.703125 \nL 2.6875 54.6875 \nL 9.28125 54.6875 \nL 9.28125 70.21875 \nz\n\" id=\"DejaVuSans-116\"/>\n      </defs>\n      <use xlink:href=\"#DejaVuSans-80\"/>\n      <use x=\"58.552734\" xlink:href=\"#DejaVuSans-114\"/>\n      <use x=\"97.416016\" xlink:href=\"#DejaVuSans-101\"/>\n      <use x=\"158.939453\" xlink:href=\"#DejaVuSans-100\"/>\n      <use x=\"222.416016\" xlink:href=\"#DejaVuSans-105\"/>\n      <use x=\"250.199219\" xlink:href=\"#DejaVuSans-99\"/>\n      <use x=\"305.179688\" xlink:href=\"#DejaVuSans-116\"/>\n      <use x=\"344.388672\" xlink:href=\"#DejaVuSans-101\"/>\n      <use x=\"405.912109\" xlink:href=\"#DejaVuSans-100\"/>\n     </g>\n    </g>\n   </g>\n   <g id=\"matplotlib.axis_2\">\n    <g id=\"ytick_1\">\n     <g id=\"line2d_5\">\n      <defs>\n       <path d=\"M 0 0 \nL -3.5 0 \n\" id=\"m17e7e4cd8f\" style=\"stroke:#000000;stroke-width:0.8;\"/>\n      </defs>\n      <g>\n       <use style=\"stroke:#000000;stroke-width:0.8;\" x=\"37.55625\" xlink:href=\"#m17e7e4cd8f\" y=\"54.765\"/>\n      </g>\n     </g>\n     <g id=\"text_6\">\n      <!-- 0 -->\n      <g transform=\"translate(28.476562 57.328281)rotate(-90)scale(0.1 -0.1)\">\n       <use xlink:href=\"#DejaVuSans-48\"/>\n      </g>\n     </g>\n    </g>\n    <g id=\"ytick_2\">\n     <g id=\"line2d_6\">\n      <g>\n       <use style=\"stroke:#000000;stroke-width:0.8;\" x=\"37.55625\" xlink:href=\"#m17e7e4cd8f\" y=\"149.895\"/>\n      </g>\n     </g>\n     <g id=\"text_7\">\n      <!-- 1 -->\n      <g transform=\"translate(28.476562 152.458281)rotate(-90)scale(0.1 -0.1)\">\n       <use xlink:href=\"#DejaVuSans-49\"/>\n      </g>\n     </g>\n    </g>\n    <g id=\"ytick_3\">\n     <g id=\"line2d_7\">\n      <g>\n       <use style=\"stroke:#000000;stroke-width:0.8;\" x=\"37.55625\" xlink:href=\"#m17e7e4cd8f\" y=\"245.025\"/>\n      </g>\n     </g>\n     <g id=\"text_8\">\n      <!-- 2 -->\n      <g transform=\"translate(28.476562 247.588281)rotate(-90)scale(0.1 -0.1)\">\n       <use xlink:href=\"#DejaVuSans-50\"/>\n      </g>\n     </g>\n    </g>\n    <g id=\"ytick_4\">\n     <g id=\"line2d_8\">\n      <g>\n       <use style=\"stroke:#000000;stroke-width:0.8;\" x=\"37.55625\" xlink:href=\"#m17e7e4cd8f\" y=\"340.155\"/>\n      </g>\n     </g>\n     <g id=\"text_9\">\n      <!-- 3 -->\n      <g transform=\"translate(28.476562 342.718281)rotate(-90)scale(0.1 -0.1)\">\n       <use xlink:href=\"#DejaVuSans-51\"/>\n      </g>\n     </g>\n    </g>\n    <g id=\"text_10\">\n     <!-- Truth -->\n     <g transform=\"translate(14.798437 210.129531)rotate(-90)scale(0.1 -0.1)\">\n      <defs>\n       <path d=\"M -0.296875 72.90625 \nL 61.375 72.90625 \nL 61.375 64.59375 \nL 35.5 64.59375 \nL 35.5 0 \nL 25.59375 0 \nL 25.59375 64.59375 \nL -0.296875 64.59375 \nz\n\" id=\"DejaVuSans-84\"/>\n       <path d=\"M 8.5 21.578125 \nL 8.5 54.6875 \nL 17.484375 54.6875 \nL 17.484375 21.921875 \nQ 17.484375 14.15625 20.5 10.265625 \nQ 23.53125 6.390625 29.59375 6.390625 \nQ 36.859375 6.390625 41.078125 11.03125 \nQ 45.3125 15.671875 45.3125 23.6875 \nL 45.3125 54.6875 \nL 54.296875 54.6875 \nL 54.296875 0 \nL 45.3125 0 \nL 45.3125 8.40625 \nQ 42.046875 3.421875 37.71875 1 \nQ 33.40625 -1.421875 27.6875 -1.421875 \nQ 18.265625 -1.421875 13.375 4.4375 \nQ 8.5 10.296875 8.5 21.578125 \nz\nM 31.109375 56 \nz\n\" id=\"DejaVuSans-117\"/>\n       <path d=\"M 54.890625 33.015625 \nL 54.890625 0 \nL 45.90625 0 \nL 45.90625 32.71875 \nQ 45.90625 40.484375 42.875 44.328125 \nQ 39.84375 48.1875 33.796875 48.1875 \nQ 26.515625 48.1875 22.3125 43.546875 \nQ 18.109375 38.921875 18.109375 30.90625 \nL 18.109375 0 \nL 9.078125 0 \nL 9.078125 75.984375 \nL 18.109375 75.984375 \nL 18.109375 46.1875 \nQ 21.34375 51.125 25.703125 53.5625 \nQ 30.078125 56 35.796875 56 \nQ 45.21875 56 50.046875 50.171875 \nQ 54.890625 44.34375 54.890625 33.015625 \nz\n\" id=\"DejaVuSans-104\"/>\n      </defs>\n      <use xlink:href=\"#DejaVuSans-84\"/>\n      <use x=\"46.333984\" xlink:href=\"#DejaVuSans-114\"/>\n      <use x=\"87.447266\" xlink:href=\"#DejaVuSans-117\"/>\n      <use x=\"150.826172\" xlink:href=\"#DejaVuSans-116\"/>\n      <use x=\"190.035156\" xlink:href=\"#DejaVuSans-104\"/>\n     </g>\n    </g>\n   </g>\n   <g id=\"text_11\">\n    <!-- 10234 -->\n    <g style=\"fill:#ffffff;\" transform=\"translate(77.45 57.524375)scale(0.1 -0.1)\">\n     <defs>\n      <path d=\"M 37.796875 64.3125 \nL 12.890625 25.390625 \nL 37.796875 25.390625 \nz\nM 35.203125 72.90625 \nL 47.609375 72.90625 \nL 47.609375 25.390625 \nL 58.015625 25.390625 \nL 58.015625 17.1875 \nL 47.609375 17.1875 \nL 47.609375 0 \nL 37.796875 0 \nL 37.796875 17.1875 \nL 4.890625 17.1875 \nL 4.890625 26.703125 \nz\n\" id=\"DejaVuSans-52\"/>\n     </defs>\n     <use xlink:href=\"#DejaVuSans-49\"/>\n     <use x=\"63.623047\" xlink:href=\"#DejaVuSans-48\"/>\n     <use x=\"127.246094\" xlink:href=\"#DejaVuSans-50\"/>\n     <use x=\"190.869141\" xlink:href=\"#DejaVuSans-51\"/>\n     <use x=\"254.492188\" xlink:href=\"#DejaVuSans-52\"/>\n    </g>\n   </g>\n   <g id=\"text_12\">\n    <!-- 5 -->\n    <g style=\"fill:#ffffff;\" transform=\"translate(201.775 57.524375)scale(0.1 -0.1)\">\n     <defs>\n      <path d=\"M 10.796875 72.90625 \nL 49.515625 72.90625 \nL 49.515625 64.59375 \nL 19.828125 64.59375 \nL 19.828125 46.734375 \nQ 21.96875 47.46875 24.109375 47.828125 \nQ 26.265625 48.1875 28.421875 48.1875 \nQ 40.625 48.1875 47.75 41.5 \nQ 54.890625 34.8125 54.890625 23.390625 \nQ 54.890625 11.625 47.5625 5.09375 \nQ 40.234375 -1.421875 26.90625 -1.421875 \nQ 22.3125 -1.421875 17.546875 -0.640625 \nQ 12.796875 0.140625 7.71875 1.703125 \nL 7.71875 11.625 \nQ 12.109375 9.234375 16.796875 8.0625 \nQ 21.484375 6.890625 26.703125 6.890625 \nQ 35.15625 6.890625 40.078125 11.328125 \nQ 45.015625 15.765625 45.015625 23.390625 \nQ 45.015625 31 40.078125 35.4375 \nQ 35.15625 39.890625 26.703125 39.890625 \nQ 22.75 39.890625 18.8125 39.015625 \nQ 14.890625 38.140625 10.796875 36.28125 \nz\n\" id=\"DejaVuSans-53\"/>\n     </defs>\n     <use xlink:href=\"#DejaVuSans-53\"/>\n    </g>\n   </g>\n   <g id=\"text_13\">\n    <!-- 2 -->\n    <g style=\"fill:#ffffff;\" transform=\"translate(313.375 57.524375)scale(0.1 -0.1)\">\n     <use xlink:href=\"#DejaVuSans-50\"/>\n    </g>\n   </g>\n   <g id=\"text_14\">\n    <!-- 0 -->\n    <g style=\"fill:#ffffff;\" transform=\"translate(424.975 57.524375)scale(0.1 -0.1)\">\n     <use xlink:href=\"#DejaVuSans-48\"/>\n    </g>\n   </g>\n   <g id=\"text_15\">\n    <!-- 1 -->\n    <g style=\"fill:#ffffff;\" transform=\"translate(90.175 152.654375)scale(0.1 -0.1)\">\n     <use xlink:href=\"#DejaVuSans-49\"/>\n    </g>\n   </g>\n   <g id=\"text_16\">\n    <!-- 14371 -->\n    <g style=\"fill:#262626;\" transform=\"translate(189.05 152.654375)scale(0.1 -0.1)\">\n     <defs>\n      <path d=\"M 8.203125 72.90625 \nL 55.078125 72.90625 \nL 55.078125 68.703125 \nL 28.609375 0 \nL 18.3125 0 \nL 43.21875 64.59375 \nL 8.203125 64.59375 \nz\n\" id=\"DejaVuSans-55\"/>\n     </defs>\n     <use xlink:href=\"#DejaVuSans-49\"/>\n     <use x=\"63.623047\" xlink:href=\"#DejaVuSans-52\"/>\n     <use x=\"127.246094\" xlink:href=\"#DejaVuSans-51\"/>\n     <use x=\"190.869141\" xlink:href=\"#DejaVuSans-55\"/>\n     <use x=\"254.492188\" xlink:href=\"#DejaVuSans-49\"/>\n    </g>\n   </g>\n   <g id=\"text_17\">\n    <!-- 0 -->\n    <g style=\"fill:#ffffff;\" transform=\"translate(313.375 152.654375)scale(0.1 -0.1)\">\n     <use xlink:href=\"#DejaVuSans-48\"/>\n    </g>\n   </g>\n   <g id=\"text_18\">\n    <!-- 0 -->\n    <g style=\"fill:#ffffff;\" transform=\"translate(424.975 152.654375)scale(0.1 -0.1)\">\n     <use xlink:href=\"#DejaVuSans-48\"/>\n    </g>\n   </g>\n   <g id=\"text_19\">\n    <!-- 48 -->\n    <g style=\"fill:#ffffff;\" transform=\"translate(86.99375 247.784375)scale(0.1 -0.1)\">\n     <defs>\n      <path d=\"M 31.78125 34.625 \nQ 24.75 34.625 20.71875 30.859375 \nQ 16.703125 27.09375 16.703125 20.515625 \nQ 16.703125 13.921875 20.71875 10.15625 \nQ 24.75 6.390625 31.78125 6.390625 \nQ 38.8125 6.390625 42.859375 10.171875 \nQ 46.921875 13.96875 46.921875 20.515625 \nQ 46.921875 27.09375 42.890625 30.859375 \nQ 38.875 34.625 31.78125 34.625 \nz\nM 21.921875 38.8125 \nQ 15.578125 40.375 12.03125 44.71875 \nQ 8.5 49.078125 8.5 55.328125 \nQ 8.5 64.0625 14.71875 69.140625 \nQ 20.953125 74.21875 31.78125 74.21875 \nQ 42.671875 74.21875 48.875 69.140625 \nQ 55.078125 64.0625 55.078125 55.328125 \nQ 55.078125 49.078125 51.53125 44.71875 \nQ 48 40.375 41.703125 38.8125 \nQ 48.828125 37.15625 52.796875 32.3125 \nQ 56.78125 27.484375 56.78125 20.515625 \nQ 56.78125 9.90625 50.3125 4.234375 \nQ 43.84375 -1.421875 31.78125 -1.421875 \nQ 19.734375 -1.421875 13.25 4.234375 \nQ 6.78125 9.90625 6.78125 20.515625 \nQ 6.78125 27.484375 10.78125 32.3125 \nQ 14.796875 37.15625 21.921875 38.8125 \nz\nM 18.3125 54.390625 \nQ 18.3125 48.734375 21.84375 45.5625 \nQ 25.390625 42.390625 31.78125 42.390625 \nQ 38.140625 42.390625 41.71875 45.5625 \nQ 45.3125 48.734375 45.3125 54.390625 \nQ 45.3125 60.0625 41.71875 63.234375 \nQ 38.140625 66.40625 31.78125 66.40625 \nQ 25.390625 66.40625 21.84375 63.234375 \nQ 18.3125 60.0625 18.3125 54.390625 \nz\n\" id=\"DejaVuSans-56\"/>\n     </defs>\n     <use xlink:href=\"#DejaVuSans-52\"/>\n     <use x=\"63.623047\" xlink:href=\"#DejaVuSans-56\"/>\n    </g>\n   </g>\n   <g id=\"text_20\">\n    <!-- 81 -->\n    <g style=\"fill:#ffffff;\" transform=\"translate(198.59375 247.784375)scale(0.1 -0.1)\">\n     <use xlink:href=\"#DejaVuSans-56\"/>\n     <use x=\"63.623047\" xlink:href=\"#DejaVuSans-49\"/>\n    </g>\n   </g>\n   <g id=\"text_21\">\n    <!-- 4388 -->\n    <g style=\"fill:#ffffff;\" transform=\"translate(303.83125 247.784375)scale(0.1 -0.1)\">\n     <use xlink:href=\"#DejaVuSans-52\"/>\n     <use x=\"63.623047\" xlink:href=\"#DejaVuSans-51\"/>\n     <use x=\"127.246094\" xlink:href=\"#DejaVuSans-56\"/>\n     <use x=\"190.869141\" xlink:href=\"#DejaVuSans-56\"/>\n    </g>\n   </g>\n   <g id=\"text_22\">\n    <!-- 0 -->\n    <g style=\"fill:#ffffff;\" transform=\"translate(424.975 247.784375)scale(0.1 -0.1)\">\n     <use xlink:href=\"#DejaVuSans-48\"/>\n    </g>\n   </g>\n   <g id=\"text_23\">\n    <!-- 40 -->\n    <g style=\"fill:#ffffff;\" transform=\"translate(86.99375 342.914375)scale(0.1 -0.1)\">\n     <use xlink:href=\"#DejaVuSans-52\"/>\n     <use x=\"63.623047\" xlink:href=\"#DejaVuSans-48\"/>\n    </g>\n   </g>\n   <g id=\"text_24\">\n    <!-- 147 -->\n    <g style=\"fill:#ffffff;\" transform=\"translate(195.4125 342.914375)scale(0.1 -0.1)\">\n     <use xlink:href=\"#DejaVuSans-49\"/>\n     <use x=\"63.623047\" xlink:href=\"#DejaVuSans-52\"/>\n     <use x=\"127.246094\" xlink:href=\"#DejaVuSans-55\"/>\n    </g>\n   </g>\n   <g id=\"text_25\">\n    <!-- 18 -->\n    <g style=\"fill:#ffffff;\" transform=\"translate(310.19375 342.914375)scale(0.1 -0.1)\">\n     <use xlink:href=\"#DejaVuSans-49\"/>\n     <use x=\"63.623047\" xlink:href=\"#DejaVuSans-56\"/>\n    </g>\n   </g>\n   <g id=\"text_26\">\n    <!-- 776 -->\n    <g style=\"fill:#ffffff;\" transform=\"translate(418.6125 342.914375)scale(0.1 -0.1)\">\n     <defs>\n      <path d=\"M 33.015625 40.375 \nQ 26.375 40.375 22.484375 35.828125 \nQ 18.609375 31.296875 18.609375 23.390625 \nQ 18.609375 15.53125 22.484375 10.953125 \nQ 26.375 6.390625 33.015625 6.390625 \nQ 39.65625 6.390625 43.53125 10.953125 \nQ 47.40625 15.53125 47.40625 23.390625 \nQ 47.40625 31.296875 43.53125 35.828125 \nQ 39.65625 40.375 33.015625 40.375 \nz\nM 52.59375 71.296875 \nL 52.59375 62.3125 \nQ 48.875 64.0625 45.09375 64.984375 \nQ 41.3125 65.921875 37.59375 65.921875 \nQ 27.828125 65.921875 22.671875 59.328125 \nQ 17.53125 52.734375 16.796875 39.40625 \nQ 19.671875 43.65625 24.015625 45.921875 \nQ 28.375 48.1875 33.59375 48.1875 \nQ 44.578125 48.1875 50.953125 41.515625 \nQ 57.328125 34.859375 57.328125 23.390625 \nQ 57.328125 12.15625 50.6875 5.359375 \nQ 44.046875 -1.421875 33.015625 -1.421875 \nQ 20.359375 -1.421875 13.671875 8.265625 \nQ 6.984375 17.96875 6.984375 36.375 \nQ 6.984375 53.65625 15.1875 63.9375 \nQ 23.390625 74.21875 37.203125 74.21875 \nQ 40.921875 74.21875 44.703125 73.484375 \nQ 48.484375 72.75 52.59375 71.296875 \nz\n\" id=\"DejaVuSans-54\"/>\n     </defs>\n     <use xlink:href=\"#DejaVuSans-55\"/>\n     <use x=\"63.623047\" xlink:href=\"#DejaVuSans-55\"/>\n     <use x=\"127.246094\" xlink:href=\"#DejaVuSans-54\"/>\n    </g>\n   </g>\n  </g>\n  <g id=\"axes_2\">\n   <g id=\"patch_3\">\n    <path clip-path=\"url(#pfcd0ae7f0c)\" d=\"M 511.85625 387.72 \nL 511.85625 386.233594 \nL 511.85625 8.686406 \nL 511.85625 7.2 \nL 530.88225 7.2 \nL 530.88225 8.686406 \nL 530.88225 386.233594 \nL 530.88225 387.72 \nz\n\" style=\"fill:#ffffff;stroke:#ffffff;stroke-linejoin:miter;stroke-width:0.01;\"/>\n   </g>\n   <image height=\"380\" id=\"image41ce9e546d\" transform=\"scale(1 -1)translate(0 -380)\" width=\"19\" x=\"512\" xlink:href=\"data:image/png;base64,\niVBORw0KGgoAAAANSUhEUgAAABMAAAF8CAYAAAAthYD3AAAB+ElEQVR4nO2d0a3DMAwDrdRvibf/nu0MCu7jAFIDED2TkhUgbefz9/89UN2hlM45d4aTezClA3+yO4cU057ZYz0zM6bXzYZ2LSbGzHATnbRkNMS3ExmNYu7rznB6MfdmMbdVzH3FYGasByGY7BakDW3IesCGFpNyL8jtgLWYGJN1k6u6ua8UN0N2DVItZUH2hjbl3iTFvFtQTG+CYiGYKb2pxWxo92JkNLoe7Mvbmz2zfcEdgL1ilOQmV+J5Zh7bpBjYAQ3tvurmC7EQN0frJvxUx5V4PeiFsi71COI4xaH19ibr5lfrJilmHkGcAeoRRGJiUvJGl56ZGlM7z8AZhJ6ZeWyDDwK0m2BoxbcTihniJmgn/cYSOWm1bpIGxIQWXB3NbooxM3oTlBP3Jpkz84WCYop7kxTzYqb0JiqGdgCmBZ/ZYXcNTMsdDU4MdrOYa7EYTOsbS8V8I2bFJA1Az4x2k3wxS+smiikOLfmNPy8m7Cb34cSYKb0JrkFmTK2bA7aTGJPMmRnT6mZKo5PtJMYMcVO8a7CboxbTOs/Ut5PVTfYZXTyCItxMGUEZvcmGVvuTGDG9Wcy1WDG3Ze7NkPUgJBoZmDMfTsyLqe2AYu7rnocMrRgzws2UEZRxocCYXDTUmFY30T8K8WI2tC/EtG42tC/ErKH9AbQcLrd0m9O8AAAAAElFTkSuQmCC\" y=\"-7\"/>\n   <g id=\"matplotlib.axis_3\"/>\n   <g id=\"matplotlib.axis_4\">\n    <g id=\"ytick_5\">\n     <g id=\"line2d_9\">\n      <defs>\n       <path d=\"M 0 0 \nL 3.5 0 \n\" id=\"m5c0e130a9d\" style=\"stroke:#000000;stroke-width:0.8;\"/>\n      </defs>\n      <g>\n       <use style=\"stroke:#000000;stroke-width:0.8;\" x=\"530.88225\" xlink:href=\"#m5c0e130a9d\" y=\"387.72\"/>\n      </g>\n     </g>\n     <g id=\"text_27\">\n      <!-- 0 -->\n      <g transform=\"translate(537.88225 391.519219)scale(0.1 -0.1)\">\n       <use xlink:href=\"#DejaVuSans-48\"/>\n      </g>\n     </g>\n    </g>\n    <g id=\"ytick_6\">\n     <g id=\"line2d_10\">\n      <g>\n       <use style=\"stroke:#000000;stroke-width:0.8;\" x=\"530.88225\" xlink:href=\"#m5c0e130a9d\" y=\"334.763351\"/>\n      </g>\n     </g>\n     <g id=\"text_28\">\n      <!-- 2000 -->\n      <g transform=\"translate(537.88225 338.56257)scale(0.1 -0.1)\">\n       <use xlink:href=\"#DejaVuSans-50\"/>\n       <use x=\"63.623047\" xlink:href=\"#DejaVuSans-48\"/>\n       <use x=\"127.246094\" xlink:href=\"#DejaVuSans-48\"/>\n       <use x=\"190.869141\" xlink:href=\"#DejaVuSans-48\"/>\n      </g>\n     </g>\n    </g>\n    <g id=\"ytick_7\">\n     <g id=\"line2d_11\">\n      <g>\n       <use style=\"stroke:#000000;stroke-width:0.8;\" x=\"530.88225\" xlink:href=\"#m5c0e130a9d\" y=\"281.806702\"/>\n      </g>\n     </g>\n     <g id=\"text_29\">\n      <!-- 4000 -->\n      <g transform=\"translate(537.88225 285.605921)scale(0.1 -0.1)\">\n       <use xlink:href=\"#DejaVuSans-52\"/>\n       <use x=\"63.623047\" xlink:href=\"#DejaVuSans-48\"/>\n       <use x=\"127.246094\" xlink:href=\"#DejaVuSans-48\"/>\n       <use x=\"190.869141\" xlink:href=\"#DejaVuSans-48\"/>\n      </g>\n     </g>\n    </g>\n    <g id=\"ytick_8\">\n     <g id=\"line2d_12\">\n      <g>\n       <use style=\"stroke:#000000;stroke-width:0.8;\" x=\"530.88225\" xlink:href=\"#m5c0e130a9d\" y=\"228.850054\"/>\n      </g>\n     </g>\n     <g id=\"text_30\">\n      <!-- 6000 -->\n      <g transform=\"translate(537.88225 232.649272)scale(0.1 -0.1)\">\n       <use xlink:href=\"#DejaVuSans-54\"/>\n       <use x=\"63.623047\" xlink:href=\"#DejaVuSans-48\"/>\n       <use x=\"127.246094\" xlink:href=\"#DejaVuSans-48\"/>\n       <use x=\"190.869141\" xlink:href=\"#DejaVuSans-48\"/>\n      </g>\n     </g>\n    </g>\n    <g id=\"ytick_9\">\n     <g id=\"line2d_13\">\n      <g>\n       <use style=\"stroke:#000000;stroke-width:0.8;\" x=\"530.88225\" xlink:href=\"#m5c0e130a9d\" y=\"175.893405\"/>\n      </g>\n     </g>\n     <g id=\"text_31\">\n      <!-- 8000 -->\n      <g transform=\"translate(537.88225 179.692624)scale(0.1 -0.1)\">\n       <use xlink:href=\"#DejaVuSans-56\"/>\n       <use x=\"63.623047\" xlink:href=\"#DejaVuSans-48\"/>\n       <use x=\"127.246094\" xlink:href=\"#DejaVuSans-48\"/>\n       <use x=\"190.869141\" xlink:href=\"#DejaVuSans-48\"/>\n      </g>\n     </g>\n    </g>\n    <g id=\"ytick_10\">\n     <g id=\"line2d_14\">\n      <g>\n       <use style=\"stroke:#000000;stroke-width:0.8;\" x=\"530.88225\" xlink:href=\"#m5c0e130a9d\" y=\"122.936756\"/>\n      </g>\n     </g>\n     <g id=\"text_32\">\n      <!-- 10000 -->\n      <g transform=\"translate(537.88225 126.735975)scale(0.1 -0.1)\">\n       <use xlink:href=\"#DejaVuSans-49\"/>\n       <use x=\"63.623047\" xlink:href=\"#DejaVuSans-48\"/>\n       <use x=\"127.246094\" xlink:href=\"#DejaVuSans-48\"/>\n       <use x=\"190.869141\" xlink:href=\"#DejaVuSans-48\"/>\n       <use x=\"254.492188\" xlink:href=\"#DejaVuSans-48\"/>\n      </g>\n     </g>\n    </g>\n    <g id=\"ytick_11\">\n     <g id=\"line2d_15\">\n      <g>\n       <use style=\"stroke:#000000;stroke-width:0.8;\" x=\"530.88225\" xlink:href=\"#m5c0e130a9d\" y=\"69.980107\"/>\n      </g>\n     </g>\n     <g id=\"text_33\">\n      <!-- 12000 -->\n      <g transform=\"translate(537.88225 73.779326)scale(0.1 -0.1)\">\n       <use xlink:href=\"#DejaVuSans-49\"/>\n       <use x=\"63.623047\" xlink:href=\"#DejaVuSans-50\"/>\n       <use x=\"127.246094\" xlink:href=\"#DejaVuSans-48\"/>\n       <use x=\"190.869141\" xlink:href=\"#DejaVuSans-48\"/>\n       <use x=\"254.492188\" xlink:href=\"#DejaVuSans-48\"/>\n      </g>\n     </g>\n    </g>\n    <g id=\"ytick_12\">\n     <g id=\"line2d_16\">\n      <g>\n       <use style=\"stroke:#000000;stroke-width:0.8;\" x=\"530.88225\" xlink:href=\"#m5c0e130a9d\" y=\"17.023458\"/>\n      </g>\n     </g>\n     <g id=\"text_34\">\n      <!-- 14000 -->\n      <g transform=\"translate(537.88225 20.822677)scale(0.1 -0.1)\">\n       <use xlink:href=\"#DejaVuSans-49\"/>\n       <use x=\"63.623047\" xlink:href=\"#DejaVuSans-52\"/>\n       <use x=\"127.246094\" xlink:href=\"#DejaVuSans-48\"/>\n       <use x=\"190.869141\" xlink:href=\"#DejaVuSans-48\"/>\n       <use x=\"254.492188\" xlink:href=\"#DejaVuSans-48\"/>\n      </g>\n     </g>\n    </g>\n   </g>\n   <g id=\"patch_4\">\n    <path d=\"M 511.85625 387.72 \nL 511.85625 386.233594 \nL 511.85625 8.686406 \nL 511.85625 7.2 \nL 530.88225 7.2 \nL 530.88225 8.686406 \nL 530.88225 386.233594 \nL 530.88225 387.72 \nz\n\" style=\"fill:none;\"/>\n   </g>\n  </g>\n </g>\n <defs>\n  <clipPath id=\"p343bcd83b7\">\n   <rect height=\"380.52\" width=\"446.4\" x=\"37.55625\" y=\"7.2\"/>\n  </clipPath>\n  <clipPath id=\"pfcd0ae7f0c\">\n   <rect height=\"380.52\" width=\"19.026\" x=\"511.85625\" y=\"7.2\"/>\n  </clipPath>\n </defs>\n</svg>\n",
      "image/png": "[encoded data removed]"
     },
     "metadata": {
      "needs_background": "light"
     }
    }
   ],
   "source": [
    "cmrforest = confusion_matrix(Y.values, Y_train_predicted)\n",
    "\n",
    "plt.figure(figsize=(10,7))\n",
    "sn.heatmap(cmrforest ,annot=True , fmt = 'd')\n",
    "plt.xlabel('Predicted')\n",
    "plt.ylabel('Truth')\n",
    "rforest.score(X,Y)"
   ]
  },
  {
   "source": [
    "# Making predictions on test data"
   ],
   "cell_type": "markdown",
   "metadata": {}
  },
  {
   "cell_type": "code",
   "execution_count": 157,
   "metadata": {},
   "outputs": [],
   "source": [
    "X_test = test.drop(['id'],axis=1)\n",
    "X_test.fillna(X_test.mean(skipna=True), inplace=True)"
   ]
  },
  {
   "cell_type": "code",
   "execution_count": 158,
   "metadata": {},
   "outputs": [],
   "source": [
    "Y_predicted = rforest.predict(X_test)"
   ]
  },
  {
   "cell_type": "code",
   "execution_count": 160,
   "metadata": {},
   "outputs": [
    {
     "output_type": "execute_result",
     "data": {
      "text/plain": [
       "   id  column_5\n",
       "0   0         1\n",
       "1   1         1\n",
       "2   2         1\n",
       "3   3         1\n",
       "4   4         1"
      ],
      "text/html": "<div>\n<style scoped>\n    .dataframe tbody tr th:only-of-type {\n        vertical-align: middle;\n    }\n\n    .dataframe tbody tr th {\n        vertical-align: top;\n    }\n\n    .dataframe thead th {\n        text-align: right;\n    }\n</style>\n<table border=\"1\" class=\"dataframe\">\n  <thead>\n    <tr style=\"text-align: right;\">\n      <th></th>\n      <th>id</th>\n      <th>column_5</th>\n    </tr>\n  </thead>\n  <tbody>\n    <tr>\n      <th>0</th>\n      <td>0</td>\n      <td>1</td>\n    </tr>\n    <tr>\n      <th>1</th>\n      <td>1</td>\n      <td>1</td>\n    </tr>\n    <tr>\n      <th>2</th>\n      <td>2</td>\n      <td>1</td>\n    </tr>\n    <tr>\n      <th>3</th>\n      <td>3</td>\n      <td>1</td>\n    </tr>\n    <tr>\n      <th>4</th>\n      <td>4</td>\n      <td>1</td>\n    </tr>\n  </tbody>\n</table>\n</div>"
     },
     "metadata": {},
     "execution_count": 160
    }
   ],
   "source": [
    "index = np.arange(0, Y_predicted.shape[0])\n",
    "data = {'id':index, 'column_5':Y_predicted}\n",
    "df = pd.DataFrame(data=data)\n",
    "df.head()"
   ]
  },
  {
   "cell_type": "code",
   "execution_count": 161,
   "metadata": {},
   "outputs": [],
   "source": [
    "df.to_csv('out.csv', index=False)"
   ]
  }
 ]
}