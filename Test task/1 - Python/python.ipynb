{
 "metadata": {
  "language_info": {
   "codemirror_mode": {
    "name": "ipython",
    "version": 3
   },
   "file_extension": ".py",
   "mimetype": "text/x-python",
   "name": "python",
   "nbconvert_exporter": "python",
   "pygments_lexer": "ipython3",
   "version": "3.8.5-final"
  },
  "orig_nbformat": 2,
  "kernelspec": {
   "name": "python38564bitbasecondafca1e29cefa54f57b261bfb4c3ce0277",
   "display_name": "Python 3.8.5 64-bit ('base': conda)"
  }
 },
 "nbformat": 4,
 "nbformat_minor": 2,
 "cells": [
  {
   "source": [
    "# Task #1"
   ],
   "cell_type": "markdown",
   "metadata": {}
  },
  {
   "source": [
    "Описание: Реализуйте функцию, определяющая, является ли одна строка перестановкой другой (полиндром). Под перестановкой понимаем любое изменение порядка символов. Регистр учитывается, пробелы являются существенными."
   ],
   "cell_type": "markdown",
   "metadata": {}
  },
  {
   "cell_type": "code",
   "execution_count": 1,
   "metadata": {},
   "outputs": [],
   "source": [
    "import string"
   ]
  },
  {
   "cell_type": "code",
   "execution_count": 33,
   "metadata": {},
   "outputs": [],
   "source": [
    "def palindrome_check(str_a, str_b):\n",
    "    a = str_a.split()\n",
    "    a.sort()\n",
    "\n",
    "    b = str_b.split()\n",
    "    b.sort()\n",
    "    \n",
    "    if a==b:\n",
    "        print('Строка ' + str_a + ' является перестановкой строки ' + str_b)\n",
    "    else:\n",
    "        print('Строка ' + str_a + ' НЕ является перестановкой строки ' + str_b)\n"
   ]
  },
  {
   "cell_type": "code",
   "execution_count": 34,
   "metadata": {},
   "outputs": [
    {
     "output_type": "stream",
     "name": "stdout",
     "text": [
      "Строка a b b a является перестановкой строки b b a a\n"
     ]
    }
   ],
   "source": [
    "a = 'a b b a'\n",
    "b = 'b b a a'\n",
    "\n",
    "palindrome_check(a,b)"
   ]
  },
  {
   "source": [
    "# Task #2"
   ],
   "cell_type": "markdown",
   "metadata": {}
  },
  {
   "source": [
    "Описание: Реализуйте функцию сжатия строки на основе счетчика повторяющихся символов. Например, строка aabcccccaaa должна превратиться в а2b1с5аЗ. Если «сжатая» строка оказывается длиннее исходной, метод должен вернуть исходную строку. "
   ],
   "cell_type": "markdown",
   "metadata": {}
  },
  {
   "cell_type": "code",
   "execution_count": 71,
   "metadata": {},
   "outputs": [],
   "source": [
    "def str_compression(s):\n",
    "    s = s.split()\n",
    "    new_s = \"\"\n",
    "    for x in list(dict.fromkeys(s)):\n",
    "        c = s.count(x)\n",
    "        new_s += x\n",
    "        new_s += str(c)\n",
    "    if len(new_s) > len(s):\n",
    "        return s\n",
    "    else:\n",
    "        return new_s"
   ]
  },
  {
   "cell_type": "code",
   "execution_count": 72,
   "metadata": {},
   "outputs": [
    {
     "output_type": "stream",
     "name": "stdout",
     "text": [
      "['a', 'o', 'b', 'm', 'b', 'b', 'm', 'm', 'm', 'a', 'o', 'o', 'o', 'o']\n"
     ]
    },
    {
     "output_type": "execute_result",
     "data": {
      "text/plain": [
       "'a2o5b3m4'"
      ]
     },
     "metadata": {},
     "execution_count": 72
    }
   ],
   "source": [
    "s = 'a o b m  b b m m m a o o o o'\n",
    "str_compression(s)"
   ]
  },
  {
   "source": [
    "# Task #3"
   ],
   "cell_type": "markdown",
   "metadata": {}
  },
  {
   "source": [
    "Описание: Написать отдельный скрипт, принимающий из командной строки число, количество последних строчек, которые нужно прочесть из файла и вывести в консоль. Напишите  предварительно отдельный скрипт, который генерирует текстовый файл и наполняет его случайными числами. Количество строк передается из командной строки. "
   ],
   "cell_type": "markdown",
   "metadata": {}
  },
  {
   "source": [
    "** Скрипт 1 **\n"
   ],
   "cell_type": "markdown",
   "metadata": {}
  },
  {
   "cell_type": "code",
   "execution_count": 80,
   "metadata": {},
   "outputs": [],
   "source": [
    "import random"
   ]
  },
  {
   "cell_type": "code",
   "execution_count": 83,
   "metadata": {},
   "outputs": [],
   "source": [
    "def generate_file():\n",
    "    n = int(input('Введите кол-во строк'))\n",
    "    f = open(\"file.txt\",\"w+\")\n",
    "    for i in range(n):\n",
    "        f.write(\"%d\\n\" % (random.randint(0,1000)))\n",
    "    f.close()"
   ]
  },
  {
   "cell_type": "code",
   "execution_count": 84,
   "metadata": {},
   "outputs": [],
   "source": [
    "generate_file()"
   ]
  },
  {
   "source": [
    "** Скрипт 2 **"
   ],
   "cell_type": "markdown",
   "metadata": {}
  },
  {
   "cell_type": "code",
   "execution_count": 119,
   "metadata": {},
   "outputs": [],
   "source": [
    "def read_file(x):\n",
    "    f = open(x, 'r')\n",
    "    n = int(input('Введите кол-во строк, которые нужно прочесть'))\n",
    "\n",
    "    lines = f.readlines()\n",
    "    lines.reverse()\n",
    "    lines = lines[0:n]\n",
    "\n",
    "    for l in reversed(lines):\n",
    "        print(l)"
   ]
  },
  {
   "cell_type": "code",
   "execution_count": 120,
   "metadata": {},
   "outputs": [
    {
     "output_type": "stream",
     "name": "stdout",
     "text": [
      "71\n\n0\n\n43\n"
     ]
    }
   ],
   "source": [
    "read_file('file.txt')"
   ]
  }
 ]
}