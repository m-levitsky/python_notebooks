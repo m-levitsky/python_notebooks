{
 "metadata": {
  "language_info": {
   "codemirror_mode": {
    "name": "ipython",
    "version": 3
   },
   "file_extension": ".py",
   "mimetype": "text/x-python",
   "name": "python",
   "nbconvert_exporter": "python",
   "pygments_lexer": "ipython3",
   "version": "3.8.5-final"
  },
  "orig_nbformat": 2,
  "kernelspec": {
   "name": "python38564bitbasecondafca1e29cefa54f57b261bfb4c3ce0277",
   "display_name": "Python 3.8.5 64-bit ('base': conda)"
  }
 },
 "nbformat": 4,
 "nbformat_minor": 2,
 "cells": [
  {
   "source": [
    "# 2. Machine Learning"
   ],
   "cell_type": "markdown",
   "metadata": {}
  },
  {
   "source": [
    "1. Построить модель (при помощи Python) прогнозирование дефолта клиента на аппликационных и поведенческих данных из сайта с помощью логистической регрессии, спрогнозировать вероятность не выполнения обязательств перед компанией. Финальную модель логистической регрессии необходимо отобразить в Excel (параметры, группы и баллы)."
   ],
   "cell_type": "markdown",
   "metadata": {}
  },
  {
   "cell_type": "code",
   "execution_count": 1,
   "metadata": {},
   "outputs": [],
   "source": [
    "import gc\n",
    "\n",
    "import numpy as np\n",
    "import pandas as pd\n",
    "\n",
    "import matplotlib.pyplot as plt\n",
    "import seaborn as sns\n",
    "\n",
    "from pprint import pprint\n",
    "\n",
    "from sklearn.preprocessing import LabelEncoder, StandardScaler\n",
    "from sklearn.model_selection import train_test_split, RandomizedSearchCV\n",
    "from sklearn.linear_model import LogisticRegression\n",
    "\n",
    "from sklearn.metrics import auc, roc_curve, accuracy_score, f1_score\n"
   ]
  },
  {
   "source": [
    "# Reading the dataset"
   ],
   "cell_type": "markdown",
   "metadata": {}
  },
  {
   "cell_type": "code",
   "execution_count": 2,
   "metadata": {},
   "outputs": [],
   "source": [
    "# %%time\n",
    "# data = pd.read_excel('data.xlsx')\n",
    "\n",
    "#takes 2 mins to load"
   ]
  },
  {
   "cell_type": "code",
   "execution_count": 3,
   "metadata": {},
   "outputs": [
    {
     "output_type": "stream",
     "name": "stdout",
     "text": [
      "CPU times: user 1.93 s, sys: 172 ms, total: 2.11 s\nWall time: 2.24 s\n"
     ]
    }
   ],
   "source": [
    "%%time \n",
    "data = pd.read_csv('data.csv')\n",
    "\n",
    "#takes 2 seconds"
   ]
  },
  {
   "cell_type": "code",
   "execution_count": 4,
   "metadata": {},
   "outputs": [
    {
     "output_type": "stream",
     "name": "stdout",
     "text": [
      "data shape: (35311, 285)\n"
     ]
    }
   ],
   "source": [
    "print('data shape:', data.shape)"
   ]
  },
  {
   "cell_type": "code",
   "execution_count": 5,
   "metadata": {},
   "outputs": [
    {
     "output_type": "execute_result",
     "data": {
      "text/plain": [
       "  target_flag  crdeal_deallife__loans_cnt__dlrolesub_zaemshik__curr_uah  \\\n",
       "0        good                                               40.0          \n",
       "1        good                                               72.0          \n",
       "2        good                                               77.0          \n",
       "3        good                                                6.0          \n",
       "4        good                                                8.0          \n",
       "\n",
       "   crdeal_deallife__loans_cnt__dlrolesub_zaemshik__curr_not_uah  \\\n",
       "0                                                0.0              \n",
       "1                                                0.0              \n",
       "2                                                0.0              \n",
       "3                                                0.0              \n",
       "4                                                0.0              \n",
       "\n",
       "   crdeal_deallife__loans_cnt__dldonor_bnk  \\\n",
       "0                                      4.0   \n",
       "1                                      2.0   \n",
       "2                                      4.0   \n",
       "3                                      1.0   \n",
       "4                                      5.0   \n",
       "\n",
       "   crdeal_deallife__loans_cnt__dldonor_bnk__opened_lteq_7_days  \\\n",
       "0                                                0.0             \n",
       "1                                                0.0             \n",
       "2                                                0.0             \n",
       "3                                                0.0             \n",
       "4                                                0.0             \n",
       "\n",
       "   crdeal_deallife__loans_cnt__dldonor_bnk__opened_lteq_30_days  \\\n",
       "0                                                0.0              \n",
       "1                                                0.0              \n",
       "2                                                0.0              \n",
       "3                                                0.0              \n",
       "4                                                0.0              \n",
       "\n",
       "   crdeal_deallife__loans_cnt__dldonor_bnk__opened_lteq_45_days  \\\n",
       "0                                                0.0              \n",
       "1                                                0.0              \n",
       "2                                                0.0              \n",
       "3                                                0.0              \n",
       "4                                                0.0              \n",
       "\n",
       "   crdeal_deallife__loans_cnt__dldonor_bnk__opened_lteq_60_days  \\\n",
       "0                                                0.0              \n",
       "1                                                0.0              \n",
       "2                                                0.0              \n",
       "3                                                0.0              \n",
       "4                                                0.0              \n",
       "\n",
       "   crdeal_deallife__loans_cnt__dldonor_bnk__opened_lteq_90_days  \\\n",
       "0                                                0.0              \n",
       "1                                                0.0              \n",
       "2                                                0.0              \n",
       "3                                                0.0              \n",
       "4                                                0.0              \n",
       "\n",
       "   crdeal_deallife__loans_cnt__dldonor_bnk__opened_lteq_120_days  ...  \\\n",
       "0                                                0.0              ...   \n",
       "1                                                0.0              ...   \n",
       "2                                                0.0              ...   \n",
       "3                                                0.0              ...   \n",
       "4                                                0.0              ...   \n",
       "\n",
       "   credres__credit_req_cnt__org_bnk__last_3_5_days  \\\n",
       "0                                              0.0   \n",
       "1                                              1.0   \n",
       "2                                              0.0   \n",
       "3                                              0.0   \n",
       "4                                              0.0   \n",
       "\n",
       "   credres__credit_req_cnt__org_bnk__last_7_days  \\\n",
       "0                                            0.0   \n",
       "1                                            1.0   \n",
       "2                                            0.0   \n",
       "3                                            0.0   \n",
       "4                                            0.0   \n",
       "\n",
       "   credres__credit_req_cnt__org_bnk__last_10_days  \\\n",
       "0                                             0.0   \n",
       "1                                             1.0   \n",
       "2                                             0.0   \n",
       "3                                             0.0   \n",
       "4                                             0.0   \n",
       "\n",
       "   credres__credit_req_cnt__org_bnk__last_13_days  \\\n",
       "0                                             0.0   \n",
       "1                                             1.0   \n",
       "2                                             0.0   \n",
       "3                                             0.0   \n",
       "4                                             0.0   \n",
       "\n",
       "   credres__credit_req_cnt__org_bnk__last_20_days  \\\n",
       "0                                             0.0   \n",
       "1                                             1.0   \n",
       "2                                             0.0   \n",
       "3                                             0.0   \n",
       "4                                             0.0   \n",
       "\n",
       "   credres__credit_req_cnt__org_bnk__last_30_days  \\\n",
       "0                                             0.0   \n",
       "1                                             1.0   \n",
       "2                                             0.0   \n",
       "3                                             0.0   \n",
       "4                                             0.0   \n",
       "\n",
       "   credres__credit_req_cnt__org_bnk__last_60_days  \\\n",
       "0                                             1.0   \n",
       "1                                             1.0   \n",
       "2                                             0.0   \n",
       "3                                             0.0   \n",
       "4                                             0.0   \n",
       "\n",
       "   credres__credit_req_cnt__org_bnk__more_than_90_days  \\\n",
       "0                                                8.0     \n",
       "1                                               14.0     \n",
       "2                                               14.0     \n",
       "3                                                3.0     \n",
       "4                                                1.0     \n",
       "\n",
       "   credres__credit_req_cnt__org_bnk__last_360_days  \\\n",
       "0                                              5.0   \n",
       "1                                              6.0   \n",
       "2                                              5.0   \n",
       "3                                              4.0   \n",
       "4                                              1.0   \n",
       "\n",
       "   credres__credit_req_cnt__org_bnk__more_than_360_days  \n",
       "0                                                4.0     \n",
       "1                                               11.0     \n",
       "2                                                9.0     \n",
       "3                                                0.0     \n",
       "4                                                0.0     \n",
       "\n",
       "[5 rows x 285 columns]"
      ],
      "text/html": "<div>\n<style scoped>\n    .dataframe tbody tr th:only-of-type {\n        vertical-align: middle;\n    }\n\n    .dataframe tbody tr th {\n        vertical-align: top;\n    }\n\n    .dataframe thead th {\n        text-align: right;\n    }\n</style>\n<table border=\"1\" class=\"dataframe\">\n  <thead>\n    <tr style=\"text-align: right;\">\n      <th></th>\n      <th>target_flag</th>\n      <th>crdeal_deallife__loans_cnt__dlrolesub_zaemshik__curr_uah</th>\n      <th>crdeal_deallife__loans_cnt__dlrolesub_zaemshik__curr_not_uah</th>\n      <th>crdeal_deallife__loans_cnt__dldonor_bnk</th>\n      <th>crdeal_deallife__loans_cnt__dldonor_bnk__opened_lteq_7_days</th>\n      <th>crdeal_deallife__loans_cnt__dldonor_bnk__opened_lteq_30_days</th>\n      <th>crdeal_deallife__loans_cnt__dldonor_bnk__opened_lteq_45_days</th>\n      <th>crdeal_deallife__loans_cnt__dldonor_bnk__opened_lteq_60_days</th>\n      <th>crdeal_deallife__loans_cnt__dldonor_bnk__opened_lteq_90_days</th>\n      <th>crdeal_deallife__loans_cnt__dldonor_bnk__opened_lteq_120_days</th>\n      <th>...</th>\n      <th>credres__credit_req_cnt__org_bnk__last_3_5_days</th>\n      <th>credres__credit_req_cnt__org_bnk__last_7_days</th>\n      <th>credres__credit_req_cnt__org_bnk__last_10_days</th>\n      <th>credres__credit_req_cnt__org_bnk__last_13_days</th>\n      <th>credres__credit_req_cnt__org_bnk__last_20_days</th>\n      <th>credres__credit_req_cnt__org_bnk__last_30_days</th>\n      <th>credres__credit_req_cnt__org_bnk__last_60_days</th>\n      <th>credres__credit_req_cnt__org_bnk__more_than_90_days</th>\n      <th>credres__credit_req_cnt__org_bnk__last_360_days</th>\n      <th>credres__credit_req_cnt__org_bnk__more_than_360_days</th>\n    </tr>\n  </thead>\n  <tbody>\n    <tr>\n      <th>0</th>\n      <td>good</td>\n      <td>40.0</td>\n      <td>0.0</td>\n      <td>4.0</td>\n      <td>0.0</td>\n      <td>0.0</td>\n      <td>0.0</td>\n      <td>0.0</td>\n      <td>0.0</td>\n      <td>0.0</td>\n      <td>...</td>\n      <td>0.0</td>\n      <td>0.0</td>\n      <td>0.0</td>\n      <td>0.0</td>\n      <td>0.0</td>\n      <td>0.0</td>\n      <td>1.0</td>\n      <td>8.0</td>\n      <td>5.0</td>\n      <td>4.0</td>\n    </tr>\n    <tr>\n      <th>1</th>\n      <td>good</td>\n      <td>72.0</td>\n      <td>0.0</td>\n      <td>2.0</td>\n      <td>0.0</td>\n      <td>0.0</td>\n      <td>0.0</td>\n      <td>0.0</td>\n      <td>0.0</td>\n      <td>0.0</td>\n      <td>...</td>\n      <td>1.0</td>\n      <td>1.0</td>\n      <td>1.0</td>\n      <td>1.0</td>\n      <td>1.0</td>\n      <td>1.0</td>\n      <td>1.0</td>\n      <td>14.0</td>\n      <td>6.0</td>\n      <td>11.0</td>\n    </tr>\n    <tr>\n      <th>2</th>\n      <td>good</td>\n      <td>77.0</td>\n      <td>0.0</td>\n      <td>4.0</td>\n      <td>0.0</td>\n      <td>0.0</td>\n      <td>0.0</td>\n      <td>0.0</td>\n      <td>0.0</td>\n      <td>0.0</td>\n      <td>...</td>\n      <td>0.0</td>\n      <td>0.0</td>\n      <td>0.0</td>\n      <td>0.0</td>\n      <td>0.0</td>\n      <td>0.0</td>\n      <td>0.0</td>\n      <td>14.0</td>\n      <td>5.0</td>\n      <td>9.0</td>\n    </tr>\n    <tr>\n      <th>3</th>\n      <td>good</td>\n      <td>6.0</td>\n      <td>0.0</td>\n      <td>1.0</td>\n      <td>0.0</td>\n      <td>0.0</td>\n      <td>0.0</td>\n      <td>0.0</td>\n      <td>0.0</td>\n      <td>0.0</td>\n      <td>...</td>\n      <td>0.0</td>\n      <td>0.0</td>\n      <td>0.0</td>\n      <td>0.0</td>\n      <td>0.0</td>\n      <td>0.0</td>\n      <td>0.0</td>\n      <td>3.0</td>\n      <td>4.0</td>\n      <td>0.0</td>\n    </tr>\n    <tr>\n      <th>4</th>\n      <td>good</td>\n      <td>8.0</td>\n      <td>0.0</td>\n      <td>5.0</td>\n      <td>0.0</td>\n      <td>0.0</td>\n      <td>0.0</td>\n      <td>0.0</td>\n      <td>0.0</td>\n      <td>0.0</td>\n      <td>...</td>\n      <td>0.0</td>\n      <td>0.0</td>\n      <td>0.0</td>\n      <td>0.0</td>\n      <td>0.0</td>\n      <td>0.0</td>\n      <td>0.0</td>\n      <td>1.0</td>\n      <td>1.0</td>\n      <td>0.0</td>\n    </tr>\n  </tbody>\n</table>\n<p>5 rows × 285 columns</p>\n</div>"
     },
     "metadata": {},
     "execution_count": 5
    }
   ],
   "source": [
    "data.head()"
   ]
  },
  {
   "source": [
    "# Handling missing data"
   ],
   "cell_type": "markdown",
   "metadata": {}
  },
  {
   "cell_type": "code",
   "execution_count": 6,
   "metadata": {},
   "outputs": [],
   "source": [
    "missing = data.isnull().sum()\n",
    "missing = missing[missing > 0]\n",
    "missing.sort_values(inplace=True)"
   ]
  },
  {
   "cell_type": "code",
   "execution_count": 7,
   "metadata": {},
   "outputs": [
    {
     "output_type": "execute_result",
     "data": {
      "text/plain": [
       "crdeal_deallife__loans_cnt__dlrolesub_zaemshik__curr_uah                     94\n",
       "crdeal_deallife__loans_cnt__state_discounted__last_active_lteq_90_days       94\n",
       "crdeal_deallife__loans_cnt__state_discounted__last_active_lteq_120_days      94\n",
       "crdeal_deallife__loans_cnt__state_discounted__last_active_lteq_180_days      94\n",
       "crdeal_deallife__loans_cnt__state_discounted__last_active_lteq_360_days      94\n",
       "                                                                           ... \n",
       "crdeal_deallife__initial_amount_mean__state_clsd                           2215\n",
       "crdeal_deallife__historical_max_overdue_debt__clsd_state                   2215\n",
       "crdeal_deallife__initial_amount_sum__state_clsd                            2215\n",
       "crdeal_deallife__current_max_dpd__donor_mfo                                3648\n",
       "crdeal_deallife__current_max_dpd__donor_bnk                                4816\n",
       "Length: 284, dtype: int64"
      ]
     },
     "metadata": {},
     "execution_count": 7
    }
   ],
   "source": [
    "missing"
   ]
  },
  {
   "cell_type": "code",
   "execution_count": 8,
   "metadata": {},
   "outputs": [],
   "source": [
    "data = data.fillna(data.mean())"
   ]
  },
  {
   "cell_type": "code",
   "execution_count": 9,
   "metadata": {},
   "outputs": [],
   "source": [
    "missing = data.isnull().sum()\n",
    "missing = missing[missing > 0]\n",
    "missing.sort_values(inplace=True)"
   ]
  },
  {
   "cell_type": "code",
   "execution_count": 10,
   "metadata": {},
   "outputs": [
    {
     "output_type": "execute_result",
     "data": {
      "text/plain": [
       "crdeal_deallife__first_loan_open_date                 94\n",
       "crdeal_deallife__last_loan_open_date                  94\n",
       "crdeal_deallife__first_loan_open_date__donor_mfo    1687\n",
       "crdeal_deallife__last_loan_open_date__donor_mfo     1687\n",
       "crdeal_deallife__first_loan_open_date__donor_bnk    1943\n",
       "crdeal_deallife__last_loan_open_date__donor_bnk     1943\n",
       "dtype: int64"
      ]
     },
     "metadata": {},
     "execution_count": 10
    }
   ],
   "source": [
    "missing"
   ]
  },
  {
   "cell_type": "code",
   "execution_count": 11,
   "metadata": {},
   "outputs": [],
   "source": [
    "data = data.drop(missing.index, axis=1)"
   ]
  },
  {
   "source": [
    "# Splitting the data into train and test"
   ],
   "cell_type": "markdown",
   "metadata": {}
  },
  {
   "cell_type": "code",
   "execution_count": 12,
   "metadata": {},
   "outputs": [
    {
     "output_type": "execute_result",
     "data": {
      "text/plain": [
       "    crdeal_deallife__loans_cnt__dlrolesub_zaemshik__curr_uah  \\\n",
       "7                                                 3.0          \n",
       "9                                                25.0          \n",
       "14                                               21.0          \n",
       "17                                               16.0          \n",
       "21                                                9.0          \n",
       "\n",
       "    crdeal_deallife__loans_cnt__dlrolesub_zaemshik__curr_not_uah  \\\n",
       "7                                                 0.0              \n",
       "9                                                 0.0              \n",
       "14                                                0.0              \n",
       "17                                                0.0              \n",
       "21                                                0.0              \n",
       "\n",
       "    crdeal_deallife__loans_cnt__dldonor_bnk  \\\n",
       "7                                       2.0   \n",
       "9                                       5.0   \n",
       "14                                      2.0   \n",
       "17                                      0.0   \n",
       "21                                      2.0   \n",
       "\n",
       "    crdeal_deallife__loans_cnt__dldonor_bnk__opened_lteq_7_days  \\\n",
       "7                                                 0.0             \n",
       "9                                                 0.0             \n",
       "14                                                0.0             \n",
       "17                                                0.0             \n",
       "21                                                0.0             \n",
       "\n",
       "    crdeal_deallife__loans_cnt__dldonor_bnk__opened_lteq_30_days  \\\n",
       "7                                                 0.0              \n",
       "9                                                 0.0              \n",
       "14                                                0.0              \n",
       "17                                                0.0              \n",
       "21                                                0.0              \n",
       "\n",
       "    crdeal_deallife__loans_cnt__dldonor_bnk__opened_lteq_45_days  \\\n",
       "7                                                 0.0              \n",
       "9                                                 0.0              \n",
       "14                                                0.0              \n",
       "17                                                0.0              \n",
       "21                                                0.0              \n",
       "\n",
       "    crdeal_deallife__loans_cnt__dldonor_bnk__opened_lteq_60_days  \\\n",
       "7                                                 0.0              \n",
       "9                                                 0.0              \n",
       "14                                                0.0              \n",
       "17                                                0.0              \n",
       "21                                                0.0              \n",
       "\n",
       "    crdeal_deallife__loans_cnt__dldonor_bnk__opened_lteq_90_days  \\\n",
       "7                                                 0.0              \n",
       "9                                                 0.0              \n",
       "14                                                0.0              \n",
       "17                                                0.0              \n",
       "21                                                0.0              \n",
       "\n",
       "    crdeal_deallife__loans_cnt__dldonor_bnk__opened_lteq_120_days  \\\n",
       "7                                                 0.0               \n",
       "9                                                 0.0               \n",
       "14                                                0.0               \n",
       "17                                                0.0               \n",
       "21                                                0.0               \n",
       "\n",
       "    crdeal_deallife__loans_cnt__dldonor_bnk__opened_lteq_180_days  ...  \\\n",
       "7                                                 0.0              ...   \n",
       "9                                                 0.0              ...   \n",
       "14                                                0.0              ...   \n",
       "17                                                0.0              ...   \n",
       "21                                                0.0              ...   \n",
       "\n",
       "    credres__credit_req_cnt__org_bnk__last_3_5_days  \\\n",
       "7                                               0.0   \n",
       "9                                               0.0   \n",
       "14                                              0.0   \n",
       "17                                              0.0   \n",
       "21                                              0.0   \n",
       "\n",
       "    credres__credit_req_cnt__org_bnk__last_7_days  \\\n",
       "7                                             0.0   \n",
       "9                                             0.0   \n",
       "14                                            0.0   \n",
       "17                                            0.0   \n",
       "21                                            0.0   \n",
       "\n",
       "    credres__credit_req_cnt__org_bnk__last_10_days  \\\n",
       "7                                              0.0   \n",
       "9                                              0.0   \n",
       "14                                             0.0   \n",
       "17                                             0.0   \n",
       "21                                             0.0   \n",
       "\n",
       "    credres__credit_req_cnt__org_bnk__last_13_days  \\\n",
       "7                                              0.0   \n",
       "9                                              1.0   \n",
       "14                                             2.0   \n",
       "17                                             0.0   \n",
       "21                                             0.0   \n",
       "\n",
       "    credres__credit_req_cnt__org_bnk__last_20_days  \\\n",
       "7                                              0.0   \n",
       "9                                              1.0   \n",
       "14                                             2.0   \n",
       "17                                             0.0   \n",
       "21                                             0.0   \n",
       "\n",
       "    credres__credit_req_cnt__org_bnk__last_30_days  \\\n",
       "7                                              0.0   \n",
       "9                                              1.0   \n",
       "14                                             2.0   \n",
       "17                                             0.0   \n",
       "21                                             0.0   \n",
       "\n",
       "    credres__credit_req_cnt__org_bnk__last_60_days  \\\n",
       "7                                              0.0   \n",
       "9                                              4.0   \n",
       "14                                             2.0   \n",
       "17                                             1.0   \n",
       "21                                             0.0   \n",
       "\n",
       "    credres__credit_req_cnt__org_bnk__more_than_90_days  \\\n",
       "7                                                 1.0     \n",
       "9                                                11.0     \n",
       "14                                                6.0     \n",
       "17                                                0.0     \n",
       "21                                                2.0     \n",
       "\n",
       "    credres__credit_req_cnt__org_bnk__last_360_days  \\\n",
       "7                                               0.0   \n",
       "9                                               9.0   \n",
       "14                                              7.0   \n",
       "17                                              1.0   \n",
       "21                                              0.0   \n",
       "\n",
       "    credres__credit_req_cnt__org_bnk__more_than_360_days  \n",
       "7                                                 1.0     \n",
       "9                                                 7.0     \n",
       "14                                                1.0     \n",
       "17                                                0.0     \n",
       "21                                                2.0     \n",
       "\n",
       "[5 rows x 278 columns]"
      ],
      "text/html": "<div>\n<style scoped>\n    .dataframe tbody tr th:only-of-type {\n        vertical-align: middle;\n    }\n\n    .dataframe tbody tr th {\n        vertical-align: top;\n    }\n\n    .dataframe thead th {\n        text-align: right;\n    }\n</style>\n<table border=\"1\" class=\"dataframe\">\n  <thead>\n    <tr style=\"text-align: right;\">\n      <th></th>\n      <th>crdeal_deallife__loans_cnt__dlrolesub_zaemshik__curr_uah</th>\n      <th>crdeal_deallife__loans_cnt__dlrolesub_zaemshik__curr_not_uah</th>\n      <th>crdeal_deallife__loans_cnt__dldonor_bnk</th>\n      <th>crdeal_deallife__loans_cnt__dldonor_bnk__opened_lteq_7_days</th>\n      <th>crdeal_deallife__loans_cnt__dldonor_bnk__opened_lteq_30_days</th>\n      <th>crdeal_deallife__loans_cnt__dldonor_bnk__opened_lteq_45_days</th>\n      <th>crdeal_deallife__loans_cnt__dldonor_bnk__opened_lteq_60_days</th>\n      <th>crdeal_deallife__loans_cnt__dldonor_bnk__opened_lteq_90_days</th>\n      <th>crdeal_deallife__loans_cnt__dldonor_bnk__opened_lteq_120_days</th>\n      <th>crdeal_deallife__loans_cnt__dldonor_bnk__opened_lteq_180_days</th>\n      <th>...</th>\n      <th>credres__credit_req_cnt__org_bnk__last_3_5_days</th>\n      <th>credres__credit_req_cnt__org_bnk__last_7_days</th>\n      <th>credres__credit_req_cnt__org_bnk__last_10_days</th>\n      <th>credres__credit_req_cnt__org_bnk__last_13_days</th>\n      <th>credres__credit_req_cnt__org_bnk__last_20_days</th>\n      <th>credres__credit_req_cnt__org_bnk__last_30_days</th>\n      <th>credres__credit_req_cnt__org_bnk__last_60_days</th>\n      <th>credres__credit_req_cnt__org_bnk__more_than_90_days</th>\n      <th>credres__credit_req_cnt__org_bnk__last_360_days</th>\n      <th>credres__credit_req_cnt__org_bnk__more_than_360_days</th>\n    </tr>\n  </thead>\n  <tbody>\n    <tr>\n      <th>7</th>\n      <td>3.0</td>\n      <td>0.0</td>\n      <td>2.0</td>\n      <td>0.0</td>\n      <td>0.0</td>\n      <td>0.0</td>\n      <td>0.0</td>\n      <td>0.0</td>\n      <td>0.0</td>\n      <td>0.0</td>\n      <td>...</td>\n      <td>0.0</td>\n      <td>0.0</td>\n      <td>0.0</td>\n      <td>0.0</td>\n      <td>0.0</td>\n      <td>0.0</td>\n      <td>0.0</td>\n      <td>1.0</td>\n      <td>0.0</td>\n      <td>1.0</td>\n    </tr>\n    <tr>\n      <th>9</th>\n      <td>25.0</td>\n      <td>0.0</td>\n      <td>5.0</td>\n      <td>0.0</td>\n      <td>0.0</td>\n      <td>0.0</td>\n      <td>0.0</td>\n      <td>0.0</td>\n      <td>0.0</td>\n      <td>0.0</td>\n      <td>...</td>\n      <td>0.0</td>\n      <td>0.0</td>\n      <td>0.0</td>\n      <td>1.0</td>\n      <td>1.0</td>\n      <td>1.0</td>\n      <td>4.0</td>\n      <td>11.0</td>\n      <td>9.0</td>\n      <td>7.0</td>\n    </tr>\n    <tr>\n      <th>14</th>\n      <td>21.0</td>\n      <td>0.0</td>\n      <td>2.0</td>\n      <td>0.0</td>\n      <td>0.0</td>\n      <td>0.0</td>\n      <td>0.0</td>\n      <td>0.0</td>\n      <td>0.0</td>\n      <td>0.0</td>\n      <td>...</td>\n      <td>0.0</td>\n      <td>0.0</td>\n      <td>0.0</td>\n      <td>2.0</td>\n      <td>2.0</td>\n      <td>2.0</td>\n      <td>2.0</td>\n      <td>6.0</td>\n      <td>7.0</td>\n      <td>1.0</td>\n    </tr>\n    <tr>\n      <th>17</th>\n      <td>16.0</td>\n      <td>0.0</td>\n      <td>0.0</td>\n      <td>0.0</td>\n      <td>0.0</td>\n      <td>0.0</td>\n      <td>0.0</td>\n      <td>0.0</td>\n      <td>0.0</td>\n      <td>0.0</td>\n      <td>...</td>\n      <td>0.0</td>\n      <td>0.0</td>\n      <td>0.0</td>\n      <td>0.0</td>\n      <td>0.0</td>\n      <td>0.0</td>\n      <td>1.0</td>\n      <td>0.0</td>\n      <td>1.0</td>\n      <td>0.0</td>\n    </tr>\n    <tr>\n      <th>21</th>\n      <td>9.0</td>\n      <td>0.0</td>\n      <td>2.0</td>\n      <td>0.0</td>\n      <td>0.0</td>\n      <td>0.0</td>\n      <td>0.0</td>\n      <td>0.0</td>\n      <td>0.0</td>\n      <td>0.0</td>\n      <td>...</td>\n      <td>0.0</td>\n      <td>0.0</td>\n      <td>0.0</td>\n      <td>0.0</td>\n      <td>0.0</td>\n      <td>0.0</td>\n      <td>0.0</td>\n      <td>2.0</td>\n      <td>0.0</td>\n      <td>2.0</td>\n    </tr>\n  </tbody>\n</table>\n<p>5 rows × 278 columns</p>\n</div>"
     },
     "metadata": {},
     "execution_count": 12
    }
   ],
   "source": [
    "test_data = data[data['target_flag'] == 'not determined']\n",
    "test_data = test_data.drop('target_flag', axis=1)\n",
    "\n",
    "test_data.head()"
   ]
  },
  {
   "cell_type": "code",
   "execution_count": 13,
   "metadata": {},
   "outputs": [
    {
     "output_type": "execute_result",
     "data": {
      "text/plain": [
       "  target_flag  crdeal_deallife__loans_cnt__dlrolesub_zaemshik__curr_uah  \\\n",
       "0        good                                               40.0          \n",
       "1        good                                               72.0          \n",
       "2        good                                               77.0          \n",
       "3        good                                                6.0          \n",
       "4        good                                                8.0          \n",
       "\n",
       "   crdeal_deallife__loans_cnt__dlrolesub_zaemshik__curr_not_uah  \\\n",
       "0                                                0.0              \n",
       "1                                                0.0              \n",
       "2                                                0.0              \n",
       "3                                                0.0              \n",
       "4                                                0.0              \n",
       "\n",
       "   crdeal_deallife__loans_cnt__dldonor_bnk  \\\n",
       "0                                      4.0   \n",
       "1                                      2.0   \n",
       "2                                      4.0   \n",
       "3                                      1.0   \n",
       "4                                      5.0   \n",
       "\n",
       "   crdeal_deallife__loans_cnt__dldonor_bnk__opened_lteq_7_days  \\\n",
       "0                                                0.0             \n",
       "1                                                0.0             \n",
       "2                                                0.0             \n",
       "3                                                0.0             \n",
       "4                                                0.0             \n",
       "\n",
       "   crdeal_deallife__loans_cnt__dldonor_bnk__opened_lteq_30_days  \\\n",
       "0                                                0.0              \n",
       "1                                                0.0              \n",
       "2                                                0.0              \n",
       "3                                                0.0              \n",
       "4                                                0.0              \n",
       "\n",
       "   crdeal_deallife__loans_cnt__dldonor_bnk__opened_lteq_45_days  \\\n",
       "0                                                0.0              \n",
       "1                                                0.0              \n",
       "2                                                0.0              \n",
       "3                                                0.0              \n",
       "4                                                0.0              \n",
       "\n",
       "   crdeal_deallife__loans_cnt__dldonor_bnk__opened_lteq_60_days  \\\n",
       "0                                                0.0              \n",
       "1                                                0.0              \n",
       "2                                                0.0              \n",
       "3                                                0.0              \n",
       "4                                                0.0              \n",
       "\n",
       "   crdeal_deallife__loans_cnt__dldonor_bnk__opened_lteq_90_days  \\\n",
       "0                                                0.0              \n",
       "1                                                0.0              \n",
       "2                                                0.0              \n",
       "3                                                0.0              \n",
       "4                                                0.0              \n",
       "\n",
       "   crdeal_deallife__loans_cnt__dldonor_bnk__opened_lteq_120_days  ...  \\\n",
       "0                                                0.0              ...   \n",
       "1                                                0.0              ...   \n",
       "2                                                0.0              ...   \n",
       "3                                                0.0              ...   \n",
       "4                                                0.0              ...   \n",
       "\n",
       "   credres__credit_req_cnt__org_bnk__last_3_5_days  \\\n",
       "0                                              0.0   \n",
       "1                                              1.0   \n",
       "2                                              0.0   \n",
       "3                                              0.0   \n",
       "4                                              0.0   \n",
       "\n",
       "   credres__credit_req_cnt__org_bnk__last_7_days  \\\n",
       "0                                            0.0   \n",
       "1                                            1.0   \n",
       "2                                            0.0   \n",
       "3                                            0.0   \n",
       "4                                            0.0   \n",
       "\n",
       "   credres__credit_req_cnt__org_bnk__last_10_days  \\\n",
       "0                                             0.0   \n",
       "1                                             1.0   \n",
       "2                                             0.0   \n",
       "3                                             0.0   \n",
       "4                                             0.0   \n",
       "\n",
       "   credres__credit_req_cnt__org_bnk__last_13_days  \\\n",
       "0                                             0.0   \n",
       "1                                             1.0   \n",
       "2                                             0.0   \n",
       "3                                             0.0   \n",
       "4                                             0.0   \n",
       "\n",
       "   credres__credit_req_cnt__org_bnk__last_20_days  \\\n",
       "0                                             0.0   \n",
       "1                                             1.0   \n",
       "2                                             0.0   \n",
       "3                                             0.0   \n",
       "4                                             0.0   \n",
       "\n",
       "   credres__credit_req_cnt__org_bnk__last_30_days  \\\n",
       "0                                             0.0   \n",
       "1                                             1.0   \n",
       "2                                             0.0   \n",
       "3                                             0.0   \n",
       "4                                             0.0   \n",
       "\n",
       "   credres__credit_req_cnt__org_bnk__last_60_days  \\\n",
       "0                                             1.0   \n",
       "1                                             1.0   \n",
       "2                                             0.0   \n",
       "3                                             0.0   \n",
       "4                                             0.0   \n",
       "\n",
       "   credres__credit_req_cnt__org_bnk__more_than_90_days  \\\n",
       "0                                                8.0     \n",
       "1                                               14.0     \n",
       "2                                               14.0     \n",
       "3                                                3.0     \n",
       "4                                                1.0     \n",
       "\n",
       "   credres__credit_req_cnt__org_bnk__last_360_days  \\\n",
       "0                                              5.0   \n",
       "1                                              6.0   \n",
       "2                                              5.0   \n",
       "3                                              4.0   \n",
       "4                                              1.0   \n",
       "\n",
       "   credres__credit_req_cnt__org_bnk__more_than_360_days  \n",
       "0                                                4.0     \n",
       "1                                               11.0     \n",
       "2                                                9.0     \n",
       "3                                                0.0     \n",
       "4                                                0.0     \n",
       "\n",
       "[5 rows x 279 columns]"
      ],
      "text/html": "<div>\n<style scoped>\n    .dataframe tbody tr th:only-of-type {\n        vertical-align: middle;\n    }\n\n    .dataframe tbody tr th {\n        vertical-align: top;\n    }\n\n    .dataframe thead th {\n        text-align: right;\n    }\n</style>\n<table border=\"1\" class=\"dataframe\">\n  <thead>\n    <tr style=\"text-align: right;\">\n      <th></th>\n      <th>target_flag</th>\n      <th>crdeal_deallife__loans_cnt__dlrolesub_zaemshik__curr_uah</th>\n      <th>crdeal_deallife__loans_cnt__dlrolesub_zaemshik__curr_not_uah</th>\n      <th>crdeal_deallife__loans_cnt__dldonor_bnk</th>\n      <th>crdeal_deallife__loans_cnt__dldonor_bnk__opened_lteq_7_days</th>\n      <th>crdeal_deallife__loans_cnt__dldonor_bnk__opened_lteq_30_days</th>\n      <th>crdeal_deallife__loans_cnt__dldonor_bnk__opened_lteq_45_days</th>\n      <th>crdeal_deallife__loans_cnt__dldonor_bnk__opened_lteq_60_days</th>\n      <th>crdeal_deallife__loans_cnt__dldonor_bnk__opened_lteq_90_days</th>\n      <th>crdeal_deallife__loans_cnt__dldonor_bnk__opened_lteq_120_days</th>\n      <th>...</th>\n      <th>credres__credit_req_cnt__org_bnk__last_3_5_days</th>\n      <th>credres__credit_req_cnt__org_bnk__last_7_days</th>\n      <th>credres__credit_req_cnt__org_bnk__last_10_days</th>\n      <th>credres__credit_req_cnt__org_bnk__last_13_days</th>\n      <th>credres__credit_req_cnt__org_bnk__last_20_days</th>\n      <th>credres__credit_req_cnt__org_bnk__last_30_days</th>\n      <th>credres__credit_req_cnt__org_bnk__last_60_days</th>\n      <th>credres__credit_req_cnt__org_bnk__more_than_90_days</th>\n      <th>credres__credit_req_cnt__org_bnk__last_360_days</th>\n      <th>credres__credit_req_cnt__org_bnk__more_than_360_days</th>\n    </tr>\n  </thead>\n  <tbody>\n    <tr>\n      <th>0</th>\n      <td>good</td>\n      <td>40.0</td>\n      <td>0.0</td>\n      <td>4.0</td>\n      <td>0.0</td>\n      <td>0.0</td>\n      <td>0.0</td>\n      <td>0.0</td>\n      <td>0.0</td>\n      <td>0.0</td>\n      <td>...</td>\n      <td>0.0</td>\n      <td>0.0</td>\n      <td>0.0</td>\n      <td>0.0</td>\n      <td>0.0</td>\n      <td>0.0</td>\n      <td>1.0</td>\n      <td>8.0</td>\n      <td>5.0</td>\n      <td>4.0</td>\n    </tr>\n    <tr>\n      <th>1</th>\n      <td>good</td>\n      <td>72.0</td>\n      <td>0.0</td>\n      <td>2.0</td>\n      <td>0.0</td>\n      <td>0.0</td>\n      <td>0.0</td>\n      <td>0.0</td>\n      <td>0.0</td>\n      <td>0.0</td>\n      <td>...</td>\n      <td>1.0</td>\n      <td>1.0</td>\n      <td>1.0</td>\n      <td>1.0</td>\n      <td>1.0</td>\n      <td>1.0</td>\n      <td>1.0</td>\n      <td>14.0</td>\n      <td>6.0</td>\n      <td>11.0</td>\n    </tr>\n    <tr>\n      <th>2</th>\n      <td>good</td>\n      <td>77.0</td>\n      <td>0.0</td>\n      <td>4.0</td>\n      <td>0.0</td>\n      <td>0.0</td>\n      <td>0.0</td>\n      <td>0.0</td>\n      <td>0.0</td>\n      <td>0.0</td>\n      <td>...</td>\n      <td>0.0</td>\n      <td>0.0</td>\n      <td>0.0</td>\n      <td>0.0</td>\n      <td>0.0</td>\n      <td>0.0</td>\n      <td>0.0</td>\n      <td>14.0</td>\n      <td>5.0</td>\n      <td>9.0</td>\n    </tr>\n    <tr>\n      <th>3</th>\n      <td>good</td>\n      <td>6.0</td>\n      <td>0.0</td>\n      <td>1.0</td>\n      <td>0.0</td>\n      <td>0.0</td>\n      <td>0.0</td>\n      <td>0.0</td>\n      <td>0.0</td>\n      <td>0.0</td>\n      <td>...</td>\n      <td>0.0</td>\n      <td>0.0</td>\n      <td>0.0</td>\n      <td>0.0</td>\n      <td>0.0</td>\n      <td>0.0</td>\n      <td>0.0</td>\n      <td>3.0</td>\n      <td>4.0</td>\n      <td>0.0</td>\n    </tr>\n    <tr>\n      <th>4</th>\n      <td>good</td>\n      <td>8.0</td>\n      <td>0.0</td>\n      <td>5.0</td>\n      <td>0.0</td>\n      <td>0.0</td>\n      <td>0.0</td>\n      <td>0.0</td>\n      <td>0.0</td>\n      <td>0.0</td>\n      <td>...</td>\n      <td>0.0</td>\n      <td>0.0</td>\n      <td>0.0</td>\n      <td>0.0</td>\n      <td>0.0</td>\n      <td>0.0</td>\n      <td>0.0</td>\n      <td>1.0</td>\n      <td>1.0</td>\n      <td>0.0</td>\n    </tr>\n  </tbody>\n</table>\n<p>5 rows × 279 columns</p>\n</div>"
     },
     "metadata": {},
     "execution_count": 13
    }
   ],
   "source": [
    "train_data = data[data['target_flag'] != 'not determined']\n",
    "train_data.head()"
   ]
  },
  {
   "source": [
    "# Encoding target into 0's and 1's (0 - bad, 1 - good)"
   ],
   "cell_type": "markdown",
   "metadata": {}
  },
  {
   "cell_type": "code",
   "execution_count": 14,
   "metadata": {},
   "outputs": [
    {
     "output_type": "execute_result",
     "data": {
      "text/plain": [
       "LabelEncoder()"
      ]
     },
     "metadata": {},
     "execution_count": 14
    }
   ],
   "source": [
    "le = LabelEncoder()\n",
    "le.fit(train_data['target_flag'])"
   ]
  },
  {
   "cell_type": "code",
   "execution_count": 15,
   "metadata": {},
   "outputs": [
    {
     "output_type": "execute_result",
     "data": {
      "text/plain": [
       "array(['bad', 'good'], dtype=object)"
      ]
     },
     "metadata": {},
     "execution_count": 15
    }
   ],
   "source": [
    "le.classes_"
   ]
  },
  {
   "cell_type": "code",
   "execution_count": 16,
   "metadata": {},
   "outputs": [],
   "source": [
    "train_data['target_flag'] = le.transform(train_data['target_flag'])"
   ]
  },
  {
   "source": [],
   "cell_type": "markdown",
   "metadata": {}
  },
  {
   "source": [
    "# Selecting highly corellated features"
   ],
   "cell_type": "markdown",
   "metadata": {}
  },
  {
   "cell_type": "code",
   "execution_count": 17,
   "metadata": {},
   "outputs": [],
   "source": [
    "cor = train_data.corr()"
   ]
  },
  {
   "cell_type": "code",
   "execution_count": 18,
   "metadata": {},
   "outputs": [
    {
     "output_type": "execute_result",
     "data": {
      "text/plain": [
       "_opened_lteq_30_days  \\\n",
       "target_flag                                                                                 -0.011811              \n",
       "crdeal_deallife__loans_cnt__dlrolesub_zaemshik_...                                           0.014167              \n",
       "crdeal_deallife__loans_cnt__dlrolesub_zaemshik_...                                          -0.000032              \n",
       "crdeal_deallife__loans_cnt__dldonor_bnk                                                      0.205050              \n",
       "crdeal_deallife__loans_cnt__dldonor_bnk__opened...                                           0.323123              \n",
       "...                                                                                               ...              \n",
       "credres__credit_req_cnt__org_bnk__last_30_days                                               0.212988              \n",
       "credres__credit_req_cnt__org_bnk__last_60_days                                               0.173926              \n",
       "credres__credit_req_cnt__org_bnk__more_than_90_...                                           0.052234              \n",
       "credres__credit_req_cnt__org_bnk__last_360_days                                              0.105179              \n",
       "credres__credit_req_cnt__org_bnk__more_than_360...                                           0.041575              \n",
       "\n",
       "                                                    crdeal_deallife__loans_cnt__dldonor_bnk__opened_lteq_45_days  \\\n",
       "target_flag                                                                                 -0.017213              \n",
       "crdeal_deallife__loans_cnt__dlrolesub_zaemshik_...                                           0.020049              \n",
       "crdeal_deallife__loans_cnt__dlrolesub_zaemshik_...                                           0.007995              \n",
       "crdeal_deallife__loans_cnt__dldonor_bnk                                                      0.277884              \n",
       "crdeal_deallife__loans_cnt__dldonor_bnk__opened...                                           0.236427              \n",
       "...                                                                                               ...              \n",
       "credres__credit_req_cnt__org_bnk__last_30_days                                               0.206939              \n",
       "credres__credit_req_cnt__org_bnk__last_60_days                                               0.244423              \n",
       "credres__credit_req_cnt__org_bnk__more_than_90_...                                           0.074846              \n",
       "credres__credit_req_cnt__org_bnk__last_360_days                                              0.149380              \n",
       "credres__credit_req_cnt__org_bnk__more_than_360...                                           0.060106              \n",
       "\n",
       "                                                    crdeal_deallife__loans_cnt__dldonor_bnk__opened_lteq_60_days  \\\n",
       "target_flag                                                                                 -0.022600              \n",
       "crdeal_deallife__loans_cnt__dlrolesub_zaemshik_...                                           0.023663              \n",
       "crdeal_deallife__loans_cnt__dlrolesub_zaemshik_...                                           0.007843              \n",
       "crdeal_deallife__loans_cnt__dldonor_bnk                                                      0.323573              \n",
       "crdeal_deallife__loans_cnt__dldonor_bnk__opened...                                           0.189661              \n",
       "...                                                                                               ...              \n",
       "credres__credit_req_cnt__org_bnk__last_30_days                                               0.196184              \n",
       "credres__credit_req_cnt__org_bnk__last_60_days                                               0.284395              \n",
       "credres__credit_req_cnt__org_bnk__more_than_90_...                                           0.086743              \n",
       "credres__credit_req_cnt__org_bnk__last_360_days                                              0.180100              \n",
       "credres__credit_req_cnt__org_bnk__more_than_360...                                           0.065857              \n",
       "\n",
       "                                                    crdeal_deallife__loans_cnt__dldonor_bnk__opened_lteq_90_days  \\\n",
       "target_flag                                                                                 -0.017219              \n",
       "crdeal_deallife__loans_cnt__dlrolesub_zaemshik_...                                           0.043557              \n",
       "crdeal_deallife__loans_cnt__dlrolesub_zaemshik_...                                           0.003092              \n",
       "crdeal_deallife__loans_cnt__dldonor_bnk                                                      0.403166              \n",
       "crdeal_deallife__loans_cnt__dldonor_bnk__opened...                                           0.138114              \n",
       "...                                                                                               ...              \n",
       "credres__credit_req_cnt__org_bnk__last_30_days                                               0.184562              \n",
       "credres__credit_req_cnt__org_bnk__last_60_days                                               0.264335              \n",
       "credres__credit_req_cnt__org_bnk__more_than_90_...                                           0.117520              \n",
       "credres__credit_req_cnt__org_bnk__last_360_days                                              0.232132              \n",
       "credres__credit_req_cnt__org_bnk__more_than_360...                                           0.083124              \n",
       "\n",
       "                                                    crdeal_deallife__loans_cnt__dldonor_bnk__opened_lteq_120_days  \\\n",
       "target_flag                                                                                 -0.013722               \n",
       "crdeal_deallife__loans_cnt__dlrolesub_zaemshik_...                                           0.051764               \n",
       "crdeal_deallife__loans_cnt__dlrolesub_zaemshik_...                                           0.002735               \n",
       "crdeal_deallife__loans_cnt__dldonor_bnk                                                      0.460923               \n",
       "crdeal_deallife__loans_cnt__dldonor_bnk__opened...                                           0.117182               \n",
       "...                                                                                               ...               \n",
       "credres__credit_req_cnt__org_bnk__last_30_days                                               0.180395               \n",
       "credres__credit_req_cnt__org_bnk__last_60_days                                               0.258730               \n",
       "credres__credit_req_cnt__org_bnk__more_than_90_...                                           0.164420               \n",
       "credres__credit_req_cnt__org_bnk__last_360_days                                              0.276797               \n",
       "credres__credit_req_cnt__org_bnk__more_than_360...                                           0.102757               \n",
       "\n",
       "                                                    ...  \\\n",
       "target_flag                                         ...   \n",
       "crdeal_deallife__loans_cnt__dlrolesub_zaemshik_...  ...   \n",
       "crdeal_deallife__loans_cnt__dlrolesub_zaemshik_...  ...   \n",
       "crdeal_deallife__loans_cnt__dldonor_bnk             ...   \n",
       "crdeal_deallife__loans_cnt__dldonor_bnk__opened...  ...   \n",
       "...                                                 ...   \n",
       "credres__credit_req_cnt__org_bnk__last_30_days      ...   \n",
       "credres__credit_req_cnt__org_bnk__last_60_days      ...   \n",
       "credres__credit_req_cnt__org_bnk__more_than_90_...  ...   \n",
       "credres__credit_req_cnt__org_bnk__last_360_days     ...   \n",
       "credres__credit_req_cnt__org_bnk__more_than_360...  ...   \n",
       "\n",
       "                                                    credres__credit_req_cnt__org_bnk__last_3_5_days  \\\n",
       "target_flag                                                                               -0.020655   \n",
       "crdeal_deallife__loans_cnt__dlrolesub_zaemshik_...                                         0.002438   \n",
       "crdeal_deallife__loans_cnt__dlrolesub_zaemshik_...                                         0.007526   \n",
       "crdeal_deallife__loans_cnt__dldonor_bnk                                                    0.044780   \n",
       "crdeal_deallife__loans_cnt__dldonor_bnk__opened...                                         0.058297   \n",
       "...                                                                                             ...   \n",
       "credres__credit_req_cnt__org_bnk__last_30_days                                             0.434945   \n",
       "credres__credit_req_cnt__org_bnk__last_60_days                                             0.343214   \n",
       "credres__credit_req_cnt__org_bnk__more_than_90_...                                         0.055509   \n",
       "credres__credit_req_cnt__org_bnk__last_360_days                                            0.179013   \n",
       "credres__credit_req_cnt__org_bnk__more_than_360...                                         0.041563   \n",
       "\n",
       "                                                    credres__credit_req_cnt__org_bnk__last_7_days  \\\n",
       "target_flag                                                                             -0.027994   \n",
       "crdeal_deallife__loans_cnt__dlrolesub_zaemshik_...                                       0.008426   \n",
       "crdeal_deallife__loans_cnt__dlrolesub_zaemshik_...                                       0.007545   \n",
       "crdeal_deallife__loans_cnt__dldonor_bnk                                                  0.057475   \n",
       "crdeal_deallife__loans_cnt__dldonor_bnk__opened...                                       0.081329   \n",
       "...                                                                                           ...   \n",
       "credres__credit_req_cnt__org_bnk__last_30_days                                           0.571008   \n",
       "credres__credit_req_cnt__org_bnk__last_60_days                                           0.449135   \n",
       "credres__credit_req_cnt__org_bnk__more_than_90_...                                       0.076927   \n",
       "credres__credit_req_cnt__org_bnk__last_360_days                                          0.237775   \n",
       "credres__credit_req_cnt__org_bnk__more_than_360...                                       0.057083   \n",
       "\n",
       "                                                    credres__credit_req_cnt__org_bnk__last_10_days  \\\n",
       "target_flag                                                                              -0.029913   \n",
       "crdeal_deallife__loans_cnt__dlrolesub_zaemshik_...                                        0.015355   \n",
       "crdeal_deallife__loans_cnt__dlrolesub_zaemshik_...                                        0.015456   \n",
       "crdeal_deallife__loans_cnt__dldonor_bnk                                                   0.071271   \n",
       "crdeal_deallife__loans_cnt__dldonor_bnk__opened...                                        0.073869   \n",
       "...                                                                                            ...   \n",
       "credres__credit_req_cnt__org_bnk__last_30_days                                            0.661063   \n",
       "credres__credit_req_cnt__org_bnk__last_60_days                                            0.523404   \n",
       "credres__credit_req_cnt__org_bnk__more_than_90_...                                        0.093639   \n",
       "credres__credit_req_cnt__org_bnk__last_360_days                                           0.281889   \n",
       "credres__credit_req_cnt__org_bnk__more_than_360...                                        0.068549   \n",
       "\n",
       "                                                    credres__credit_req_cnt__org_bnk__last_13_days  \\\n",
       "target_flag                                                                              -0.033918   \n",
       "crdeal_deallife__loans_cnt__dlrolesub_zaemshik_...                                        0.018750   \n",
       "crdeal_deallife__loans_cnt__dlrolesub_zaemshik_...                                        0.016200   \n",
       "crdeal_deallife__loans_cnt__dldonor_bnk                                                   0.081803   \n",
       "crdeal_deallife__loans_cnt__dldonor_bnk__opened...                                        0.072200   \n",
       "...                                                                                            ...   \n",
       "credres__credit_req_cnt__org_bnk__last_30_days                                            0.732974   \n",
       "credres__credit_req_cnt__org_bnk__last_60_days                                            0.581142   \n",
       "credres__credit_req_cnt__org_bnk__more_than_90_...                                        0.106141   \n",
       "credres__credit_req_cnt__org_bnk__last_360_days                                           0.315962   \n",
       "credres__credit_req_cnt__org_bnk__more_than_360...                                        0.075749   \n",
       "\n",
       "                                                    credres__credit_req_cnt__org_bnk__last_20_days  \\\n",
       "target_flag                                                                              -0.040779   \n",
       "crdeal_deallife__loans_cnt__dlrolesub_zaemshik_...                                        0.026693   \n",
       "crdeal_deallife__loans_cnt__dlrolesub_zaemshik_...                                        0.021692   \n",
       "crdeal_deallife__loans_cnt__dldonor_bnk                                                   0.108255   \n",
       "crdeal_deallife__loans_cnt__dldonor_bnk__opened...                                        0.062868   \n",
       "...                                                                                            ...   \n",
       "credres__credit_req_cnt__org_bnk__last_30_days                                            0.873283   \n",
       "credres__credit_req_cnt__org_bnk__last_60_days                                            0.696603   \n",
       "credres__credit_req_cnt__org_bnk__more_than_90_...                                        0.126173   \n",
       "credres__credit_req_cnt__org_bnk__last_360_days                                           0.385610   \n",
       "credres__credit_req_cnt__org_bnk__more_than_360...                                        0.084711   \n",
       "\n",
       "                                                    credres__credit_req_cnt__org_bnk__last_30_days  \\\n",
       "target_flag                                                                              -0.044781   \n",
       "crdeal_deallife__loans_cnt__dlrolesub_zaemshik_...                                        0.042059   \n",
       "crdeal_deallife__loans_cnt__dlrolesub_zaemshik_...                                        0.019370   \n",
       "crdeal_deallife__loans_cnt__dldonor_bnk                                                   0.135666   \n",
       "crdeal_deallife__loans_cnt__dldonor_bnk__opened...                                        0.054911   \n",
       "...                                                                                            ...   \n",
       "credres__credit_req_cnt__org_bnk__last_30_days                                            1.000000   \n",
       "credres__credit_req_cnt__org_bnk__last_60_days                                            0.813793   \n",
       "credres__credit_req_cnt__org_bnk__more_than_90_...                                        0.162939   \n",
       "credres__credit_req_cnt__org_bnk__last_360_days                                           0.468698   \n",
       "credres__credit_req_cnt__org_bnk__more_than_360...                                        0.107198   \n",
       "\n",
       "                                                    credres__credit_req_cnt__org_bnk__last_60_days  \\\n",
       "target_flag                                                                              -0.047482   \n",
       "crdeal_deallife__loans_cnt__dlrolesub_zaemshik_...                                        0.082420   \n",
       "crdeal_deallife__loans_cnt__dlrolesub_zaemshik_...                                        0.021928   \n",
       "crdeal_deallife__loans_cnt__dldonor_bnk                                                   0.194585   \n",
       "crdeal_deallife__loans_cnt__dldonor_bnk__opened...                                        0.043022   \n",
       "...                                                                                            ...   \n",
       "credres__credit_req_cnt__org_bnk__last_30_days                                            0.813793   \n",
       "credres__credit_req_cnt__org_bnk__last_60_days                                            1.000000   \n",
       "credres__credit_req_cnt__org_bnk__more_than_90_...                                        0.238205   \n",
       "credres__credit_req_cnt__org_bnk__last_360_days                                           0.616566   \n",
       "credres__credit_req_cnt__org_bnk__more_than_360...                                        0.156267   \n",
       "\n",
       "                                                    credres__credit_req_cnt__org_bnk__more_than_90_days  \\\n",
       "target_flag                                                                                  0.061724     \n",
       "crdeal_deallife__loans_cnt__dlrolesub_zaemshik_...                                           0.379365     \n",
       "crdeal_deallife__loans_cnt__dlrolesub_zaemshik_...                                           0.040042     \n",
       "crdeal_deallife__loans_cnt__dldonor_bnk                                                      0.475663     \n",
       "crdeal_deallife__loans_cnt__dldonor_bnk__opened...                                           0.010901     \n",
       "...                                                                                               ...     \n",
       "credres__credit_req_cnt__org_bnk__last_30_days                                               0.162939     \n",
       "credres__credit_req_cnt__org_bnk__last_60_days                                               0.238205     \n",
       "credres__credit_req_cnt__org_bnk__more_than_90_...                                           1.000000     \n",
       "credres__credit_req_cnt__org_bnk__last_360_days                                              0.768297     \n",
       "credres__credit_req_cnt__org_bnk__more_than_360...                                           0.856923     \n",
       "\n",
       "                                                    credres__credit_req_cnt__org_bnk__last_360_days  \\\n",
       "target_flag                                                                                0.012885   \n",
       "crdeal_deallife__loans_cnt__dlrolesub_zaemshik_...                                         0.295388   \n",
       "crdeal_deallife__loans_cnt__dlrolesub_zaemshik_...                                         0.030510   \n",
       "crdeal_deallife__loans_cnt__dldonor_bnk                                                    0.378076   \n",
       "crdeal_deallife__loans_cnt__dldonor_bnk__opened...                                         0.019944   \n",
       "...                                                                                             ...   \n",
       "credres__credit_req_cnt__org_bnk__last_30_days                                             0.468698   \n",
       "credres__credit_req_cnt__org_bnk__last_60_days                                             0.616566   \n",
       "credres__credit_req_cnt__org_bnk__more_than_90_...                                         0.768297   \n",
       "credres__credit_req_cnt__org_bnk__last_360_days                                            1.000000   \n",
       "credres__credit_req_cnt__org_bnk__more_than_360...                                         0.423432   \n",
       "\n",
       "                                                    credres__credit_req_cnt__org_bnk__more_than_360_days  \n",
       "target_flag                                                                                  0.063783     \n",
       "crdeal_deallife__loans_cnt__dlrolesub_zaemshik_...                                           0.322104     \n",
       "crdeal_deallife__loans_cnt__dlrolesub_zaemshik_...                                           0.039556     \n",
       "crdeal_deallife__loans_cnt__dldonor_bnk                                                      0.444309     \n",
       "crdeal_deallife__loans_cnt__dldonor_bnk__opened...                                           0.011899     \n",
       "...                                                                                               ...     \n",
       "credres__credit_req_cnt__org_bnk__last_30_days                                               0.107198     \n",
       "credres__credit_req_cnt__org_bnk__last_60_days                                               0.156267     \n",
       "credres__credit_req_cnt__org_bnk__more_than_90_...                                           0.856923     \n",
       "credres__credit_req_cnt__org_bnk__last_360_days                                              0.423432     \n",
       "credres__credit_req_cnt__org_bnk__more_than_360...                                           1.000000     \n",
       "\n",
       "[279 rows x 279 columns]"
      ],
      "text/html": "<div>\n<style scoped>\n    .dataframe tbody tr th:only-of-type {\n        vertical-align: middle;\n    }\n\n    .dataframe tbody tr th {\n        vertical-align: top;\n    }\n\n    .dataframe thead th {\n        text-align: right;\n    }\n</style>\n<table border=\"1\" class=\"dataframe\">\n  <thead>\n    <tr style=\"text-align: right;\">\n      <th></th>\n      <th>target_flag</th>\n      <th>crdeal_deallife__loans_cnt__dlrolesub_zaemshik__curr_uah</th>\n      <th>crdeal_deallife__loans_cnt__dlrolesub_zaemshik__curr_not_uah</th>\n      <th>crdeal_deallife__loans_cnt__dldonor_bnk</th>\n      <th>crdeal_deallife__loans_cnt__dldonor_bnk__opened_lteq_7_days</th>\n      <th>crdeal_deallife__loans_cnt__dldonor_bnk__opened_lteq_30_days</th>\n      <th>crdeal_deallife__loans_cnt__dldonor_bnk__opened_lteq_45_days</th>\n      <th>crdeal_deallife__loans_cnt__dldonor_bnk__opened_lteq_60_days</th>\n      <th>crdeal_deallife__loans_cnt__dldonor_bnk__opened_lteq_90_days</th>\n      <th>crdeal_deallife__loans_cnt__dldonor_bnk__opened_lteq_120_days</th>\n      <th>...</th>\n      <th>credres__credit_req_cnt__org_bnk__last_3_5_days</th>\n      <th>credres__credit_req_cnt__org_bnk__last_7_days</th>\n      <th>credres__credit_req_cnt__org_bnk__last_10_days</th>\n      <th>credres__credit_req_cnt__org_bnk__last_13_days</th>\n      <th>credres__credit_req_cnt__org_bnk__last_20_days</th>\n      <th>credres__credit_req_cnt__org_bnk__last_30_days</th>\n      <th>credres__credit_req_cnt__org_bnk__last_60_days</th>\n      <th>credres__credit_req_cnt__org_bnk__more_than_90_days</th>\n      <th>credres__credit_req_cnt__org_bnk__last_360_days</th>\n      <th>credres__credit_req_cnt__org_bnk__more_than_360_days</th>\n    </tr>\n  </thead>\n  <tbody>\n    <tr>\n      <th>target_flag</th>\n      <td>1.000000</td>\n      <td>0.091743</td>\n      <td>0.013211</td>\n      <td>0.038861</td>\n      <td>-0.007049</td>\n      <td>-0.011811</td>\n      <td>-0.017213</td>\n      <td>-0.022600</td>\n      <td>-0.017219</td>\n      <td>-0.013722</td>\n      <td>...</td>\n      <td>-0.020655</td>\n      <td>-0.027994</td>\n      <td>-0.029913</td>\n      <td>-0.033918</td>\n      <td>-0.040779</td>\n      <td>-0.044781</td>\n      <td>-0.047482</td>\n      <td>0.061724</td>\n      <td>0.012885</td>\n      <td>0.063783</td>\n    </tr>\n    <tr>\n      <th>crdeal_deallife__loans_cnt__dlrolesub_zaemshik__curr_uah</th>\n      <td>0.091743</td>\n      <td>1.000000</td>\n      <td>0.022652</td>\n      <td>0.273456</td>\n      <td>-0.005998</td>\n      <td>0.014167</td>\n      <td>0.020049</td>\n      <td>0.023663</td>\n      <td>0.043557</td>\n      <td>0.051764</td>\n      <td>...</td>\n      <td>0.002438</td>\n      <td>0.008426</td>\n      <td>0.015355</td>\n      <td>0.018750</td>\n      <td>0.026693</td>\n      <td>0.042059</td>\n      <td>0.082420</td>\n      <td>0.379365</td>\n      <td>0.295388</td>\n      <td>0.322104</td>\n    </tr>\n    <tr>\n      <th>crdeal_deallife__loans_cnt__dlrolesub_zaemshik__curr_not_uah</th>\n      <td>0.013211</td>\n      <td>0.022652</td>\n      <td>1.000000</td>\n      <td>0.068526</td>\n      <td>0.001052</td>\n      <td>-0.000032</td>\n      <td>0.007995</td>\n      <td>0.007843</td>\n      <td>0.003092</td>\n      <td>0.002735</td>\n      <td>...</td>\n      <td>0.007526</td>\n      <td>0.007545</td>\n      <td>0.015456</td>\n      <td>0.016200</td>\n      <td>0.021692</td>\n      <td>0.019370</td>\n      <td>0.021928</td>\n      <td>0.040042</td>\n      <td>0.030510</td>\n      <td>0.039556</td>\n    </tr>\n    <tr>\n      <th>crdeal_deallife__loans_cnt__dldonor_bnk</th>\n      <td>0.038861</td>\n      <td>0.273456</td>\n      <td>0.068526</td>\n      <td>1.000000</td>\n      <td>0.029250</td>\n      <td>0.205050</td>\n      <td>0.277884</td>\n      <td>0.323573</td>\n      <td>0.403166</td>\n      <td>0.460923</td>\n      <td>...</td>\n      <td>0.044780</td>\n      <td>0.057475</td>\n      <td>0.071271</td>\n      <td>0.081803</td>\n      <td>0.108255</td>\n      <td>0.135666</td>\n      <td>0.194585</td>\n      <td>0.475663</td>\n      <td>0.378076</td>\n      <td>0.444309</td>\n    </tr>\n    <tr>\n      <th>crdeal_deallife__loans_cnt__dldonor_bnk__opened_lteq_7_days</th>\n      <td>-0.007049</td>\n      <td>-0.005998</td>\n      <td>0.001052</td>\n      <td>0.029250</td>\n      <td>1.000000</td>\n      <td>0.323123</td>\n      <td>0.236427</td>\n      <td>0.189661</td>\n      <td>0.138114</td>\n      <td>0.117182</td>\n      <td>...</td>\n      <td>0.058297</td>\n      <td>0.081329</td>\n      <td>0.073869</td>\n      <td>0.072200</td>\n      <td>0.062868</td>\n      <td>0.054911</td>\n      <td>0.043022</td>\n      <td>0.010901</td>\n      <td>0.019944</td>\n      <td>0.011899</td>\n    </tr>\n    <tr>\n      <th>...</th>\n      <td>...</td>\n      <td>...</td>\n      <td>...</td>\n      <td>...</td>\n      <td>...</td>\n      <td>...</td>\n      <td>...</td>\n      <td>...</td>\n      <td>...</td>\n      <td>...</td>\n      <td>...</td>\n      <td>...</td>\n      <td>...</td>\n      <td>...</td>\n      <td>...</td>\n      <td>...</td>\n      <td>...</td>\n      <td>...</td>\n      <td>...</td>\n      <td>...</td>\n      <td>...</td>\n    </tr>\n    <tr>\n      <th>credres__credit_req_cnt__org_bnk__last_30_days</th>\n      <td>-0.044781</td>\n      <td>0.042059</td>\n      <td>0.019370</td>\n      <td>0.135666</td>\n      <td>0.054911</td>\n      <td>0.212988</td>\n      <td>0.206939</td>\n      <td>0.196184</td>\n      <td>0.184562</td>\n      <td>0.180395</td>\n      <td>...</td>\n      <td>0.434945</td>\n      <td>0.571008</td>\n      <td>0.661063</td>\n      <td>0.732974</td>\n      <td>0.873283</td>\n      <td>1.000000</td>\n      <td>0.813793</td>\n      <td>0.162939</td>\n      <td>0.468698</td>\n      <td>0.107198</td>\n    </tr>\n    <tr>\n      <th>credres__credit_req_cnt__org_bnk__last_60_days</th>\n      <td>-0.047482</td>\n      <td>0.082420</td>\n      <td>0.021928</td>\n      <td>0.194585</td>\n      <td>0.043022</td>\n      <td>0.173926</td>\n      <td>0.244423</td>\n      <td>0.284395</td>\n      <td>0.264335</td>\n      <td>0.258730</td>\n      <td>...</td>\n      <td>0.343214</td>\n      <td>0.449135</td>\n      <td>0.523404</td>\n      <td>0.581142</td>\n      <td>0.696603</td>\n      <td>0.813793</td>\n      <td>1.000000</td>\n      <td>0.238205</td>\n      <td>0.616566</td>\n      <td>0.156267</td>\n    </tr>\n    <tr>\n      <th>credres__credit_req_cnt__org_bnk__more_than_90_days</th>\n      <td>0.061724</td>\n      <td>0.379365</td>\n      <td>0.040042</td>\n      <td>0.475663</td>\n      <td>0.010901</td>\n      <td>0.052234</td>\n      <td>0.074846</td>\n      <td>0.086743</td>\n      <td>0.117520</td>\n      <td>0.164420</td>\n      <td>...</td>\n      <td>0.055509</td>\n      <td>0.076927</td>\n      <td>0.093639</td>\n      <td>0.106141</td>\n      <td>0.126173</td>\n      <td>0.162939</td>\n      <td>0.238205</td>\n      <td>1.000000</td>\n      <td>0.768297</td>\n      <td>0.856923</td>\n    </tr>\n    <tr>\n      <th>credres__credit_req_cnt__org_bnk__last_360_days</th>\n      <td>0.012885</td>\n      <td>0.295388</td>\n      <td>0.030510</td>\n      <td>0.378076</td>\n      <td>0.019944</td>\n      <td>0.105179</td>\n      <td>0.149380</td>\n      <td>0.180100</td>\n      <td>0.232132</td>\n      <td>0.276797</td>\n      <td>...</td>\n      <td>0.179013</td>\n      <td>0.237775</td>\n      <td>0.281889</td>\n      <td>0.315962</td>\n      <td>0.385610</td>\n      <td>0.468698</td>\n      <td>0.616566</td>\n      <td>0.768297</td>\n      <td>1.000000</td>\n      <td>0.423432</td>\n    </tr>\n    <tr>\n      <th>credres__credit_req_cnt__org_bnk__more_than_360_days</th>\n      <td>0.063783</td>\n      <td>0.322104</td>\n      <td>0.039556</td>\n      <td>0.444309</td>\n      <td>0.011899</td>\n      <td>0.041575</td>\n      <td>0.060106</td>\n      <td>0.065857</td>\n      <td>0.083124</td>\n      <td>0.102757</td>\n      <td>...</td>\n      <td>0.041563</td>\n      <td>0.057083</td>\n      <td>0.068549</td>\n      <td>0.075749</td>\n      <td>0.084711</td>\n      <td>0.107198</td>\n      <td>0.156267</td>\n      <td>0.856923</td>\n      <td>0.423432</td>\n      <td>1.000000</td>\n    </tr>\n  </tbody>\n</table>\n<p>279 rows × 279 columns</p>\n</div>"
     },
     "metadata": {},
     "execution_count": 18
    }
   ],
   "source": [
    "cor"
   ]
  },
  {
   "cell_type": "code",
   "execution_count": 19,
   "metadata": {},
   "outputs": [],
   "source": [
    "cor_target = abs(cor[\"target_flag\"])"
   ]
  },
  {
   "cell_type": "code",
   "execution_count": 20,
   "metadata": {},
   "outputs": [
    {
     "output_type": "execute_result",
     "data": {
      "text/plain": [
       "target_flag    1.0\n",
       "Name: target_flag, dtype: float64"
      ]
     },
     "metadata": {},
     "execution_count": 20
    }
   ],
   "source": [
    "relevant_features = cor_target[cor_target>0.5]\n",
    "relevant_features"
   ]
  },
  {
   "source": [
    "No features highly corellated with the target found"
   ],
   "cell_type": "markdown",
   "metadata": {}
  },
  {
   "source": [
    "# Splitting train data into train and validation datasets"
   ],
   "cell_type": "markdown",
   "metadata": {}
  },
  {
   "cell_type": "code",
   "execution_count": 21,
   "metadata": {},
   "outputs": [],
   "source": [
    "y = train_data['target_flag']\n",
    "X = train_data.drop('target_flag', axis=1)"
   ]
  },
  {
   "cell_type": "code",
   "execution_count": 22,
   "metadata": {},
   "outputs": [],
   "source": [
    "X_train, X_test, y_train, y_test = train_test_split(\n",
    "    X, y, test_size=0.33, random_state=42)"
   ]
  },
  {
   "cell_type": "code",
   "execution_count": 23,
   "metadata": {},
   "outputs": [
    {
     "output_type": "execute_result",
     "data": {
      "text/plain": [
       "100"
      ]
     },
     "metadata": {},
     "execution_count": 23
    }
   ],
   "source": [
    "del X, y, le, train_data, data, relevant_features, cor, cor_target\n",
    "gc.collect()"
   ]
  },
  {
   "source": [
    "# Scaling data"
   ],
   "cell_type": "markdown",
   "metadata": {}
  },
  {
   "cell_type": "code",
   "execution_count": 24,
   "metadata": {},
   "outputs": [],
   "source": [
    "scaler = StandardScaler().fit(X_train)"
   ]
  },
  {
   "cell_type": "code",
   "execution_count": 25,
   "metadata": {},
   "outputs": [],
   "source": [
    "X_train = scaler.transform(X_train)"
   ]
  },
  {
   "source": [
    "# Fitting a Logistic Regression model"
   ],
   "cell_type": "markdown",
   "metadata": {}
  },
  {
   "cell_type": "code",
   "execution_count": 26,
   "metadata": {},
   "outputs": [],
   "source": [
    "log_reg = LogisticRegression()"
   ]
  },
  {
   "source": [
    "** Using RandomizedSearchCV **"
   ],
   "cell_type": "markdown",
   "metadata": {}
  },
  {
   "cell_type": "code",
   "execution_count": 27,
   "metadata": {},
   "outputs": [
    {
     "output_type": "stream",
     "name": "stdout",
     "text": [
      "{'C': [0.0,\n       0.1111111111111111,\n       0.2222222222222222,\n       0.3333333333333333,\n       0.4444444444444444,\n       0.5555555555555556,\n       0.6666666666666666,\n       0.7777777777777777,\n       0.8888888888888888,\n       1.0],\n 'class_weight': ['balanced'],\n 'max_iter': [500, 555, 611, 666, 722, 777, 833, 888, 944, 1000],\n 'penalty': ['none'],\n 'solver': ['sag'],\n 'tol': [0.0001, 0.001, 0.01, 0.1]}\n"
     ]
    }
   ],
   "source": [
    "penalty = ['none']\n",
    "tol = [1e-4, 1e-3, 1e-2, 1e-1]\n",
    "C = [float(x) for x in np.linspace(0, 1, num = 10)]\n",
    "class_weight = ['balanced'] \n",
    "solver = ['sag']\n",
    "max_iter = [int(x) for x in np.linspace(500, 1000, num = 10)]\n",
    "\n",
    "\n",
    "random_grid = {\n",
    "    'penalty' : penalty,\n",
    "    'tol' : tol,\n",
    "    'max_iter' : max_iter,\n",
    "    'C': C,\n",
    "    'solver' : solver,\n",
    "    'class_weight' : class_weight\n",
    "}\n",
    "\n",
    "\n",
    "pprint(random_grid)"
   ]
  },
  {
   "cell_type": "code",
   "execution_count": 28,
   "metadata": {},
   "outputs": [],
   "source": [
    "clf = RandomizedSearchCV(estimator = log_reg, param_distributions = random_grid, n_iter = 5, cv = 3, verbose = 2, random_state = 42, n_jobs = -1, scoring = 'roc_auc')"
   ]
  },
  {
   "cell_type": "code",
   "execution_count": 29,
   "metadata": {},
   "outputs": [
    {
     "output_type": "stream",
     "name": "stdout",
     "text": [
      "Fitting 3 folds for each of 5 candidates, totalling 15 fits\n",
      "[Parallel(n_jobs=-1)]: Using backend LokyBackend with 8 concurrent workers.\n",
      "[Parallel(n_jobs=-1)]: Done   8 out of  15 | elapsed:  1.6min remaining:  1.4min\n",
      "[Parallel(n_jobs=-1)]: Done  15 out of  15 | elapsed:  2.6min finished\n",
      "CPU times: user 49.2 s, sys: 363 ms, total: 49.5 s\n",
      "Wall time: 3min 24s\n"
     ]
    },
    {
     "output_type": "execute_result",
     "data": {
      "text/plain": [
       "RandomizedSearchCV(cv=3, estimator=LogisticRegression(), n_iter=5, n_jobs=-1,\n",
       "                   param_distributions={'C': [0.0, 0.1111111111111111,\n",
       "                                              0.2222222222222222,\n",
       "                                              0.3333333333333333,\n",
       "                                              0.4444444444444444,\n",
       "                                              0.5555555555555556,\n",
       "                                              0.6666666666666666,\n",
       "                                              0.7777777777777777,\n",
       "                                              0.8888888888888888, 1.0],\n",
       "                                        'class_weight': ['balanced'],\n",
       "                                        'max_iter': [500, 555, 611, 666, 722,\n",
       "                                                     777, 833, 888, 944, 1000],\n",
       "                                        'penalty': ['none'], 'solver': ['sag'],\n",
       "                                        'tol': [0.0001, 0.001, 0.01, 0.1]},\n",
       "                   random_state=42, scoring='roc_auc', verbose=2)"
      ]
     },
     "metadata": {},
     "execution_count": 29
    }
   ],
   "source": [
    "%%time\n",
    "clf.fit(X_train, y_train)"
   ]
  },
  {
   "cell_type": "code",
   "execution_count": 30,
   "metadata": {},
   "outputs": [
    {
     "output_type": "stream",
     "name": "stdout",
     "text": [
      "Best Score:  0.6471508511629334\nBest Params:  {'tol': 0.0001, 'solver': 'sag', 'penalty': 'none', 'max_iter': 500, 'class_weight': 'balanced', 'C': 0.7777777777777777}\n"
     ]
    }
   ],
   "source": [
    "print('Best Score: ', clf.best_score_) \n",
    "print('Best Params: ', clf.best_params_)"
   ]
  },
  {
   "cell_type": "code",
   "execution_count": 31,
   "metadata": {},
   "outputs": [],
   "source": [
    "pred = clf.predict(X_test)"
   ]
  },
  {
   "cell_type": "code",
   "execution_count": 32,
   "metadata": {},
   "outputs": [
    {
     "output_type": "execute_result",
     "data": {
      "text/plain": [
       "381"
      ]
     },
     "metadata": {},
     "execution_count": 32
    }
   ],
   "source": [
    "del X_train, y_train\n",
    "gc.collect()"
   ]
  },
  {
   "source": [
    "# Measuring performance"
   ],
   "cell_type": "markdown",
   "metadata": {}
  },
  {
   "cell_type": "code",
   "execution_count": 46,
   "metadata": {},
   "outputs": [
    {
     "output_type": "error",
     "ename": "NameError",
     "evalue": "name 'y_test' is not defined",
     "traceback": [
      "\u001b[0;31m---------------------------------------------------------------------------\u001b[0m",
      "\u001b[0;31mNameError\u001b[0m                                 Traceback (most recent call last)",
      "\u001b[0;32m<ipython-input-46-9f2b9ddd5dd3>\u001b[0m in \u001b[0;36m<module>\u001b[0;34m\u001b[0m\n\u001b[0;32m----> 1\u001b[0;31m \u001b[0mfpr\u001b[0m\u001b[0;34m,\u001b[0m \u001b[0mtpr\u001b[0m\u001b[0;34m,\u001b[0m \u001b[0mthresholds\u001b[0m \u001b[0;34m=\u001b[0m \u001b[0mroc_curve\u001b[0m\u001b[0;34m(\u001b[0m\u001b[0my_test\u001b[0m\u001b[0;34m,\u001b[0m \u001b[0mpred\u001b[0m\u001b[0;34m)\u001b[0m\u001b[0;34m\u001b[0m\u001b[0;34m\u001b[0m\u001b[0m\n\u001b[0m\u001b[1;32m      2\u001b[0m \u001b[0mprint\u001b[0m\u001b[0;34m(\u001b[0m\u001b[0mauc\u001b[0m\u001b[0;34m(\u001b[0m\u001b[0mfpr\u001b[0m\u001b[0;34m,\u001b[0m \u001b[0mtpr\u001b[0m\u001b[0;34m)\u001b[0m\u001b[0;34m)\u001b[0m\u001b[0;34m\u001b[0m\u001b[0;34m\u001b[0m\u001b[0m\n",
      "\u001b[0;31mNameError\u001b[0m: name 'y_test' is not defined"
     ]
    }
   ],
   "source": [
    "fpr, tpr, thresholds = roc_curve(y_test, pred)\n",
    "print(auc(fpr, tpr))"
   ]
  },
  {
   "cell_type": "code",
   "execution_count": 34,
   "metadata": {},
   "outputs": [
    {
     "output_type": "execute_result",
     "data": {
      "text/plain": [
       "0.6616843920666858"
      ]
     },
     "metadata": {},
     "execution_count": 34
    }
   ],
   "source": [
    "accuracy_score(y_test, pred)"
   ]
  },
  {
   "cell_type": "code",
   "execution_count": 35,
   "metadata": {},
   "outputs": [
    {
     "output_type": "execute_result",
     "data": {
      "text/plain": [
       "0.7816191477518708"
      ]
     },
     "metadata": {},
     "execution_count": 35
    }
   ],
   "source": [
    "f1_score(y_test, pred)"
   ]
  },
  {
   "cell_type": "code",
   "execution_count": 36,
   "metadata": {},
   "outputs": [
    {
     "output_type": "execute_result",
     "data": {
      "text/plain": [
       "2864"
      ]
     },
     "metadata": {},
     "execution_count": 36
    }
   ],
   "source": [
    "del X_test, y_test, pred\n",
    "gc.collect()"
   ]
  },
  {
   "source": [
    "# Making predictions on test data"
   ],
   "cell_type": "markdown",
   "metadata": {}
  },
  {
   "cell_type": "code",
   "execution_count": 37,
   "metadata": {},
   "outputs": [],
   "source": [
    "target_flag = clf.predict(test_data)"
   ]
  },
  {
   "cell_type": "code",
   "execution_count": 38,
   "metadata": {},
   "outputs": [
    {
     "output_type": "execute_result",
     "data": {
      "text/plain": [
       "array([1, 1, 1, ..., 1, 1, 1])"
      ]
     },
     "metadata": {},
     "execution_count": 38
    }
   ],
   "source": [
    "target_flag"
   ]
  },
  {
   "cell_type": "code",
   "execution_count": 39,
   "metadata": {},
   "outputs": [
    {
     "output_type": "execute_result",
     "data": {
      "text/plain": [
       "    crdeal_deallife__loans_cnt__dlrolesub_zaemshik__curr_uah  \\\n",
       "7                                                 3.0          \n",
       "9                                                25.0          \n",
       "14                                               21.0          \n",
       "17                                               16.0          \n",
       "21                                                9.0          \n",
       "\n",
       "    crdeal_deallife__loans_cnt__dlrolesub_zaemshik__curr_not_uah  \\\n",
       "7                                                 0.0              \n",
       "9                                                 0.0              \n",
       "14                                                0.0              \n",
       "17                                                0.0              \n",
       "21                                                0.0              \n",
       "\n",
       "    crdeal_deallife__loans_cnt__dldonor_bnk  \\\n",
       "7                                       2.0   \n",
       "9                                       5.0   \n",
       "14                                      2.0   \n",
       "17                                      0.0   \n",
       "21                                      2.0   \n",
       "\n",
       "    crdeal_deallife__loans_cnt__dldonor_bnk__opened_lteq_7_days  \\\n",
       "7                                                 0.0             \n",
       "9                                                 0.0             \n",
       "14                                                0.0             \n",
       "17                                                0.0             \n",
       "21                                                0.0             \n",
       "\n",
       "    crdeal_deallife__loans_cnt__dldonor_bnk__opened_lteq_30_days  \\\n",
       "7                                                 0.0              \n",
       "9                                                 0.0              \n",
       "14                                                0.0              \n",
       "17                                                0.0              \n",
       "21                                                0.0              \n",
       "\n",
       "    crdeal_deallife__loans_cnt__dldonor_bnk__opened_lteq_45_days  \\\n",
       "7                                                 0.0              \n",
       "9                                                 0.0              \n",
       "14                                                0.0              \n",
       "17                                                0.0              \n",
       "21                                                0.0              \n",
       "\n",
       "    crdeal_deallife__loans_cnt__dldonor_bnk__opened_lteq_60_days  \\\n",
       "7                                                 0.0              \n",
       "9                                                 0.0              \n",
       "14                                                0.0              \n",
       "17                                                0.0              \n",
       "21                                                0.0              \n",
       "\n",
       "    crdeal_deallife__loans_cnt__dldonor_bnk__opened_lteq_90_days  \\\n",
       "7                                                 0.0              \n",
       "9                                                 0.0              \n",
       "14                                                0.0              \n",
       "17                                                0.0              \n",
       "21                                                0.0              \n",
       "\n",
       "    crdeal_deallife__loans_cnt__dldonor_bnk__opened_lteq_120_days  \\\n",
       "7                                                 0.0               \n",
       "9                                                 0.0               \n",
       "14                                                0.0               \n",
       "17                                                0.0               \n",
       "21                                                0.0               \n",
       "\n",
       "    crdeal_deallife__loans_cnt__dldonor_bnk__opened_lteq_180_days  ...  \\\n",
       "7                                                 0.0              ...   \n",
       "9                                                 0.0              ...   \n",
       "14                                                0.0              ...   \n",
       "17                                                0.0              ...   \n",
       "21                                                0.0              ...   \n",
       "\n",
       "    credres__credit_req_cnt__org_bnk__last_3_5_days  \\\n",
       "7                                               0.0   \n",
       "9                                               0.0   \n",
       "14                                              0.0   \n",
       "17                                              0.0   \n",
       "21                                              0.0   \n",
       "\n",
       "    credres__credit_req_cnt__org_bnk__last_7_days  \\\n",
       "7                                             0.0   \n",
       "9                                             0.0   \n",
       "14                                            0.0   \n",
       "17                                            0.0   \n",
       "21                                            0.0   \n",
       "\n",
       "    credres__credit_req_cnt__org_bnk__last_10_days  \\\n",
       "7                                              0.0   \n",
       "9                                              0.0   \n",
       "14                                             0.0   \n",
       "17                                             0.0   \n",
       "21                                             0.0   \n",
       "\n",
       "    credres__credit_req_cnt__org_bnk__last_13_days  \\\n",
       "7                                              0.0   \n",
       "9                                              1.0   \n",
       "14                                             2.0   \n",
       "17                                             0.0   \n",
       "21                                             0.0   \n",
       "\n",
       "    credres__credit_req_cnt__org_bnk__last_20_days  \\\n",
       "7                                              0.0   \n",
       "9                                              1.0   \n",
       "14                                             2.0   \n",
       "17                                             0.0   \n",
       "21                                             0.0   \n",
       "\n",
       "    credres__credit_req_cnt__org_bnk__last_30_days  \\\n",
       "7                                              0.0   \n",
       "9                                              1.0   \n",
       "14                                             2.0   \n",
       "17                                             0.0   \n",
       "21                                             0.0   \n",
       "\n",
       "    credres__credit_req_cnt__org_bnk__last_60_days  \\\n",
       "7                                              0.0   \n",
       "9                                              4.0   \n",
       "14                                             2.0   \n",
       "17                                             1.0   \n",
       "21                                             0.0   \n",
       "\n",
       "    credres__credit_req_cnt__org_bnk__more_than_90_days  \\\n",
       "7                                                 1.0     \n",
       "9                                                11.0     \n",
       "14                                                6.0     \n",
       "17                                                0.0     \n",
       "21                                                2.0     \n",
       "\n",
       "    credres__credit_req_cnt__org_bnk__last_360_days  \\\n",
       "7                                               0.0   \n",
       "9                                               9.0   \n",
       "14                                              7.0   \n",
       "17                                              1.0   \n",
       "21                                              0.0   \n",
       "\n",
       "    credres__credit_req_cnt__org_bnk__more_than_360_days  \n",
       "7                                                 1.0     \n",
       "9                                                 7.0     \n",
       "14                                                1.0     \n",
       "17                                                0.0     \n",
       "21                                                2.0     \n",
       "\n",
       "[5 rows x 278 columns]"
      ],
      "text/html": "<div>\n<style scoped>\n    .dataframe tbody tr th:only-of-type {\n        vertical-align: middle;\n    }\n\n    .dataframe tbody tr th {\n        vertical-align: top;\n    }\n\n    .dataframe thead th {\n        text-align: right;\n    }\n</style>\n<table border=\"1\" class=\"dataframe\">\n  <thead>\n    <tr style=\"text-align: right;\">\n      <th></th>\n      <th>crdeal_deallife__loans_cnt__dlrolesub_zaemshik__curr_uah</th>\n      <th>crdeal_deallife__loans_cnt__dlrolesub_zaemshik__curr_not_uah</th>\n      <th>crdeal_deallife__loans_cnt__dldonor_bnk</th>\n      <th>crdeal_deallife__loans_cnt__dldonor_bnk__opened_lteq_7_days</th>\n      <th>crdeal_deallife__loans_cnt__dldonor_bnk__opened_lteq_30_days</th>\n      <th>crdeal_deallife__loans_cnt__dldonor_bnk__opened_lteq_45_days</th>\n      <th>crdeal_deallife__loans_cnt__dldonor_bnk__opened_lteq_60_days</th>\n      <th>crdeal_deallife__loans_cnt__dldonor_bnk__opened_lteq_90_days</th>\n      <th>crdeal_deallife__loans_cnt__dldonor_bnk__opened_lteq_120_days</th>\n      <th>crdeal_deallife__loans_cnt__dldonor_bnk__opened_lteq_180_days</th>\n      <th>...</th>\n      <th>credres__credit_req_cnt__org_bnk__last_3_5_days</th>\n      <th>credres__credit_req_cnt__org_bnk__last_7_days</th>\n      <th>credres__credit_req_cnt__org_bnk__last_10_days</th>\n      <th>credres__credit_req_cnt__org_bnk__last_13_days</th>\n      <th>credres__credit_req_cnt__org_bnk__last_20_days</th>\n      <th>credres__credit_req_cnt__org_bnk__last_30_days</th>\n      <th>credres__credit_req_cnt__org_bnk__last_60_days</th>\n      <th>credres__credit_req_cnt__org_bnk__more_than_90_days</th>\n      <th>credres__credit_req_cnt__org_bnk__last_360_days</th>\n      <th>credres__credit_req_cnt__org_bnk__more_than_360_days</th>\n    </tr>\n  </thead>\n  <tbody>\n    <tr>\n      <th>7</th>\n      <td>3.0</td>\n      <td>0.0</td>\n      <td>2.0</td>\n      <td>0.0</td>\n      <td>0.0</td>\n      <td>0.0</td>\n      <td>0.0</td>\n      <td>0.0</td>\n      <td>0.0</td>\n      <td>0.0</td>\n      <td>...</td>\n      <td>0.0</td>\n      <td>0.0</td>\n      <td>0.0</td>\n      <td>0.0</td>\n      <td>0.0</td>\n      <td>0.0</td>\n      <td>0.0</td>\n      <td>1.0</td>\n      <td>0.0</td>\n      <td>1.0</td>\n    </tr>\n    <tr>\n      <th>9</th>\n      <td>25.0</td>\n      <td>0.0</td>\n      <td>5.0</td>\n      <td>0.0</td>\n      <td>0.0</td>\n      <td>0.0</td>\n      <td>0.0</td>\n      <td>0.0</td>\n      <td>0.0</td>\n      <td>0.0</td>\n      <td>...</td>\n      <td>0.0</td>\n      <td>0.0</td>\n      <td>0.0</td>\n      <td>1.0</td>\n      <td>1.0</td>\n      <td>1.0</td>\n      <td>4.0</td>\n      <td>11.0</td>\n      <td>9.0</td>\n      <td>7.0</td>\n    </tr>\n    <tr>\n      <th>14</th>\n      <td>21.0</td>\n      <td>0.0</td>\n      <td>2.0</td>\n      <td>0.0</td>\n      <td>0.0</td>\n      <td>0.0</td>\n      <td>0.0</td>\n      <td>0.0</td>\n      <td>0.0</td>\n      <td>0.0</td>\n      <td>...</td>\n      <td>0.0</td>\n      <td>0.0</td>\n      <td>0.0</td>\n      <td>2.0</td>\n      <td>2.0</td>\n      <td>2.0</td>\n      <td>2.0</td>\n      <td>6.0</td>\n      <td>7.0</td>\n      <td>1.0</td>\n    </tr>\n    <tr>\n      <th>17</th>\n      <td>16.0</td>\n      <td>0.0</td>\n      <td>0.0</td>\n      <td>0.0</td>\n      <td>0.0</td>\n      <td>0.0</td>\n      <td>0.0</td>\n      <td>0.0</td>\n      <td>0.0</td>\n      <td>0.0</td>\n      <td>...</td>\n      <td>0.0</td>\n      <td>0.0</td>\n      <td>0.0</td>\n      <td>0.0</td>\n      <td>0.0</td>\n      <td>0.0</td>\n      <td>1.0</td>\n      <td>0.0</td>\n      <td>1.0</td>\n      <td>0.0</td>\n    </tr>\n    <tr>\n      <th>21</th>\n      <td>9.0</td>\n      <td>0.0</td>\n      <td>2.0</td>\n      <td>0.0</td>\n      <td>0.0</td>\n      <td>0.0</td>\n      <td>0.0</td>\n      <td>0.0</td>\n      <td>0.0</td>\n      <td>0.0</td>\n      <td>...</td>\n      <td>0.0</td>\n      <td>0.0</td>\n      <td>0.0</td>\n      <td>0.0</td>\n      <td>0.0</td>\n      <td>0.0</td>\n      <td>0.0</td>\n      <td>2.0</td>\n      <td>0.0</td>\n      <td>2.0</td>\n    </tr>\n  </tbody>\n</table>\n<p>5 rows × 278 columns</p>\n</div>"
     },
     "metadata": {},
     "execution_count": 39
    }
   ],
   "source": [
    "test_data.head()"
   ]
  },
  {
   "cell_type": "code",
   "execution_count": 40,
   "metadata": {},
   "outputs": [],
   "source": [
    "data = pd.concat([pd.Series(target_flag, name='target_flag', index=test_data.index), test_data], axis=1)"
   ]
  },
  {
   "cell_type": "code",
   "execution_count": 41,
   "metadata": {},
   "outputs": [
    {
     "output_type": "execute_result",
     "data": {
      "text/plain": [
       "    target_flag  crdeal_deallife__loans_cnt__dlrolesub_zaemshik__curr_uah  \\\n",
       "7             1                                                3.0          \n",
       "9             1                                               25.0          \n",
       "14            1                                               21.0          \n",
       "17            0                                               16.0          \n",
       "21            1                                                9.0          \n",
       "\n",
       "    crdeal_deallife__loans_cnt__dlrolesub_zaemshik__curr_not_uah  \\\n",
       "7                                                 0.0              \n",
       "9                                                 0.0              \n",
       "14                                                0.0              \n",
       "17                                                0.0              \n",
       "21                                                0.0              \n",
       "\n",
       "    crdeal_deallife__loans_cnt__dldonor_bnk  \\\n",
       "7                                       2.0   \n",
       "9                                       5.0   \n",
       "14                                      2.0   \n",
       "17                                      0.0   \n",
       "21                                      2.0   \n",
       "\n",
       "    crdeal_deallife__loans_cnt__dldonor_bnk__opened_lteq_7_days  \\\n",
       "7                                                 0.0             \n",
       "9                                                 0.0             \n",
       "14                                                0.0             \n",
       "17                                                0.0             \n",
       "21                                                0.0             \n",
       "\n",
       "    crdeal_deallife__loans_cnt__dldonor_bnk__opened_lteq_30_days  \\\n",
       "7                                                 0.0              \n",
       "9                                                 0.0              \n",
       "14                                                0.0              \n",
       "17                                                0.0              \n",
       "21                                                0.0              \n",
       "\n",
       "    crdeal_deallife__loans_cnt__dldonor_bnk__opened_lteq_45_days  \\\n",
       "7                                                 0.0              \n",
       "9                                                 0.0              \n",
       "14                                                0.0              \n",
       "17                                                0.0              \n",
       "21                                                0.0              \n",
       "\n",
       "    crdeal_deallife__loans_cnt__dldonor_bnk__opened_lteq_60_days  \\\n",
       "7                                                 0.0              \n",
       "9                                                 0.0              \n",
       "14                                                0.0              \n",
       "17                                                0.0              \n",
       "21                                                0.0              \n",
       "\n",
       "    crdeal_deallife__loans_cnt__dldonor_bnk__opened_lteq_90_days  \\\n",
       "7                                                 0.0              \n",
       "9                                                 0.0              \n",
       "14                                                0.0              \n",
       "17                                                0.0              \n",
       "21                                                0.0              \n",
       "\n",
       "    crdeal_deallife__loans_cnt__dldonor_bnk__opened_lteq_120_days  ...  \\\n",
       "7                                                 0.0              ...   \n",
       "9                                                 0.0              ...   \n",
       "14                                                0.0              ...   \n",
       "17                                                0.0              ...   \n",
       "21                                                0.0              ...   \n",
       "\n",
       "    credres__credit_req_cnt__org_bnk__last_3_5_days  \\\n",
       "7                                               0.0   \n",
       "9                                               0.0   \n",
       "14                                              0.0   \n",
       "17                                              0.0   \n",
       "21                                              0.0   \n",
       "\n",
       "    credres__credit_req_cnt__org_bnk__last_7_days  \\\n",
       "7                                             0.0   \n",
       "9                                             0.0   \n",
       "14                                            0.0   \n",
       "17                                            0.0   \n",
       "21                                            0.0   \n",
       "\n",
       "    credres__credit_req_cnt__org_bnk__last_10_days  \\\n",
       "7                                              0.0   \n",
       "9                                              0.0   \n",
       "14                                             0.0   \n",
       "17                                             0.0   \n",
       "21                                             0.0   \n",
       "\n",
       "    credres__credit_req_cnt__org_bnk__last_13_days  \\\n",
       "7                                              0.0   \n",
       "9                                              1.0   \n",
       "14                                             2.0   \n",
       "17                                             0.0   \n",
       "21                                             0.0   \n",
       "\n",
       "    credres__credit_req_cnt__org_bnk__last_20_days  \\\n",
       "7                                              0.0   \n",
       "9                                              1.0   \n",
       "14                                             2.0   \n",
       "17                                             0.0   \n",
       "21                                             0.0   \n",
       "\n",
       "    credres__credit_req_cnt__org_bnk__last_30_days  \\\n",
       "7                                              0.0   \n",
       "9                                              1.0   \n",
       "14                                             2.0   \n",
       "17                                             0.0   \n",
       "21                                             0.0   \n",
       "\n",
       "    credres__credit_req_cnt__org_bnk__last_60_days  \\\n",
       "7                                              0.0   \n",
       "9                                              4.0   \n",
       "14                                             2.0   \n",
       "17                                             1.0   \n",
       "21                                             0.0   \n",
       "\n",
       "    credres__credit_req_cnt__org_bnk__more_than_90_days  \\\n",
       "7                                                 1.0     \n",
       "9                                                11.0     \n",
       "14                                                6.0     \n",
       "17                                                0.0     \n",
       "21                                                2.0     \n",
       "\n",
       "    credres__credit_req_cnt__org_bnk__last_360_days  \\\n",
       "7                                               0.0   \n",
       "9                                               9.0   \n",
       "14                                              7.0   \n",
       "17                                              1.0   \n",
       "21                                              0.0   \n",
       "\n",
       "    credres__credit_req_cnt__org_bnk__more_than_360_days  \n",
       "7                                                 1.0     \n",
       "9                                                 7.0     \n",
       "14                                                1.0     \n",
       "17                                                0.0     \n",
       "21                                                2.0     \n",
       "\n",
       "[5 rows x 279 columns]"
      ],
      "text/html": "<div>\n<style scoped>\n    .dataframe tbody tr th:only-of-type {\n        vertical-align: middle;\n    }\n\n    .dataframe tbody tr th {\n        vertical-align: top;\n    }\n\n    .dataframe thead th {\n        text-align: right;\n    }\n</style>\n<table border=\"1\" class=\"dataframe\">\n  <thead>\n    <tr style=\"text-align: right;\">\n      <th></th>\n      <th>target_flag</th>\n      <th>crdeal_deallife__loans_cnt__dlrolesub_zaemshik__curr_uah</th>\n      <th>crdeal_deallife__loans_cnt__dlrolesub_zaemshik__curr_not_uah</th>\n      <th>crdeal_deallife__loans_cnt__dldonor_bnk</th>\n      <th>crdeal_deallife__loans_cnt__dldonor_bnk__opened_lteq_7_days</th>\n      <th>crdeal_deallife__loans_cnt__dldonor_bnk__opened_lteq_30_days</th>\n      <th>crdeal_deallife__loans_cnt__dldonor_bnk__opened_lteq_45_days</th>\n      <th>crdeal_deallife__loans_cnt__dldonor_bnk__opened_lteq_60_days</th>\n      <th>crdeal_deallife__loans_cnt__dldonor_bnk__opened_lteq_90_days</th>\n      <th>crdeal_deallife__loans_cnt__dldonor_bnk__opened_lteq_120_days</th>\n      <th>...</th>\n      <th>credres__credit_req_cnt__org_bnk__last_3_5_days</th>\n      <th>credres__credit_req_cnt__org_bnk__last_7_days</th>\n      <th>credres__credit_req_cnt__org_bnk__last_10_days</th>\n      <th>credres__credit_req_cnt__org_bnk__last_13_days</th>\n      <th>credres__credit_req_cnt__org_bnk__last_20_days</th>\n      <th>credres__credit_req_cnt__org_bnk__last_30_days</th>\n      <th>credres__credit_req_cnt__org_bnk__last_60_days</th>\n      <th>credres__credit_req_cnt__org_bnk__more_than_90_days</th>\n      <th>credres__credit_req_cnt__org_bnk__last_360_days</th>\n      <th>credres__credit_req_cnt__org_bnk__more_than_360_days</th>\n    </tr>\n  </thead>\n  <tbody>\n    <tr>\n      <th>7</th>\n      <td>1</td>\n      <td>3.0</td>\n      <td>0.0</td>\n      <td>2.0</td>\n      <td>0.0</td>\n      <td>0.0</td>\n      <td>0.0</td>\n      <td>0.0</td>\n      <td>0.0</td>\n      <td>0.0</td>\n      <td>...</td>\n      <td>0.0</td>\n      <td>0.0</td>\n      <td>0.0</td>\n      <td>0.0</td>\n      <td>0.0</td>\n      <td>0.0</td>\n      <td>0.0</td>\n      <td>1.0</td>\n      <td>0.0</td>\n      <td>1.0</td>\n    </tr>\n    <tr>\n      <th>9</th>\n      <td>1</td>\n      <td>25.0</td>\n      <td>0.0</td>\n      <td>5.0</td>\n      <td>0.0</td>\n      <td>0.0</td>\n      <td>0.0</td>\n      <td>0.0</td>\n      <td>0.0</td>\n      <td>0.0</td>\n      <td>...</td>\n      <td>0.0</td>\n      <td>0.0</td>\n      <td>0.0</td>\n      <td>1.0</td>\n      <td>1.0</td>\n      <td>1.0</td>\n      <td>4.0</td>\n      <td>11.0</td>\n      <td>9.0</td>\n      <td>7.0</td>\n    </tr>\n    <tr>\n      <th>14</th>\n      <td>1</td>\n      <td>21.0</td>\n      <td>0.0</td>\n      <td>2.0</td>\n      <td>0.0</td>\n      <td>0.0</td>\n      <td>0.0</td>\n      <td>0.0</td>\n      <td>0.0</td>\n      <td>0.0</td>\n      <td>...</td>\n      <td>0.0</td>\n      <td>0.0</td>\n      <td>0.0</td>\n      <td>2.0</td>\n      <td>2.0</td>\n      <td>2.0</td>\n      <td>2.0</td>\n      <td>6.0</td>\n      <td>7.0</td>\n      <td>1.0</td>\n    </tr>\n    <tr>\n      <th>17</th>\n      <td>0</td>\n      <td>16.0</td>\n      <td>0.0</td>\n      <td>0.0</td>\n      <td>0.0</td>\n      <td>0.0</td>\n      <td>0.0</td>\n      <td>0.0</td>\n      <td>0.0</td>\n      <td>0.0</td>\n      <td>...</td>\n      <td>0.0</td>\n      <td>0.0</td>\n      <td>0.0</td>\n      <td>0.0</td>\n      <td>0.0</td>\n      <td>0.0</td>\n      <td>1.0</td>\n      <td>0.0</td>\n      <td>1.0</td>\n      <td>0.0</td>\n    </tr>\n    <tr>\n      <th>21</th>\n      <td>1</td>\n      <td>9.0</td>\n      <td>0.0</td>\n      <td>2.0</td>\n      <td>0.0</td>\n      <td>0.0</td>\n      <td>0.0</td>\n      <td>0.0</td>\n      <td>0.0</td>\n      <td>0.0</td>\n      <td>...</td>\n      <td>0.0</td>\n      <td>0.0</td>\n      <td>0.0</td>\n      <td>0.0</td>\n      <td>0.0</td>\n      <td>0.0</td>\n      <td>0.0</td>\n      <td>2.0</td>\n      <td>0.0</td>\n      <td>2.0</td>\n    </tr>\n  </tbody>\n</table>\n<p>5 rows × 279 columns</p>\n</div>"
     },
     "metadata": {},
     "execution_count": 41
    }
   ],
   "source": [
    "data.head()"
   ]
  },
  {
   "cell_type": "code",
   "execution_count": 42,
   "metadata": {},
   "outputs": [],
   "source": [
    "data.to_excel('prediction.xlsx', index=False)"
   ]
  }
 ]
}