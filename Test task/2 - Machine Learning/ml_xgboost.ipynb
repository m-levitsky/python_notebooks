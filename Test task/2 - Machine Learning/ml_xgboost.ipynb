{
 "metadata": {
  "language_info": {
   "codemirror_mode": {
    "name": "ipython",
    "version": 3
   },
   "file_extension": ".py",
   "mimetype": "text/x-python",
   "name": "python",
   "nbconvert_exporter": "python",
   "pygments_lexer": "ipython3",
   "version": "3.8.5-final"
  },
  "orig_nbformat": 2,
  "kernelspec": {
   "name": "python38564bitbasecondafca1e29cefa54f57b261bfb4c3ce0277",
   "display_name": "Python 3.8.5 64-bit ('base': conda)"
  }
 },
 "nbformat": 4,
 "nbformat_minor": 2,
 "cells": [
  {
   "source": [
    "# 2. Machine Learning"
   ],
   "cell_type": "markdown",
   "metadata": {}
  },
  {
   "source": [
    "1. Построить модель (при помощи Python) прогнозирование дефолта клиента на аппликационных и поведенческих данных из сайта с помощью логистической регрессии, спрогнозировать вероятность не выполнения обязательств перед компанией. Финальную модель логистической регрессии необходимо отобразить в Excel (параметры, группы и баллы)."
   ],
   "cell_type": "markdown",
   "metadata": {}
  },
  {
   "cell_type": "code",
   "execution_count": 614,
   "metadata": {},
   "outputs": [],
   "source": [
    "import gc\n",
    "\n",
    "import numpy as np\n",
    "import pandas as pd\n",
    "from scipy.stats import uniform, randint\n",
    "\n",
    "import matplotlib.pyplot as plt\n",
    "import seaborn as sns\n",
    "\n",
    "from pprint import pprint\n",
    "\n",
    "from sklearn.preprocessing import LabelEncoder, StandardScaler\n",
    "from sklearn.model_selection import train_test_split, validation_curve, StratifiedKFold, RandomizedSearchCV\n",
    "\n",
    "from xgboost.sklearn import XGBClassifier\n",
    "\n",
    "from sklearn.metrics import auc, roc_curve, accuracy_score, f1_score\n"
   ]
  },
  {
   "source": [
    "# Reading the dataset"
   ],
   "cell_type": "markdown",
   "metadata": {}
  },
  {
   "cell_type": "code",
   "execution_count": 615,
   "metadata": {},
   "outputs": [
    {
     "output_type": "stream",
     "name": "stdout",
     "text": [
      "CPU times: user 1.11 s, sys: 65.9 ms, total: 1.18 s\nWall time: 1.18 s\n"
     ]
    }
   ],
   "source": [
    "%%time \n",
    "data = pd.read_csv('data.csv')"
   ]
  },
  {
   "cell_type": "code",
   "execution_count": 616,
   "metadata": {},
   "outputs": [
    {
     "output_type": "stream",
     "name": "stdout",
     "text": [
      "data shape: (35311, 285)\n"
     ]
    }
   ],
   "source": [
    "print('data shape:', data.shape)"
   ]
  },
  {
   "cell_type": "code",
   "execution_count": 617,
   "metadata": {},
   "outputs": [
    {
     "output_type": "execute_result",
     "data": {
      "text/plain": [
       "  target_flag  crdeal_deallife__loans_cnt__dlrolesub_zaemshik__curr_uah  \\\n",
       "0        good                                               40.0          \n",
       "1        good                                               72.0          \n",
       "2        good                                               77.0          \n",
       "3        good                                                6.0          \n",
       "4        good                                                8.0          \n",
       "\n",
       "   crdeal_deallife__loans_cnt__dlrolesub_zaemshik__curr_not_uah  \\\n",
       "0                                                0.0              \n",
       "1                                                0.0              \n",
       "2                                                0.0              \n",
       "3                                                0.0              \n",
       "4                                                0.0              \n",
       "\n",
       "   crdeal_deallife__loans_cnt__dldonor_bnk  \\\n",
       "0                                      4.0   \n",
       "1                                      2.0   \n",
       "2                                      4.0   \n",
       "3                                      1.0   \n",
       "4                                      5.0   \n",
       "\n",
       "   crdeal_deallife__loans_cnt__dldonor_bnk__opened_lteq_7_days  \\\n",
       "0                                                0.0             \n",
       "1                                                0.0             \n",
       "2                                                0.0             \n",
       "3                                                0.0             \n",
       "4                                                0.0             \n",
       "\n",
       "   crdeal_deallife__loans_cnt__dldonor_bnk__opened_lteq_30_days  \\\n",
       "0                                                0.0              \n",
       "1                                                0.0              \n",
       "2                                                0.0              \n",
       "3                                                0.0              \n",
       "4                                                0.0              \n",
       "\n",
       "   crdeal_deallife__loans_cnt__dldonor_bnk__opened_lteq_45_days  \\\n",
       "0                                                0.0              \n",
       "1                                                0.0              \n",
       "2                                                0.0              \n",
       "3                                                0.0              \n",
       "4                                                0.0              \n",
       "\n",
       "   crdeal_deallife__loans_cnt__dldonor_bnk__opened_lteq_60_days  \\\n",
       "0                                                0.0              \n",
       "1                                                0.0              \n",
       "2                                                0.0              \n",
       "3                                                0.0              \n",
       "4                                                0.0              \n",
       "\n",
       "   crdeal_deallife__loans_cnt__dldonor_bnk__opened_lteq_90_days  \\\n",
       "0                                                0.0              \n",
       "1                                                0.0              \n",
       "2                                                0.0              \n",
       "3                                                0.0              \n",
       "4                                                0.0              \n",
       "\n",
       "   crdeal_deallife__loans_cnt__dldonor_bnk__opened_lteq_120_days  ...  \\\n",
       "0                                                0.0              ...   \n",
       "1                                                0.0              ...   \n",
       "2                                                0.0              ...   \n",
       "3                                                0.0              ...   \n",
       "4                                                0.0              ...   \n",
       "\n",
       "   credres__credit_req_cnt__org_bnk__last_3_5_days  \\\n",
       "0                                              0.0   \n",
       "1                                              1.0   \n",
       "2                                              0.0   \n",
       "3                                              0.0   \n",
       "4                                              0.0   \n",
       "\n",
       "   credres__credit_req_cnt__org_bnk__last_7_days  \\\n",
       "0                                            0.0   \n",
       "1                                            1.0   \n",
       "2                                            0.0   \n",
       "3                                            0.0   \n",
       "4                                            0.0   \n",
       "\n",
       "   credres__credit_req_cnt__org_bnk__last_10_days  \\\n",
       "0                                             0.0   \n",
       "1                                             1.0   \n",
       "2                                             0.0   \n",
       "3                                             0.0   \n",
       "4                                             0.0   \n",
       "\n",
       "   credres__credit_req_cnt__org_bnk__last_13_days  \\\n",
       "0                                             0.0   \n",
       "1                                             1.0   \n",
       "2                                             0.0   \n",
       "3                                             0.0   \n",
       "4                                             0.0   \n",
       "\n",
       "   credres__credit_req_cnt__org_bnk__last_20_days  \\\n",
       "0                                             0.0   \n",
       "1                                             1.0   \n",
       "2                                             0.0   \n",
       "3                                             0.0   \n",
       "4                                             0.0   \n",
       "\n",
       "   credres__credit_req_cnt__org_bnk__last_30_days  \\\n",
       "0                                             0.0   \n",
       "1                                             1.0   \n",
       "2                                             0.0   \n",
       "3                                             0.0   \n",
       "4                                             0.0   \n",
       "\n",
       "   credres__credit_req_cnt__org_bnk__last_60_days  \\\n",
       "0                                             1.0   \n",
       "1                                             1.0   \n",
       "2                                             0.0   \n",
       "3                                             0.0   \n",
       "4                                             0.0   \n",
       "\n",
       "   credres__credit_req_cnt__org_bnk__more_than_90_days  \\\n",
       "0                                                8.0     \n",
       "1                                               14.0     \n",
       "2                                               14.0     \n",
       "3                                                3.0     \n",
       "4                                                1.0     \n",
       "\n",
       "   credres__credit_req_cnt__org_bnk__last_360_days  \\\n",
       "0                                              5.0   \n",
       "1                                              6.0   \n",
       "2                                              5.0   \n",
       "3                                              4.0   \n",
       "4                                              1.0   \n",
       "\n",
       "   credres__credit_req_cnt__org_bnk__more_than_360_days  \n",
       "0                                                4.0     \n",
       "1                                               11.0     \n",
       "2                                                9.0     \n",
       "3                                                0.0     \n",
       "4                                                0.0     \n",
       "\n",
       "[5 rows x 285 columns]"
      ],
      "text/html": "<div>\n<style scoped>\n    .dataframe tbody tr th:only-of-type {\n        vertical-align: middle;\n    }\n\n    .dataframe tbody tr th {\n        vertical-align: top;\n    }\n\n    .dataframe thead th {\n        text-align: right;\n    }\n</style>\n<table border=\"1\" class=\"dataframe\">\n  <thead>\n    <tr style=\"text-align: right;\">\n      <th></th>\n      <th>target_flag</th>\n      <th>crdeal_deallife__loans_cnt__dlrolesub_zaemshik__curr_uah</th>\n      <th>crdeal_deallife__loans_cnt__dlrolesub_zaemshik__curr_not_uah</th>\n      <th>crdeal_deallife__loans_cnt__dldonor_bnk</th>\n      <th>crdeal_deallife__loans_cnt__dldonor_bnk__opened_lteq_7_days</th>\n      <th>crdeal_deallife__loans_cnt__dldonor_bnk__opened_lteq_30_days</th>\n      <th>crdeal_deallife__loans_cnt__dldonor_bnk__opened_lteq_45_days</th>\n      <th>crdeal_deallife__loans_cnt__dldonor_bnk__opened_lteq_60_days</th>\n      <th>crdeal_deallife__loans_cnt__dldonor_bnk__opened_lteq_90_days</th>\n      <th>crdeal_deallife__loans_cnt__dldonor_bnk__opened_lteq_120_days</th>\n      <th>...</th>\n      <th>credres__credit_req_cnt__org_bnk__last_3_5_days</th>\n      <th>credres__credit_req_cnt__org_bnk__last_7_days</th>\n      <th>credres__credit_req_cnt__org_bnk__last_10_days</th>\n      <th>credres__credit_req_cnt__org_bnk__last_13_days</th>\n      <th>credres__credit_req_cnt__org_bnk__last_20_days</th>\n      <th>credres__credit_req_cnt__org_bnk__last_30_days</th>\n      <th>credres__credit_req_cnt__org_bnk__last_60_days</th>\n      <th>credres__credit_req_cnt__org_bnk__more_than_90_days</th>\n      <th>credres__credit_req_cnt__org_bnk__last_360_days</th>\n      <th>credres__credit_req_cnt__org_bnk__more_than_360_days</th>\n    </tr>\n  </thead>\n  <tbody>\n    <tr>\n      <th>0</th>\n      <td>good</td>\n      <td>40.0</td>\n      <td>0.0</td>\n      <td>4.0</td>\n      <td>0.0</td>\n      <td>0.0</td>\n      <td>0.0</td>\n      <td>0.0</td>\n      <td>0.0</td>\n      <td>0.0</td>\n      <td>...</td>\n      <td>0.0</td>\n      <td>0.0</td>\n      <td>0.0</td>\n      <td>0.0</td>\n      <td>0.0</td>\n      <td>0.0</td>\n      <td>1.0</td>\n      <td>8.0</td>\n      <td>5.0</td>\n      <td>4.0</td>\n    </tr>\n    <tr>\n      <th>1</th>\n      <td>good</td>\n      <td>72.0</td>\n      <td>0.0</td>\n      <td>2.0</td>\n      <td>0.0</td>\n      <td>0.0</td>\n      <td>0.0</td>\n      <td>0.0</td>\n      <td>0.0</td>\n      <td>0.0</td>\n      <td>...</td>\n      <td>1.0</td>\n      <td>1.0</td>\n      <td>1.0</td>\n      <td>1.0</td>\n      <td>1.0</td>\n      <td>1.0</td>\n      <td>1.0</td>\n      <td>14.0</td>\n      <td>6.0</td>\n      <td>11.0</td>\n    </tr>\n    <tr>\n      <th>2</th>\n      <td>good</td>\n      <td>77.0</td>\n      <td>0.0</td>\n      <td>4.0</td>\n      <td>0.0</td>\n      <td>0.0</td>\n      <td>0.0</td>\n      <td>0.0</td>\n      <td>0.0</td>\n      <td>0.0</td>\n      <td>...</td>\n      <td>0.0</td>\n      <td>0.0</td>\n      <td>0.0</td>\n      <td>0.0</td>\n      <td>0.0</td>\n      <td>0.0</td>\n      <td>0.0</td>\n      <td>14.0</td>\n      <td>5.0</td>\n      <td>9.0</td>\n    </tr>\n    <tr>\n      <th>3</th>\n      <td>good</td>\n      <td>6.0</td>\n      <td>0.0</td>\n      <td>1.0</td>\n      <td>0.0</td>\n      <td>0.0</td>\n      <td>0.0</td>\n      <td>0.0</td>\n      <td>0.0</td>\n      <td>0.0</td>\n      <td>...</td>\n      <td>0.0</td>\n      <td>0.0</td>\n      <td>0.0</td>\n      <td>0.0</td>\n      <td>0.0</td>\n      <td>0.0</td>\n      <td>0.0</td>\n      <td>3.0</td>\n      <td>4.0</td>\n      <td>0.0</td>\n    </tr>\n    <tr>\n      <th>4</th>\n      <td>good</td>\n      <td>8.0</td>\n      <td>0.0</td>\n      <td>5.0</td>\n      <td>0.0</td>\n      <td>0.0</td>\n      <td>0.0</td>\n      <td>0.0</td>\n      <td>0.0</td>\n      <td>0.0</td>\n      <td>...</td>\n      <td>0.0</td>\n      <td>0.0</td>\n      <td>0.0</td>\n      <td>0.0</td>\n      <td>0.0</td>\n      <td>0.0</td>\n      <td>0.0</td>\n      <td>1.0</td>\n      <td>1.0</td>\n      <td>0.0</td>\n    </tr>\n  </tbody>\n</table>\n<p>5 rows × 285 columns</p>\n</div>"
     },
     "metadata": {},
     "execution_count": 617
    }
   ],
   "source": [
    "data.head()"
   ]
  },
  {
   "source": [
    "# Handling missing data"
   ],
   "cell_type": "markdown",
   "metadata": {}
  },
  {
   "cell_type": "code",
   "execution_count": 618,
   "metadata": {},
   "outputs": [],
   "source": [
    "missing = data.isnull().sum()\n",
    "missing = missing[missing > 0]\n",
    "missing.sort_values(inplace=True)"
   ]
  },
  {
   "cell_type": "code",
   "execution_count": 619,
   "metadata": {},
   "outputs": [
    {
     "output_type": "execute_result",
     "data": {
      "text/plain": [
       "crdeal_deallife__loans_cnt__dlrolesub_zaemshik__curr_uah                     94\n",
       "crdeal_deallife__loans_cnt__state_discounted__last_active_lteq_90_days       94\n",
       "crdeal_deallife__loans_cnt__state_discounted__last_active_lteq_120_days      94\n",
       "crdeal_deallife__loans_cnt__state_discounted__last_active_lteq_180_days      94\n",
       "crdeal_deallife__loans_cnt__state_discounted__last_active_lteq_360_days      94\n",
       "                                                                           ... \n",
       "crdeal_deallife__initial_amount_mean__state_clsd                           2215\n",
       "crdeal_deallife__historical_max_overdue_debt__clsd_state                   2215\n",
       "crdeal_deallife__initial_amount_sum__state_clsd                            2215\n",
       "crdeal_deallife__current_max_dpd__donor_mfo                                3648\n",
       "crdeal_deallife__current_max_dpd__donor_bnk                                4816\n",
       "Length: 284, dtype: int64"
      ]
     },
     "metadata": {},
     "execution_count": 619
    }
   ],
   "source": [
    "missing"
   ]
  },
  {
   "cell_type": "code",
   "execution_count": 620,
   "metadata": {},
   "outputs": [],
   "source": [
    "data = data.fillna(data.mean())"
   ]
  },
  {
   "cell_type": "code",
   "execution_count": 621,
   "metadata": {},
   "outputs": [],
   "source": [
    "missing = data.isnull().sum()\n",
    "missing = missing[missing > 0]\n",
    "missing.sort_values(inplace=True)"
   ]
  },
  {
   "cell_type": "code",
   "execution_count": 622,
   "metadata": {},
   "outputs": [
    {
     "output_type": "execute_result",
     "data": {
      "text/plain": [
       "crdeal_deallife__first_loan_open_date                 94\n",
       "crdeal_deallife__last_loan_open_date                  94\n",
       "crdeal_deallife__first_loan_open_date__donor_mfo    1687\n",
       "crdeal_deallife__last_loan_open_date__donor_mfo     1687\n",
       "crdeal_deallife__first_loan_open_date__donor_bnk    1943\n",
       "crdeal_deallife__last_loan_open_date__donor_bnk     1943\n",
       "dtype: int64"
      ]
     },
     "metadata": {},
     "execution_count": 622
    }
   ],
   "source": [
    "missing"
   ]
  },
  {
   "cell_type": "code",
   "execution_count": 623,
   "metadata": {},
   "outputs": [],
   "source": [
    "data = data.drop(missing.index, axis=1)"
   ]
  },
  {
   "source": [
    "# Splitting the data into train and test"
   ],
   "cell_type": "markdown",
   "metadata": {}
  },
  {
   "cell_type": "code",
   "execution_count": 624,
   "metadata": {},
   "outputs": [
    {
     "output_type": "execute_result",
     "data": {
      "text/plain": [
       "    crdeal_deallife__loans_cnt__dlrolesub_zaemshik__curr_uah  \\\n",
       "7                                                 3.0          \n",
       "9                                                25.0          \n",
       "14                                               21.0          \n",
       "17                                               16.0          \n",
       "21                                                9.0          \n",
       "\n",
       "    crdeal_deallife__loans_cnt__dlrolesub_zaemshik__curr_not_uah  \\\n",
       "7                                                 0.0              \n",
       "9                                                 0.0              \n",
       "14                                                0.0              \n",
       "17                                                0.0              \n",
       "21                                                0.0              \n",
       "\n",
       "    crdeal_deallife__loans_cnt__dldonor_bnk  \\\n",
       "7                                       2.0   \n",
       "9                                       5.0   \n",
       "14                                      2.0   \n",
       "17                                      0.0   \n",
       "21                                      2.0   \n",
       "\n",
       "    crdeal_deallife__loans_cnt__dldonor_bnk__opened_lteq_7_days  \\\n",
       "7                                                 0.0             \n",
       "9                                                 0.0             \n",
       "14                                                0.0             \n",
       "17                                                0.0             \n",
       "21                                                0.0             \n",
       "\n",
       "    crdeal_deallife__loans_cnt__dldonor_bnk__opened_lteq_30_days  \\\n",
       "7                                                 0.0              \n",
       "9                                                 0.0              \n",
       "14                                                0.0              \n",
       "17                                                0.0              \n",
       "21                                                0.0              \n",
       "\n",
       "    crdeal_deallife__loans_cnt__dldonor_bnk__opened_lteq_45_days  \\\n",
       "7                                                 0.0              \n",
       "9                                                 0.0              \n",
       "14                                                0.0              \n",
       "17                                                0.0              \n",
       "21                                                0.0              \n",
       "\n",
       "    crdeal_deallife__loans_cnt__dldonor_bnk__opened_lteq_60_days  \\\n",
       "7                                                 0.0              \n",
       "9                                                 0.0              \n",
       "14                                                0.0              \n",
       "17                                                0.0              \n",
       "21                                                0.0              \n",
       "\n",
       "    crdeal_deallife__loans_cnt__dldonor_bnk__opened_lteq_90_days  \\\n",
       "7                                                 0.0              \n",
       "9                                                 0.0              \n",
       "14                                                0.0              \n",
       "17                                                0.0              \n",
       "21                                                0.0              \n",
       "\n",
       "    crdeal_deallife__loans_cnt__dldonor_bnk__opened_lteq_120_days  \\\n",
       "7                                                 0.0               \n",
       "9                                                 0.0               \n",
       "14                                                0.0               \n",
       "17                                                0.0               \n",
       "21                                                0.0               \n",
       "\n",
       "    crdeal_deallife__loans_cnt__dldonor_bnk__opened_lteq_180_days  ...  \\\n",
       "7                                                 0.0              ...   \n",
       "9                                                 0.0              ...   \n",
       "14                                                0.0              ...   \n",
       "17                                                0.0              ...   \n",
       "21                                                0.0              ...   \n",
       "\n",
       "    credres__credit_req_cnt__org_bnk__last_3_5_days  \\\n",
       "7                                               0.0   \n",
       "9                                               0.0   \n",
       "14                                              0.0   \n",
       "17                                              0.0   \n",
       "21                                              0.0   \n",
       "\n",
       "    credres__credit_req_cnt__org_bnk__last_7_days  \\\n",
       "7                                             0.0   \n",
       "9                                             0.0   \n",
       "14                                            0.0   \n",
       "17                                            0.0   \n",
       "21                                            0.0   \n",
       "\n",
       "    credres__credit_req_cnt__org_bnk__last_10_days  \\\n",
       "7                                              0.0   \n",
       "9                                              0.0   \n",
       "14                                             0.0   \n",
       "17                                             0.0   \n",
       "21                                             0.0   \n",
       "\n",
       "    credres__credit_req_cnt__org_bnk__last_13_days  \\\n",
       "7                                              0.0   \n",
       "9                                              1.0   \n",
       "14                                             2.0   \n",
       "17                                             0.0   \n",
       "21                                             0.0   \n",
       "\n",
       "    credres__credit_req_cnt__org_bnk__last_20_days  \\\n",
       "7                                              0.0   \n",
       "9                                              1.0   \n",
       "14                                             2.0   \n",
       "17                                             0.0   \n",
       "21                                             0.0   \n",
       "\n",
       "    credres__credit_req_cnt__org_bnk__last_30_days  \\\n",
       "7                                              0.0   \n",
       "9                                              1.0   \n",
       "14                                             2.0   \n",
       "17                                             0.0   \n",
       "21                                             0.0   \n",
       "\n",
       "    credres__credit_req_cnt__org_bnk__last_60_days  \\\n",
       "7                                              0.0   \n",
       "9                                              4.0   \n",
       "14                                             2.0   \n",
       "17                                             1.0   \n",
       "21                                             0.0   \n",
       "\n",
       "    credres__credit_req_cnt__org_bnk__more_than_90_days  \\\n",
       "7                                                 1.0     \n",
       "9                                                11.0     \n",
       "14                                                6.0     \n",
       "17                                                0.0     \n",
       "21                                                2.0     \n",
       "\n",
       "    credres__credit_req_cnt__org_bnk__last_360_days  \\\n",
       "7                                               0.0   \n",
       "9                                               9.0   \n",
       "14                                              7.0   \n",
       "17                                              1.0   \n",
       "21                                              0.0   \n",
       "\n",
       "    credres__credit_req_cnt__org_bnk__more_than_360_days  \n",
       "7                                                 1.0     \n",
       "9                                                 7.0     \n",
       "14                                                1.0     \n",
       "17                                                0.0     \n",
       "21                                                2.0     \n",
       "\n",
       "[5 rows x 278 columns]"
      ],
      "text/html": "<div>\n<style scoped>\n    .dataframe tbody tr th:only-of-type {\n        vertical-align: middle;\n    }\n\n    .dataframe tbody tr th {\n        vertical-align: top;\n    }\n\n    .dataframe thead th {\n        text-align: right;\n    }\n</style>\n<table border=\"1\" class=\"dataframe\">\n  <thead>\n    <tr style=\"text-align: right;\">\n      <th></th>\n      <th>crdeal_deallife__loans_cnt__dlrolesub_zaemshik__curr_uah</th>\n      <th>crdeal_deallife__loans_cnt__dlrolesub_zaemshik__curr_not_uah</th>\n      <th>crdeal_deallife__loans_cnt__dldonor_bnk</th>\n      <th>crdeal_deallife__loans_cnt__dldonor_bnk__opened_lteq_7_days</th>\n      <th>crdeal_deallife__loans_cnt__dldonor_bnk__opened_lteq_30_days</th>\n      <th>crdeal_deallife__loans_cnt__dldonor_bnk__opened_lteq_45_days</th>\n      <th>crdeal_deallife__loans_cnt__dldonor_bnk__opened_lteq_60_days</th>\n      <th>crdeal_deallife__loans_cnt__dldonor_bnk__opened_lteq_90_days</th>\n      <th>crdeal_deallife__loans_cnt__dldonor_bnk__opened_lteq_120_days</th>\n      <th>crdeal_deallife__loans_cnt__dldonor_bnk__opened_lteq_180_days</th>\n      <th>...</th>\n      <th>credres__credit_req_cnt__org_bnk__last_3_5_days</th>\n      <th>credres__credit_req_cnt__org_bnk__last_7_days</th>\n      <th>credres__credit_req_cnt__org_bnk__last_10_days</th>\n      <th>credres__credit_req_cnt__org_bnk__last_13_days</th>\n      <th>credres__credit_req_cnt__org_bnk__last_20_days</th>\n      <th>credres__credit_req_cnt__org_bnk__last_30_days</th>\n      <th>credres__credit_req_cnt__org_bnk__last_60_days</th>\n      <th>credres__credit_req_cnt__org_bnk__more_than_90_days</th>\n      <th>credres__credit_req_cnt__org_bnk__last_360_days</th>\n      <th>credres__credit_req_cnt__org_bnk__more_than_360_days</th>\n    </tr>\n  </thead>\n  <tbody>\n    <tr>\n      <th>7</th>\n      <td>3.0</td>\n      <td>0.0</td>\n      <td>2.0</td>\n      <td>0.0</td>\n      <td>0.0</td>\n      <td>0.0</td>\n      <td>0.0</td>\n      <td>0.0</td>\n      <td>0.0</td>\n      <td>0.0</td>\n      <td>...</td>\n      <td>0.0</td>\n      <td>0.0</td>\n      <td>0.0</td>\n      <td>0.0</td>\n      <td>0.0</td>\n      <td>0.0</td>\n      <td>0.0</td>\n      <td>1.0</td>\n      <td>0.0</td>\n      <td>1.0</td>\n    </tr>\n    <tr>\n      <th>9</th>\n      <td>25.0</td>\n      <td>0.0</td>\n      <td>5.0</td>\n      <td>0.0</td>\n      <td>0.0</td>\n      <td>0.0</td>\n      <td>0.0</td>\n      <td>0.0</td>\n      <td>0.0</td>\n      <td>0.0</td>\n      <td>...</td>\n      <td>0.0</td>\n      <td>0.0</td>\n      <td>0.0</td>\n      <td>1.0</td>\n      <td>1.0</td>\n      <td>1.0</td>\n      <td>4.0</td>\n      <td>11.0</td>\n      <td>9.0</td>\n      <td>7.0</td>\n    </tr>\n    <tr>\n      <th>14</th>\n      <td>21.0</td>\n      <td>0.0</td>\n      <td>2.0</td>\n      <td>0.0</td>\n      <td>0.0</td>\n      <td>0.0</td>\n      <td>0.0</td>\n      <td>0.0</td>\n      <td>0.0</td>\n      <td>0.0</td>\n      <td>...</td>\n      <td>0.0</td>\n      <td>0.0</td>\n      <td>0.0</td>\n      <td>2.0</td>\n      <td>2.0</td>\n      <td>2.0</td>\n      <td>2.0</td>\n      <td>6.0</td>\n      <td>7.0</td>\n      <td>1.0</td>\n    </tr>\n    <tr>\n      <th>17</th>\n      <td>16.0</td>\n      <td>0.0</td>\n      <td>0.0</td>\n      <td>0.0</td>\n      <td>0.0</td>\n      <td>0.0</td>\n      <td>0.0</td>\n      <td>0.0</td>\n      <td>0.0</td>\n      <td>0.0</td>\n      <td>...</td>\n      <td>0.0</td>\n      <td>0.0</td>\n      <td>0.0</td>\n      <td>0.0</td>\n      <td>0.0</td>\n      <td>0.0</td>\n      <td>1.0</td>\n      <td>0.0</td>\n      <td>1.0</td>\n      <td>0.0</td>\n    </tr>\n    <tr>\n      <th>21</th>\n      <td>9.0</td>\n      <td>0.0</td>\n      <td>2.0</td>\n      <td>0.0</td>\n      <td>0.0</td>\n      <td>0.0</td>\n      <td>0.0</td>\n      <td>0.0</td>\n      <td>0.0</td>\n      <td>0.0</td>\n      <td>...</td>\n      <td>0.0</td>\n      <td>0.0</td>\n      <td>0.0</td>\n      <td>0.0</td>\n      <td>0.0</td>\n      <td>0.0</td>\n      <td>0.0</td>\n      <td>2.0</td>\n      <td>0.0</td>\n      <td>2.0</td>\n    </tr>\n  </tbody>\n</table>\n<p>5 rows × 278 columns</p>\n</div>"
     },
     "metadata": {},
     "execution_count": 624
    }
   ],
   "source": [
    "test_data = data[data['target_flag'] == 'not determined']\n",
    "test_data = test_data.drop('target_flag', axis=1)\n",
    "\n",
    "test_data.head()"
   ]
  },
  {
   "cell_type": "code",
   "execution_count": 625,
   "metadata": {},
   "outputs": [
    {
     "output_type": "execute_result",
     "data": {
      "text/plain": [
       "  target_flag  crdeal_deallife__loans_cnt__dlrolesub_zaemshik__curr_uah  \\\n",
       "0        good                                               40.0          \n",
       "1        good                                               72.0          \n",
       "2        good                                               77.0          \n",
       "3        good                                                6.0          \n",
       "4        good                                                8.0          \n",
       "\n",
       "   crdeal_deallife__loans_cnt__dlrolesub_zaemshik__curr_not_uah  \\\n",
       "0                                                0.0              \n",
       "1                                                0.0              \n",
       "2                                                0.0              \n",
       "3                                                0.0              \n",
       "4                                                0.0              \n",
       "\n",
       "   crdeal_deallife__loans_cnt__dldonor_bnk  \\\n",
       "0                                      4.0   \n",
       "1                                      2.0   \n",
       "2                                      4.0   \n",
       "3                                      1.0   \n",
       "4                                      5.0   \n",
       "\n",
       "   crdeal_deallife__loans_cnt__dldonor_bnk__opened_lteq_7_days  \\\n",
       "0                                                0.0             \n",
       "1                                                0.0             \n",
       "2                                                0.0             \n",
       "3                                                0.0             \n",
       "4                                                0.0             \n",
       "\n",
       "   crdeal_deallife__loans_cnt__dldonor_bnk__opened_lteq_30_days  \\\n",
       "0                                                0.0              \n",
       "1                                                0.0              \n",
       "2                                                0.0              \n",
       "3                                                0.0              \n",
       "4                                                0.0              \n",
       "\n",
       "   crdeal_deallife__loans_cnt__dldonor_bnk__opened_lteq_45_days  \\\n",
       "0                                                0.0              \n",
       "1                                                0.0              \n",
       "2                                                0.0              \n",
       "3                                                0.0              \n",
       "4                                                0.0              \n",
       "\n",
       "   crdeal_deallife__loans_cnt__dldonor_bnk__opened_lteq_60_days  \\\n",
       "0                                                0.0              \n",
       "1                                                0.0              \n",
       "2                                                0.0              \n",
       "3                                                0.0              \n",
       "4                                                0.0              \n",
       "\n",
       "   crdeal_deallife__loans_cnt__dldonor_bnk__opened_lteq_90_days  \\\n",
       "0                                                0.0              \n",
       "1                                                0.0              \n",
       "2                                                0.0              \n",
       "3                                                0.0              \n",
       "4                                                0.0              \n",
       "\n",
       "   crdeal_deallife__loans_cnt__dldonor_bnk__opened_lteq_120_days  ...  \\\n",
       "0                                                0.0              ...   \n",
       "1                                                0.0              ...   \n",
       "2                                                0.0              ...   \n",
       "3                                                0.0              ...   \n",
       "4                                                0.0              ...   \n",
       "\n",
       "   credres__credit_req_cnt__org_bnk__last_3_5_days  \\\n",
       "0                                              0.0   \n",
       "1                                              1.0   \n",
       "2                                              0.0   \n",
       "3                                              0.0   \n",
       "4                                              0.0   \n",
       "\n",
       "   credres__credit_req_cnt__org_bnk__last_7_days  \\\n",
       "0                                            0.0   \n",
       "1                                            1.0   \n",
       "2                                            0.0   \n",
       "3                                            0.0   \n",
       "4                                            0.0   \n",
       "\n",
       "   credres__credit_req_cnt__org_bnk__last_10_days  \\\n",
       "0                                             0.0   \n",
       "1                                             1.0   \n",
       "2                                             0.0   \n",
       "3                                             0.0   \n",
       "4                                             0.0   \n",
       "\n",
       "   credres__credit_req_cnt__org_bnk__last_13_days  \\\n",
       "0                                             0.0   \n",
       "1                                             1.0   \n",
       "2                                             0.0   \n",
       "3                                             0.0   \n",
       "4                                             0.0   \n",
       "\n",
       "   credres__credit_req_cnt__org_bnk__last_20_days  \\\n",
       "0                                             0.0   \n",
       "1                                             1.0   \n",
       "2                                             0.0   \n",
       "3                                             0.0   \n",
       "4                                             0.0   \n",
       "\n",
       "   credres__credit_req_cnt__org_bnk__last_30_days  \\\n",
       "0                                             0.0   \n",
       "1                                             1.0   \n",
       "2                                             0.0   \n",
       "3                                             0.0   \n",
       "4                                             0.0   \n",
       "\n",
       "   credres__credit_req_cnt__org_bnk__last_60_days  \\\n",
       "0                                             1.0   \n",
       "1                                             1.0   \n",
       "2                                             0.0   \n",
       "3                                             0.0   \n",
       "4                                             0.0   \n",
       "\n",
       "   credres__credit_req_cnt__org_bnk__more_than_90_days  \\\n",
       "0                                                8.0     \n",
       "1                                               14.0     \n",
       "2                                               14.0     \n",
       "3                                                3.0     \n",
       "4                                                1.0     \n",
       "\n",
       "   credres__credit_req_cnt__org_bnk__last_360_days  \\\n",
       "0                                              5.0   \n",
       "1                                              6.0   \n",
       "2                                              5.0   \n",
       "3                                              4.0   \n",
       "4                                              1.0   \n",
       "\n",
       "   credres__credit_req_cnt__org_bnk__more_than_360_days  \n",
       "0                                                4.0     \n",
       "1                                               11.0     \n",
       "2                                                9.0     \n",
       "3                                                0.0     \n",
       "4                                                0.0     \n",
       "\n",
       "[5 rows x 279 columns]"
      ],
      "text/html": "<div>\n<style scoped>\n    .dataframe tbody tr th:only-of-type {\n        vertical-align: middle;\n    }\n\n    .dataframe tbody tr th {\n        vertical-align: top;\n    }\n\n    .dataframe thead th {\n        text-align: right;\n    }\n</style>\n<table border=\"1\" class=\"dataframe\">\n  <thead>\n    <tr style=\"text-align: right;\">\n      <th></th>\n      <th>target_flag</th>\n      <th>crdeal_deallife__loans_cnt__dlrolesub_zaemshik__curr_uah</th>\n      <th>crdeal_deallife__loans_cnt__dlrolesub_zaemshik__curr_not_uah</th>\n      <th>crdeal_deallife__loans_cnt__dldonor_bnk</th>\n      <th>crdeal_deallife__loans_cnt__dldonor_bnk__opened_lteq_7_days</th>\n      <th>crdeal_deallife__loans_cnt__dldonor_bnk__opened_lteq_30_days</th>\n      <th>crdeal_deallife__loans_cnt__dldonor_bnk__opened_lteq_45_days</th>\n      <th>crdeal_deallife__loans_cnt__dldonor_bnk__opened_lteq_60_days</th>\n      <th>crdeal_deallife__loans_cnt__dldonor_bnk__opened_lteq_90_days</th>\n      <th>crdeal_deallife__loans_cnt__dldonor_bnk__opened_lteq_120_days</th>\n      <th>...</th>\n      <th>credres__credit_req_cnt__org_bnk__last_3_5_days</th>\n      <th>credres__credit_req_cnt__org_bnk__last_7_days</th>\n      <th>credres__credit_req_cnt__org_bnk__last_10_days</th>\n      <th>credres__credit_req_cnt__org_bnk__last_13_days</th>\n      <th>credres__credit_req_cnt__org_bnk__last_20_days</th>\n      <th>credres__credit_req_cnt__org_bnk__last_30_days</th>\n      <th>credres__credit_req_cnt__org_bnk__last_60_days</th>\n      <th>credres__credit_req_cnt__org_bnk__more_than_90_days</th>\n      <th>credres__credit_req_cnt__org_bnk__last_360_days</th>\n      <th>credres__credit_req_cnt__org_bnk__more_than_360_days</th>\n    </tr>\n  </thead>\n  <tbody>\n    <tr>\n      <th>0</th>\n      <td>good</td>\n      <td>40.0</td>\n      <td>0.0</td>\n      <td>4.0</td>\n      <td>0.0</td>\n      <td>0.0</td>\n      <td>0.0</td>\n      <td>0.0</td>\n      <td>0.0</td>\n      <td>0.0</td>\n      <td>...</td>\n      <td>0.0</td>\n      <td>0.0</td>\n      <td>0.0</td>\n      <td>0.0</td>\n      <td>0.0</td>\n      <td>0.0</td>\n      <td>1.0</td>\n      <td>8.0</td>\n      <td>5.0</td>\n      <td>4.0</td>\n    </tr>\n    <tr>\n      <th>1</th>\n      <td>good</td>\n      <td>72.0</td>\n      <td>0.0</td>\n      <td>2.0</td>\n      <td>0.0</td>\n      <td>0.0</td>\n      <td>0.0</td>\n      <td>0.0</td>\n      <td>0.0</td>\n      <td>0.0</td>\n      <td>...</td>\n      <td>1.0</td>\n      <td>1.0</td>\n      <td>1.0</td>\n      <td>1.0</td>\n      <td>1.0</td>\n      <td>1.0</td>\n      <td>1.0</td>\n      <td>14.0</td>\n      <td>6.0</td>\n      <td>11.0</td>\n    </tr>\n    <tr>\n      <th>2</th>\n      <td>good</td>\n      <td>77.0</td>\n      <td>0.0</td>\n      <td>4.0</td>\n      <td>0.0</td>\n      <td>0.0</td>\n      <td>0.0</td>\n      <td>0.0</td>\n      <td>0.0</td>\n      <td>0.0</td>\n      <td>...</td>\n      <td>0.0</td>\n      <td>0.0</td>\n      <td>0.0</td>\n      <td>0.0</td>\n      <td>0.0</td>\n      <td>0.0</td>\n      <td>0.0</td>\n      <td>14.0</td>\n      <td>5.0</td>\n      <td>9.0</td>\n    </tr>\n    <tr>\n      <th>3</th>\n      <td>good</td>\n      <td>6.0</td>\n      <td>0.0</td>\n      <td>1.0</td>\n      <td>0.0</td>\n      <td>0.0</td>\n      <td>0.0</td>\n      <td>0.0</td>\n      <td>0.0</td>\n      <td>0.0</td>\n      <td>...</td>\n      <td>0.0</td>\n      <td>0.0</td>\n      <td>0.0</td>\n      <td>0.0</td>\n      <td>0.0</td>\n      <td>0.0</td>\n      <td>0.0</td>\n      <td>3.0</td>\n      <td>4.0</td>\n      <td>0.0</td>\n    </tr>\n    <tr>\n      <th>4</th>\n      <td>good</td>\n      <td>8.0</td>\n      <td>0.0</td>\n      <td>5.0</td>\n      <td>0.0</td>\n      <td>0.0</td>\n      <td>0.0</td>\n      <td>0.0</td>\n      <td>0.0</td>\n      <td>0.0</td>\n      <td>...</td>\n      <td>0.0</td>\n      <td>0.0</td>\n      <td>0.0</td>\n      <td>0.0</td>\n      <td>0.0</td>\n      <td>0.0</td>\n      <td>0.0</td>\n      <td>1.0</td>\n      <td>1.0</td>\n      <td>0.0</td>\n    </tr>\n  </tbody>\n</table>\n<p>5 rows × 279 columns</p>\n</div>"
     },
     "metadata": {},
     "execution_count": 625
    }
   ],
   "source": [
    "train_data = data[data['target_flag'] != 'not determined']\n",
    "train_data.head()"
   ]
  },
  {
   "source": [
    "# Encoding target into 0's and 1's (0 - bad, 1 - good)"
   ],
   "cell_type": "markdown",
   "metadata": {}
  },
  {
   "cell_type": "code",
   "execution_count": 626,
   "metadata": {},
   "outputs": [
    {
     "output_type": "execute_result",
     "data": {
      "text/plain": [
       "LabelEncoder()"
      ]
     },
     "metadata": {},
     "execution_count": 626
    }
   ],
   "source": [
    "le = LabelEncoder()\n",
    "le.fit(train_data['target_flag'])"
   ]
  },
  {
   "cell_type": "code",
   "execution_count": 627,
   "metadata": {},
   "outputs": [
    {
     "output_type": "execute_result",
     "data": {
      "text/plain": [
       "array(['bad', 'good'], dtype=object)"
      ]
     },
     "metadata": {},
     "execution_count": 627
    }
   ],
   "source": [
    "le.classes_"
   ]
  },
  {
   "cell_type": "code",
   "execution_count": 628,
   "metadata": {},
   "outputs": [],
   "source": [
    "train_data['target_flag'] = le.transform(train_data['target_flag'])"
   ]
  },
  {
   "source": [],
   "cell_type": "markdown",
   "metadata": {}
  },
  {
   "source": [
    "# Selecting highly corellated features"
   ],
   "cell_type": "markdown",
   "metadata": {}
  },
  {
   "cell_type": "code",
   "execution_count": 629,
   "metadata": {},
   "outputs": [],
   "source": [
    "cor = train_data.corr()"
   ]
  },
  {
   "cell_type": "code",
   "execution_count": 630,
   "metadata": {},
   "outputs": [
    {
     "output_type": "execute_result",
     "data": {
      "text/plain": [
       "_opened_lteq_30_days  \\\n",
       "target_flag                                                                                 -0.011811              \n",
       "crdeal_deallife__loans_cnt__dlrolesub_zaemshik_...                                           0.014167              \n",
       "crdeal_deallife__loans_cnt__dlrolesub_zaemshik_...                                          -0.000032              \n",
       "crdeal_deallife__loans_cnt__dldonor_bnk                                                      0.205050              \n",
       "crdeal_deallife__loans_cnt__dldonor_bnk__opened...                                           0.323123              \n",
       "...                                                                                               ...              \n",
       "credres__credit_req_cnt__org_bnk__last_30_days                                               0.212988              \n",
       "credres__credit_req_cnt__org_bnk__last_60_days                                               0.173926              \n",
       "credres__credit_req_cnt__org_bnk__more_than_90_...                                           0.052234              \n",
       "credres__credit_req_cnt__org_bnk__last_360_days                                              0.105179              \n",
       "credres__credit_req_cnt__org_bnk__more_than_360...                                           0.041575              \n",
       "\n",
       "                                                    crdeal_deallife__loans_cnt__dldonor_bnk__opened_lteq_45_days  \\\n",
       "target_flag                                                                                 -0.017213              \n",
       "crdeal_deallife__loans_cnt__dlrolesub_zaemshik_...                                           0.020049              \n",
       "crdeal_deallife__loans_cnt__dlrolesub_zaemshik_...                                           0.007995              \n",
       "crdeal_deallife__loans_cnt__dldonor_bnk                                                      0.277884              \n",
       "crdeal_deallife__loans_cnt__dldonor_bnk__opened...                                           0.236427              \n",
       "...                                                                                               ...              \n",
       "credres__credit_req_cnt__org_bnk__last_30_days                                               0.206939              \n",
       "credres__credit_req_cnt__org_bnk__last_60_days                                               0.244423              \n",
       "credres__credit_req_cnt__org_bnk__more_than_90_...                                           0.074846              \n",
       "credres__credit_req_cnt__org_bnk__last_360_days                                              0.149380              \n",
       "credres__credit_req_cnt__org_bnk__more_than_360...                                           0.060106              \n",
       "\n",
       "                                                    crdeal_deallife__loans_cnt__dldonor_bnk__opened_lteq_60_days  \\\n",
       "target_flag                                                                                 -0.022600              \n",
       "crdeal_deallife__loans_cnt__dlrolesub_zaemshik_...                                           0.023663              \n",
       "crdeal_deallife__loans_cnt__dlrolesub_zaemshik_...                                           0.007843              \n",
       "crdeal_deallife__loans_cnt__dldonor_bnk                                                      0.323573              \n",
       "crdeal_deallife__loans_cnt__dldonor_bnk__opened...                                           0.189661              \n",
       "...                                                                                               ...              \n",
       "credres__credit_req_cnt__org_bnk__last_30_days                                               0.196184              \n",
       "credres__credit_req_cnt__org_bnk__last_60_days                                               0.284395              \n",
       "credres__credit_req_cnt__org_bnk__more_than_90_...                                           0.086743              \n",
       "credres__credit_req_cnt__org_bnk__last_360_days                                              0.180100              \n",
       "credres__credit_req_cnt__org_bnk__more_than_360...                                           0.065857              \n",
       "\n",
       "                                                    crdeal_deallife__loans_cnt__dldonor_bnk__opened_lteq_90_days  \\\n",
       "target_flag                                                                                 -0.017219              \n",
       "crdeal_deallife__loans_cnt__dlrolesub_zaemshik_...                                           0.043557              \n",
       "crdeal_deallife__loans_cnt__dlrolesub_zaemshik_...                                           0.003092              \n",
       "crdeal_deallife__loans_cnt__dldonor_bnk                                                      0.403166              \n",
       "crdeal_deallife__loans_cnt__dldonor_bnk__opened...                                           0.138114              \n",
       "...                                                                                               ...              \n",
       "credres__credit_req_cnt__org_bnk__last_30_days                                               0.184562              \n",
       "credres__credit_req_cnt__org_bnk__last_60_days                                               0.264335              \n",
       "credres__credit_req_cnt__org_bnk__more_than_90_...                                           0.117520              \n",
       "credres__credit_req_cnt__org_bnk__last_360_days                                              0.232132              \n",
       "credres__credit_req_cnt__org_bnk__more_than_360...                                           0.083124              \n",
       "\n",
       "                                                    crdeal_deallife__loans_cnt__dldonor_bnk__opened_lteq_120_days  \\\n",
       "target_flag                                                                                 -0.013722               \n",
       "crdeal_deallife__loans_cnt__dlrolesub_zaemshik_...                                           0.051764               \n",
       "crdeal_deallife__loans_cnt__dlrolesub_zaemshik_...                                           0.002735               \n",
       "crdeal_deallife__loans_cnt__dldonor_bnk                                                      0.460923               \n",
       "crdeal_deallife__loans_cnt__dldonor_bnk__opened...                                           0.117182               \n",
       "...                                                                                               ...               \n",
       "credres__credit_req_cnt__org_bnk__last_30_days                                               0.180395               \n",
       "credres__credit_req_cnt__org_bnk__last_60_days                                               0.258730               \n",
       "credres__credit_req_cnt__org_bnk__more_than_90_...                                           0.164420               \n",
       "credres__credit_req_cnt__org_bnk__last_360_days                                              0.276797               \n",
       "credres__credit_req_cnt__org_bnk__more_than_360...                                           0.102757               \n",
       "\n",
       "                                                    ...  \\\n",
       "target_flag                                         ...   \n",
       "crdeal_deallife__loans_cnt__dlrolesub_zaemshik_...  ...   \n",
       "crdeal_deallife__loans_cnt__dlrolesub_zaemshik_...  ...   \n",
       "crdeal_deallife__loans_cnt__dldonor_bnk             ...   \n",
       "crdeal_deallife__loans_cnt__dldonor_bnk__opened...  ...   \n",
       "...                                                 ...   \n",
       "credres__credit_req_cnt__org_bnk__last_30_days      ...   \n",
       "credres__credit_req_cnt__org_bnk__last_60_days      ...   \n",
       "credres__credit_req_cnt__org_bnk__more_than_90_...  ...   \n",
       "credres__credit_req_cnt__org_bnk__last_360_days     ...   \n",
       "credres__credit_req_cnt__org_bnk__more_than_360...  ...   \n",
       "\n",
       "                                                    credres__credit_req_cnt__org_bnk__last_3_5_days  \\\n",
       "target_flag                                                                               -0.020655   \n",
       "crdeal_deallife__loans_cnt__dlrolesub_zaemshik_...                                         0.002438   \n",
       "crdeal_deallife__loans_cnt__dlrolesub_zaemshik_...                                         0.007526   \n",
       "crdeal_deallife__loans_cnt__dldonor_bnk                                                    0.044780   \n",
       "crdeal_deallife__loans_cnt__dldonor_bnk__opened...                                         0.058297   \n",
       "...                                                                                             ...   \n",
       "credres__credit_req_cnt__org_bnk__last_30_days                                             0.434945   \n",
       "credres__credit_req_cnt__org_bnk__last_60_days                                             0.343214   \n",
       "credres__credit_req_cnt__org_bnk__more_than_90_...                                         0.055509   \n",
       "credres__credit_req_cnt__org_bnk__last_360_days                                            0.179013   \n",
       "credres__credit_req_cnt__org_bnk__more_than_360...                                         0.041563   \n",
       "\n",
       "                                                    credres__credit_req_cnt__org_bnk__last_7_days  \\\n",
       "target_flag                                                                             -0.027994   \n",
       "crdeal_deallife__loans_cnt__dlrolesub_zaemshik_...                                       0.008426   \n",
       "crdeal_deallife__loans_cnt__dlrolesub_zaemshik_...                                       0.007545   \n",
       "crdeal_deallife__loans_cnt__dldonor_bnk                                                  0.057475   \n",
       "crdeal_deallife__loans_cnt__dldonor_bnk__opened...                                       0.081329   \n",
       "...                                                                                           ...   \n",
       "credres__credit_req_cnt__org_bnk__last_30_days                                           0.571008   \n",
       "credres__credit_req_cnt__org_bnk__last_60_days                                           0.449135   \n",
       "credres__credit_req_cnt__org_bnk__more_than_90_...                                       0.076927   \n",
       "credres__credit_req_cnt__org_bnk__last_360_days                                          0.237775   \n",
       "credres__credit_req_cnt__org_bnk__more_than_360...                                       0.057083   \n",
       "\n",
       "                                                    credres__credit_req_cnt__org_bnk__last_10_days  \\\n",
       "target_flag                                                                              -0.029913   \n",
       "crdeal_deallife__loans_cnt__dlrolesub_zaemshik_...                                        0.015355   \n",
       "crdeal_deallife__loans_cnt__dlrolesub_zaemshik_...                                        0.015456   \n",
       "crdeal_deallife__loans_cnt__dldonor_bnk                                                   0.071271   \n",
       "crdeal_deallife__loans_cnt__dldonor_bnk__opened...                                        0.073869   \n",
       "...                                                                                            ...   \n",
       "credres__credit_req_cnt__org_bnk__last_30_days                                            0.661063   \n",
       "credres__credit_req_cnt__org_bnk__last_60_days                                            0.523404   \n",
       "credres__credit_req_cnt__org_bnk__more_than_90_...                                        0.093639   \n",
       "credres__credit_req_cnt__org_bnk__last_360_days                                           0.281889   \n",
       "credres__credit_req_cnt__org_bnk__more_than_360...                                        0.068549   \n",
       "\n",
       "                                                    credres__credit_req_cnt__org_bnk__last_13_days  \\\n",
       "target_flag                                                                              -0.033918   \n",
       "crdeal_deallife__loans_cnt__dlrolesub_zaemshik_...                                        0.018750   \n",
       "crdeal_deallife__loans_cnt__dlrolesub_zaemshik_...                                        0.016200   \n",
       "crdeal_deallife__loans_cnt__dldonor_bnk                                                   0.081803   \n",
       "crdeal_deallife__loans_cnt__dldonor_bnk__opened...                                        0.072200   \n",
       "...                                                                                            ...   \n",
       "credres__credit_req_cnt__org_bnk__last_30_days                                            0.732974   \n",
       "credres__credit_req_cnt__org_bnk__last_60_days                                            0.581142   \n",
       "credres__credit_req_cnt__org_bnk__more_than_90_...                                        0.106141   \n",
       "credres__credit_req_cnt__org_bnk__last_360_days                                           0.315962   \n",
       "credres__credit_req_cnt__org_bnk__more_than_360...                                        0.075749   \n",
       "\n",
       "                                                    credres__credit_req_cnt__org_bnk__last_20_days  \\\n",
       "target_flag                                                                              -0.040779   \n",
       "crdeal_deallife__loans_cnt__dlrolesub_zaemshik_...                                        0.026693   \n",
       "crdeal_deallife__loans_cnt__dlrolesub_zaemshik_...                                        0.021692   \n",
       "crdeal_deallife__loans_cnt__dldonor_bnk                                                   0.108255   \n",
       "crdeal_deallife__loans_cnt__dldonor_bnk__opened...                                        0.062868   \n",
       "...                                                                                            ...   \n",
       "credres__credit_req_cnt__org_bnk__last_30_days                                            0.873283   \n",
       "credres__credit_req_cnt__org_bnk__last_60_days                                            0.696603   \n",
       "credres__credit_req_cnt__org_bnk__more_than_90_...                                        0.126173   \n",
       "credres__credit_req_cnt__org_bnk__last_360_days                                           0.385610   \n",
       "credres__credit_req_cnt__org_bnk__more_than_360...                                        0.084711   \n",
       "\n",
       "                                                    credres__credit_req_cnt__org_bnk__last_30_days  \\\n",
       "target_flag                                                                              -0.044781   \n",
       "crdeal_deallife__loans_cnt__dlrolesub_zaemshik_...                                        0.042059   \n",
       "crdeal_deallife__loans_cnt__dlrolesub_zaemshik_...                                        0.019370   \n",
       "crdeal_deallife__loans_cnt__dldonor_bnk                                                   0.135666   \n",
       "crdeal_deallife__loans_cnt__dldonor_bnk__opened...                                        0.054911   \n",
       "...                                                                                            ...   \n",
       "credres__credit_req_cnt__org_bnk__last_30_days                                            1.000000   \n",
       "credres__credit_req_cnt__org_bnk__last_60_days                                            0.813793   \n",
       "credres__credit_req_cnt__org_bnk__more_than_90_...                                        0.162939   \n",
       "credres__credit_req_cnt__org_bnk__last_360_days                                           0.468698   \n",
       "credres__credit_req_cnt__org_bnk__more_than_360...                                        0.107198   \n",
       "\n",
       "                                                    credres__credit_req_cnt__org_bnk__last_60_days  \\\n",
       "target_flag                                                                              -0.047482   \n",
       "crdeal_deallife__loans_cnt__dlrolesub_zaemshik_...                                        0.082420   \n",
       "crdeal_deallife__loans_cnt__dlrolesub_zaemshik_...                                        0.021928   \n",
       "crdeal_deallife__loans_cnt__dldonor_bnk                                                   0.194585   \n",
       "crdeal_deallife__loans_cnt__dldonor_bnk__opened...                                        0.043022   \n",
       "...                                                                                            ...   \n",
       "credres__credit_req_cnt__org_bnk__last_30_days                                            0.813793   \n",
       "credres__credit_req_cnt__org_bnk__last_60_days                                            1.000000   \n",
       "credres__credit_req_cnt__org_bnk__more_than_90_...                                        0.238205   \n",
       "credres__credit_req_cnt__org_bnk__last_360_days                                           0.616566   \n",
       "credres__credit_req_cnt__org_bnk__more_than_360...                                        0.156267   \n",
       "\n",
       "                                                    credres__credit_req_cnt__org_bnk__more_than_90_days  \\\n",
       "target_flag                                                                                  0.061724     \n",
       "crdeal_deallife__loans_cnt__dlrolesub_zaemshik_...                                           0.379365     \n",
       "crdeal_deallife__loans_cnt__dlrolesub_zaemshik_...                                           0.040042     \n",
       "crdeal_deallife__loans_cnt__dldonor_bnk                                                      0.475663     \n",
       "crdeal_deallife__loans_cnt__dldonor_bnk__opened...                                           0.010901     \n",
       "...                                                                                               ...     \n",
       "credres__credit_req_cnt__org_bnk__last_30_days                                               0.162939     \n",
       "credres__credit_req_cnt__org_bnk__last_60_days                                               0.238205     \n",
       "credres__credit_req_cnt__org_bnk__more_than_90_...                                           1.000000     \n",
       "credres__credit_req_cnt__org_bnk__last_360_days                                              0.768297     \n",
       "credres__credit_req_cnt__org_bnk__more_than_360...                                           0.856923     \n",
       "\n",
       "                                                    credres__credit_req_cnt__org_bnk__last_360_days  \\\n",
       "target_flag                                                                                0.012885   \n",
       "crdeal_deallife__loans_cnt__dlrolesub_zaemshik_...                                         0.295388   \n",
       "crdeal_deallife__loans_cnt__dlrolesub_zaemshik_...                                         0.030510   \n",
       "crdeal_deallife__loans_cnt__dldonor_bnk                                                    0.378076   \n",
       "crdeal_deallife__loans_cnt__dldonor_bnk__opened...                                         0.019944   \n",
       "...                                                                                             ...   \n",
       "credres__credit_req_cnt__org_bnk__last_30_days                                             0.468698   \n",
       "credres__credit_req_cnt__org_bnk__last_60_days                                             0.616566   \n",
       "credres__credit_req_cnt__org_bnk__more_than_90_...                                         0.768297   \n",
       "credres__credit_req_cnt__org_bnk__last_360_days                                            1.000000   \n",
       "credres__credit_req_cnt__org_bnk__more_than_360...                                         0.423432   \n",
       "\n",
       "                                                    credres__credit_req_cnt__org_bnk__more_than_360_days  \n",
       "target_flag                                                                                  0.063783     \n",
       "crdeal_deallife__loans_cnt__dlrolesub_zaemshik_...                                           0.322104     \n",
       "crdeal_deallife__loans_cnt__dlrolesub_zaemshik_...                                           0.039556     \n",
       "crdeal_deallife__loans_cnt__dldonor_bnk                                                      0.444309     \n",
       "crdeal_deallife__loans_cnt__dldonor_bnk__opened...                                           0.011899     \n",
       "...                                                                                               ...     \n",
       "credres__credit_req_cnt__org_bnk__last_30_days                                               0.107198     \n",
       "credres__credit_req_cnt__org_bnk__last_60_days                                               0.156267     \n",
       "credres__credit_req_cnt__org_bnk__more_than_90_...                                           0.856923     \n",
       "credres__credit_req_cnt__org_bnk__last_360_days                                              0.423432     \n",
       "credres__credit_req_cnt__org_bnk__more_than_360...                                           1.000000     \n",
       "\n",
       "[279 rows x 279 columns]"
      ],
      "text/html": "<div>\n<style scoped>\n    .dataframe tbody tr th:only-of-type {\n        vertical-align: middle;\n    }\n\n    .dataframe tbody tr th {\n        vertical-align: top;\n    }\n\n    .dataframe thead th {\n        text-align: right;\n    }\n</style>\n<table border=\"1\" class=\"dataframe\">\n  <thead>\n    <tr style=\"text-align: right;\">\n      <th></th>\n      <th>target_flag</th>\n      <th>crdeal_deallife__loans_cnt__dlrolesub_zaemshik__curr_uah</th>\n      <th>crdeal_deallife__loans_cnt__dlrolesub_zaemshik__curr_not_uah</th>\n      <th>crdeal_deallife__loans_cnt__dldonor_bnk</th>\n      <th>crdeal_deallife__loans_cnt__dldonor_bnk__opened_lteq_7_days</th>\n      <th>crdeal_deallife__loans_cnt__dldonor_bnk__opened_lteq_30_days</th>\n      <th>crdeal_deallife__loans_cnt__dldonor_bnk__opened_lteq_45_days</th>\n      <th>crdeal_deallife__loans_cnt__dldonor_bnk__opened_lteq_60_days</th>\n      <th>crdeal_deallife__loans_cnt__dldonor_bnk__opened_lteq_90_days</th>\n      <th>crdeal_deallife__loans_cnt__dldonor_bnk__opened_lteq_120_days</th>\n      <th>...</th>\n      <th>credres__credit_req_cnt__org_bnk__last_3_5_days</th>\n      <th>credres__credit_req_cnt__org_bnk__last_7_days</th>\n      <th>credres__credit_req_cnt__org_bnk__last_10_days</th>\n      <th>credres__credit_req_cnt__org_bnk__last_13_days</th>\n      <th>credres__credit_req_cnt__org_bnk__last_20_days</th>\n      <th>credres__credit_req_cnt__org_bnk__last_30_days</th>\n      <th>credres__credit_req_cnt__org_bnk__last_60_days</th>\n      <th>credres__credit_req_cnt__org_bnk__more_than_90_days</th>\n      <th>credres__credit_req_cnt__org_bnk__last_360_days</th>\n      <th>credres__credit_req_cnt__org_bnk__more_than_360_days</th>\n    </tr>\n  </thead>\n  <tbody>\n    <tr>\n      <th>target_flag</th>\n      <td>1.000000</td>\n      <td>0.091743</td>\n      <td>0.013211</td>\n      <td>0.038861</td>\n      <td>-0.007049</td>\n      <td>-0.011811</td>\n      <td>-0.017213</td>\n      <td>-0.022600</td>\n      <td>-0.017219</td>\n      <td>-0.013722</td>\n      <td>...</td>\n      <td>-0.020655</td>\n      <td>-0.027994</td>\n      <td>-0.029913</td>\n      <td>-0.033918</td>\n      <td>-0.040779</td>\n      <td>-0.044781</td>\n      <td>-0.047482</td>\n      <td>0.061724</td>\n      <td>0.012885</td>\n      <td>0.063783</td>\n    </tr>\n    <tr>\n      <th>crdeal_deallife__loans_cnt__dlrolesub_zaemshik__curr_uah</th>\n      <td>0.091743</td>\n      <td>1.000000</td>\n      <td>0.022652</td>\n      <td>0.273456</td>\n      <td>-0.005998</td>\n      <td>0.014167</td>\n      <td>0.020049</td>\n      <td>0.023663</td>\n      <td>0.043557</td>\n      <td>0.051764</td>\n      <td>...</td>\n      <td>0.002438</td>\n      <td>0.008426</td>\n      <td>0.015355</td>\n      <td>0.018750</td>\n      <td>0.026693</td>\n      <td>0.042059</td>\n      <td>0.082420</td>\n      <td>0.379365</td>\n      <td>0.295388</td>\n      <td>0.322104</td>\n    </tr>\n    <tr>\n      <th>crdeal_deallife__loans_cnt__dlrolesub_zaemshik__curr_not_uah</th>\n      <td>0.013211</td>\n      <td>0.022652</td>\n      <td>1.000000</td>\n      <td>0.068526</td>\n      <td>0.001052</td>\n      <td>-0.000032</td>\n      <td>0.007995</td>\n      <td>0.007843</td>\n      <td>0.003092</td>\n      <td>0.002735</td>\n      <td>...</td>\n      <td>0.007526</td>\n      <td>0.007545</td>\n      <td>0.015456</td>\n      <td>0.016200</td>\n      <td>0.021692</td>\n      <td>0.019370</td>\n      <td>0.021928</td>\n      <td>0.040042</td>\n      <td>0.030510</td>\n      <td>0.039556</td>\n    </tr>\n    <tr>\n      <th>crdeal_deallife__loans_cnt__dldonor_bnk</th>\n      <td>0.038861</td>\n      <td>0.273456</td>\n      <td>0.068526</td>\n      <td>1.000000</td>\n      <td>0.029250</td>\n      <td>0.205050</td>\n      <td>0.277884</td>\n      <td>0.323573</td>\n      <td>0.403166</td>\n      <td>0.460923</td>\n      <td>...</td>\n      <td>0.044780</td>\n      <td>0.057475</td>\n      <td>0.071271</td>\n      <td>0.081803</td>\n      <td>0.108255</td>\n      <td>0.135666</td>\n      <td>0.194585</td>\n      <td>0.475663</td>\n      <td>0.378076</td>\n      <td>0.444309</td>\n    </tr>\n    <tr>\n      <th>crdeal_deallife__loans_cnt__dldonor_bnk__opened_lteq_7_days</th>\n      <td>-0.007049</td>\n      <td>-0.005998</td>\n      <td>0.001052</td>\n      <td>0.029250</td>\n      <td>1.000000</td>\n      <td>0.323123</td>\n      <td>0.236427</td>\n      <td>0.189661</td>\n      <td>0.138114</td>\n      <td>0.117182</td>\n      <td>...</td>\n      <td>0.058297</td>\n      <td>0.081329</td>\n      <td>0.073869</td>\n      <td>0.072200</td>\n      <td>0.062868</td>\n      <td>0.054911</td>\n      <td>0.043022</td>\n      <td>0.010901</td>\n      <td>0.019944</td>\n      <td>0.011899</td>\n    </tr>\n    <tr>\n      <th>...</th>\n      <td>...</td>\n      <td>...</td>\n      <td>...</td>\n      <td>...</td>\n      <td>...</td>\n      <td>...</td>\n      <td>...</td>\n      <td>...</td>\n      <td>...</td>\n      <td>...</td>\n      <td>...</td>\n      <td>...</td>\n      <td>...</td>\n      <td>...</td>\n      <td>...</td>\n      <td>...</td>\n      <td>...</td>\n      <td>...</td>\n      <td>...</td>\n      <td>...</td>\n      <td>...</td>\n    </tr>\n    <tr>\n      <th>credres__credit_req_cnt__org_bnk__last_30_days</th>\n      <td>-0.044781</td>\n      <td>0.042059</td>\n      <td>0.019370</td>\n      <td>0.135666</td>\n      <td>0.054911</td>\n      <td>0.212988</td>\n      <td>0.206939</td>\n      <td>0.196184</td>\n      <td>0.184562</td>\n      <td>0.180395</td>\n      <td>...</td>\n      <td>0.434945</td>\n      <td>0.571008</td>\n      <td>0.661063</td>\n      <td>0.732974</td>\n      <td>0.873283</td>\n      <td>1.000000</td>\n      <td>0.813793</td>\n      <td>0.162939</td>\n      <td>0.468698</td>\n      <td>0.107198</td>\n    </tr>\n    <tr>\n      <th>credres__credit_req_cnt__org_bnk__last_60_days</th>\n      <td>-0.047482</td>\n      <td>0.082420</td>\n      <td>0.021928</td>\n      <td>0.194585</td>\n      <td>0.043022</td>\n      <td>0.173926</td>\n      <td>0.244423</td>\n      <td>0.284395</td>\n      <td>0.264335</td>\n      <td>0.258730</td>\n      <td>...</td>\n      <td>0.343214</td>\n      <td>0.449135</td>\n      <td>0.523404</td>\n      <td>0.581142</td>\n      <td>0.696603</td>\n      <td>0.813793</td>\n      <td>1.000000</td>\n      <td>0.238205</td>\n      <td>0.616566</td>\n      <td>0.156267</td>\n    </tr>\n    <tr>\n      <th>credres__credit_req_cnt__org_bnk__more_than_90_days</th>\n      <td>0.061724</td>\n      <td>0.379365</td>\n      <td>0.040042</td>\n      <td>0.475663</td>\n      <td>0.010901</td>\n      <td>0.052234</td>\n      <td>0.074846</td>\n      <td>0.086743</td>\n      <td>0.117520</td>\n      <td>0.164420</td>\n      <td>...</td>\n      <td>0.055509</td>\n      <td>0.076927</td>\n      <td>0.093639</td>\n      <td>0.106141</td>\n      <td>0.126173</td>\n      <td>0.162939</td>\n      <td>0.238205</td>\n      <td>1.000000</td>\n      <td>0.768297</td>\n      <td>0.856923</td>\n    </tr>\n    <tr>\n      <th>credres__credit_req_cnt__org_bnk__last_360_days</th>\n      <td>0.012885</td>\n      <td>0.295388</td>\n      <td>0.030510</td>\n      <td>0.378076</td>\n      <td>0.019944</td>\n      <td>0.105179</td>\n      <td>0.149380</td>\n      <td>0.180100</td>\n      <td>0.232132</td>\n      <td>0.276797</td>\n      <td>...</td>\n      <td>0.179013</td>\n      <td>0.237775</td>\n      <td>0.281889</td>\n      <td>0.315962</td>\n      <td>0.385610</td>\n      <td>0.468698</td>\n      <td>0.616566</td>\n      <td>0.768297</td>\n      <td>1.000000</td>\n      <td>0.423432</td>\n    </tr>\n    <tr>\n      <th>credres__credit_req_cnt__org_bnk__more_than_360_days</th>\n      <td>0.063783</td>\n      <td>0.322104</td>\n      <td>0.039556</td>\n      <td>0.444309</td>\n      <td>0.011899</td>\n      <td>0.041575</td>\n      <td>0.060106</td>\n      <td>0.065857</td>\n      <td>0.083124</td>\n      <td>0.102757</td>\n      <td>...</td>\n      <td>0.041563</td>\n      <td>0.057083</td>\n      <td>0.068549</td>\n      <td>0.075749</td>\n      <td>0.084711</td>\n      <td>0.107198</td>\n      <td>0.156267</td>\n      <td>0.856923</td>\n      <td>0.423432</td>\n      <td>1.000000</td>\n    </tr>\n  </tbody>\n</table>\n<p>279 rows × 279 columns</p>\n</div>"
     },
     "metadata": {},
     "execution_count": 630
    }
   ],
   "source": [
    "cor"
   ]
  },
  {
   "cell_type": "code",
   "execution_count": 631,
   "metadata": {},
   "outputs": [],
   "source": [
    "cor_target = abs(cor[\"target_flag\"])"
   ]
  },
  {
   "cell_type": "code",
   "execution_count": 632,
   "metadata": {},
   "outputs": [
    {
     "output_type": "execute_result",
     "data": {
      "text/plain": [
       "target_flag    1.0\n",
       "Name: target_flag, dtype: float64"
      ]
     },
     "metadata": {},
     "execution_count": 632
    }
   ],
   "source": [
    "relevant_features = cor_target[cor_target>0.5]\n",
    "relevant_features"
   ]
  },
  {
   "source": [
    "No features highly corellated with the target found"
   ],
   "cell_type": "markdown",
   "metadata": {}
  },
  {
   "source": [
    "# Splitting train data into train and validation datasets"
   ],
   "cell_type": "markdown",
   "metadata": {}
  },
  {
   "cell_type": "code",
   "execution_count": 633,
   "metadata": {},
   "outputs": [],
   "source": [
    "y = train_data['target_flag']\n",
    "X = train_data.drop('target_flag', axis=1)"
   ]
  },
  {
   "cell_type": "code",
   "execution_count": 634,
   "metadata": {},
   "outputs": [],
   "source": [
    "X_train, X_test, y_train, y_test = train_test_split(\n",
    "    X, y, test_size=0.33, random_state=42)"
   ]
  },
  {
   "cell_type": "code",
   "execution_count": 635,
   "metadata": {},
   "outputs": [
    {
     "output_type": "execute_result",
     "data": {
      "text/plain": [
       "572"
      ]
     },
     "metadata": {},
     "execution_count": 635
    }
   ],
   "source": [
    "del X, y, le, train_data, data, relevant_features, cor, cor_target\n",
    "gc.collect()"
   ]
  },
  {
   "cell_type": "code",
   "execution_count": 636,
   "metadata": {},
   "outputs": [
    {
     "output_type": "execute_result",
     "data": {
      "text/plain": [
       "       crdeal_deallife__loans_cnt__dlrolesub_zaemshik__curr_uah  \\\n",
       "30227                                                4.0          \n",
       "12425                                                5.0          \n",
       "4788                                                11.0          \n",
       "14439                                               11.0          \n",
       "25594                                                1.0          \n",
       "\n",
       "       crdeal_deallife__loans_cnt__dlrolesub_zaemshik__curr_not_uah  \\\n",
       "30227                                                0.0              \n",
       "12425                                                0.0              \n",
       "4788                                                 0.0              \n",
       "14439                                                0.0              \n",
       "25594                                                0.0              \n",
       "\n",
       "       crdeal_deallife__loans_cnt__dldonor_bnk  \\\n",
       "30227                                      2.0   \n",
       "12425                                      2.0   \n",
       "4788                                       5.0   \n",
       "14439                                      7.0   \n",
       "25594                                      1.0   \n",
       "\n",
       "       crdeal_deallife__loans_cnt__dldonor_bnk__opened_lteq_7_days  \\\n",
       "30227                                                0.0             \n",
       "12425                                                0.0             \n",
       "4788                                                 0.0             \n",
       "14439                                                0.0             \n",
       "25594                                                0.0             \n",
       "\n",
       "       crdeal_deallife__loans_cnt__dldonor_bnk__opened_lteq_30_days  \\\n",
       "30227                                                0.0              \n",
       "12425                                                0.0              \n",
       "4788                                                 0.0              \n",
       "14439                                                0.0              \n",
       "25594                                                0.0              \n",
       "\n",
       "       crdeal_deallife__loans_cnt__dldonor_bnk__opened_lteq_45_days  \\\n",
       "30227                                                0.0              \n",
       "12425                                                0.0              \n",
       "4788                                                 0.0              \n",
       "14439                                                0.0              \n",
       "25594                                                0.0              \n",
       "\n",
       "       crdeal_deallife__loans_cnt__dldonor_bnk__opened_lteq_60_days  \\\n",
       "30227                                                0.0              \n",
       "12425                                                0.0              \n",
       "4788                                                 0.0              \n",
       "14439                                                0.0              \n",
       "25594                                                0.0              \n",
       "\n",
       "       crdeal_deallife__loans_cnt__dldonor_bnk__opened_lteq_90_days  \\\n",
       "30227                                                0.0              \n",
       "12425                                                0.0              \n",
       "4788                                                 0.0              \n",
       "14439                                                0.0              \n",
       "25594                                                0.0              \n",
       "\n",
       "       crdeal_deallife__loans_cnt__dldonor_bnk__opened_lteq_120_days  \\\n",
       "30227                                                0.0               \n",
       "12425                                                0.0               \n",
       "4788                                                 0.0               \n",
       "14439                                                0.0               \n",
       "25594                                                0.0               \n",
       "\n",
       "       crdeal_deallife__loans_cnt__dldonor_bnk__opened_lteq_180_days  ...  \\\n",
       "30227                                                0.0              ...   \n",
       "12425                                                0.0              ...   \n",
       "4788                                                 0.0              ...   \n",
       "14439                                                2.0              ...   \n",
       "25594                                                0.0              ...   \n",
       "\n",
       "       credres__credit_req_cnt__org_bnk__last_3_5_days  \\\n",
       "30227                                              0.0   \n",
       "12425                                              0.0   \n",
       "4788                                               0.0   \n",
       "14439                                              0.0   \n",
       "25594                                              0.0   \n",
       "\n",
       "       credres__credit_req_cnt__org_bnk__last_7_days  \\\n",
       "30227                                            0.0   \n",
       "12425                                            0.0   \n",
       "4788                                             0.0   \n",
       "14439                                            0.0   \n",
       "25594                                            0.0   \n",
       "\n",
       "       credres__credit_req_cnt__org_bnk__last_10_days  \\\n",
       "30227                                             0.0   \n",
       "12425                                             0.0   \n",
       "4788                                              0.0   \n",
       "14439                                             0.0   \n",
       "25594                                             0.0   \n",
       "\n",
       "       credres__credit_req_cnt__org_bnk__last_13_days  \\\n",
       "30227                                             0.0   \n",
       "12425                                             0.0   \n",
       "4788                                              0.0   \n",
       "14439                                             0.0   \n",
       "25594                                             1.0   \n",
       "\n",
       "       credres__credit_req_cnt__org_bnk__last_20_days  \\\n",
       "30227                                             0.0   \n",
       "12425                                             0.0   \n",
       "4788                                              0.0   \n",
       "14439                                             0.0   \n",
       "25594                                             1.0   \n",
       "\n",
       "       credres__credit_req_cnt__org_bnk__last_30_days  \\\n",
       "30227                                             0.0   \n",
       "12425                                             0.0   \n",
       "4788                                              0.0   \n",
       "14439                                             0.0   \n",
       "25594                                             1.0   \n",
       "\n",
       "       credres__credit_req_cnt__org_bnk__last_60_days  \\\n",
       "30227                                             0.0   \n",
       "12425                                             0.0   \n",
       "4788                                              0.0   \n",
       "14439                                             0.0   \n",
       "25594                                             2.0   \n",
       "\n",
       "       credres__credit_req_cnt__org_bnk__more_than_90_days  \\\n",
       "30227                                               31.0     \n",
       "12425                                                6.0     \n",
       "4788                                                 7.0     \n",
       "14439                                                6.0     \n",
       "25594                                                2.0     \n",
       "\n",
       "       credres__credit_req_cnt__org_bnk__last_360_days  \\\n",
       "30227                                              1.0   \n",
       "12425                                              5.0   \n",
       "4788                                               1.0   \n",
       "14439                                              2.0   \n",
       "25594                                              4.0   \n",
       "\n",
       "       credres__credit_req_cnt__org_bnk__more_than_360_days  \n",
       "30227                                               30.0     \n",
       "12425                                                2.0     \n",
       "4788                                                 6.0     \n",
       "14439                                                4.0     \n",
       "25594                                                0.0     \n",
       "\n",
       "[5 rows x 278 columns]"
      ],
      "text/html": "<div>\n<style scoped>\n    .dataframe tbody tr th:only-of-type {\n        vertical-align: middle;\n    }\n\n    .dataframe tbody tr th {\n        vertical-align: top;\n    }\n\n    .dataframe thead th {\n        text-align: right;\n    }\n</style>\n<table border=\"1\" class=\"dataframe\">\n  <thead>\n    <tr style=\"text-align: right;\">\n      <th></th>\n      <th>crdeal_deallife__loans_cnt__dlrolesub_zaemshik__curr_uah</th>\n      <th>crdeal_deallife__loans_cnt__dlrolesub_zaemshik__curr_not_uah</th>\n      <th>crdeal_deallife__loans_cnt__dldonor_bnk</th>\n      <th>crdeal_deallife__loans_cnt__dldonor_bnk__opened_lteq_7_days</th>\n      <th>crdeal_deallife__loans_cnt__dldonor_bnk__opened_lteq_30_days</th>\n      <th>crdeal_deallife__loans_cnt__dldonor_bnk__opened_lteq_45_days</th>\n      <th>crdeal_deallife__loans_cnt__dldonor_bnk__opened_lteq_60_days</th>\n      <th>crdeal_deallife__loans_cnt__dldonor_bnk__opened_lteq_90_days</th>\n      <th>crdeal_deallife__loans_cnt__dldonor_bnk__opened_lteq_120_days</th>\n      <th>crdeal_deallife__loans_cnt__dldonor_bnk__opened_lteq_180_days</th>\n      <th>...</th>\n      <th>credres__credit_req_cnt__org_bnk__last_3_5_days</th>\n      <th>credres__credit_req_cnt__org_bnk__last_7_days</th>\n      <th>credres__credit_req_cnt__org_bnk__last_10_days</th>\n      <th>credres__credit_req_cnt__org_bnk__last_13_days</th>\n      <th>credres__credit_req_cnt__org_bnk__last_20_days</th>\n      <th>credres__credit_req_cnt__org_bnk__last_30_days</th>\n      <th>credres__credit_req_cnt__org_bnk__last_60_days</th>\n      <th>credres__credit_req_cnt__org_bnk__more_than_90_days</th>\n      <th>credres__credit_req_cnt__org_bnk__last_360_days</th>\n      <th>credres__credit_req_cnt__org_bnk__more_than_360_days</th>\n    </tr>\n  </thead>\n  <tbody>\n    <tr>\n      <th>30227</th>\n      <td>4.0</td>\n      <td>0.0</td>\n      <td>2.0</td>\n      <td>0.0</td>\n      <td>0.0</td>\n      <td>0.0</td>\n      <td>0.0</td>\n      <td>0.0</td>\n      <td>0.0</td>\n      <td>0.0</td>\n      <td>...</td>\n      <td>0.0</td>\n      <td>0.0</td>\n      <td>0.0</td>\n      <td>0.0</td>\n      <td>0.0</td>\n      <td>0.0</td>\n      <td>0.0</td>\n      <td>31.0</td>\n      <td>1.0</td>\n      <td>30.0</td>\n    </tr>\n    <tr>\n      <th>12425</th>\n      <td>5.0</td>\n      <td>0.0</td>\n      <td>2.0</td>\n      <td>0.0</td>\n      <td>0.0</td>\n      <td>0.0</td>\n      <td>0.0</td>\n      <td>0.0</td>\n      <td>0.0</td>\n      <td>0.0</td>\n      <td>...</td>\n      <td>0.0</td>\n      <td>0.0</td>\n      <td>0.0</td>\n      <td>0.0</td>\n      <td>0.0</td>\n      <td>0.0</td>\n      <td>0.0</td>\n      <td>6.0</td>\n      <td>5.0</td>\n      <td>2.0</td>\n    </tr>\n    <tr>\n      <th>4788</th>\n      <td>11.0</td>\n      <td>0.0</td>\n      <td>5.0</td>\n      <td>0.0</td>\n      <td>0.0</td>\n      <td>0.0</td>\n      <td>0.0</td>\n      <td>0.0</td>\n      <td>0.0</td>\n      <td>0.0</td>\n      <td>...</td>\n      <td>0.0</td>\n      <td>0.0</td>\n      <td>0.0</td>\n      <td>0.0</td>\n      <td>0.0</td>\n      <td>0.0</td>\n      <td>0.0</td>\n      <td>7.0</td>\n      <td>1.0</td>\n      <td>6.0</td>\n    </tr>\n    <tr>\n      <th>14439</th>\n      <td>11.0</td>\n      <td>0.0</td>\n      <td>7.0</td>\n      <td>0.0</td>\n      <td>0.0</td>\n      <td>0.0</td>\n      <td>0.0</td>\n      <td>0.0</td>\n      <td>0.0</td>\n      <td>2.0</td>\n      <td>...</td>\n      <td>0.0</td>\n      <td>0.0</td>\n      <td>0.0</td>\n      <td>0.0</td>\n      <td>0.0</td>\n      <td>0.0</td>\n      <td>0.0</td>\n      <td>6.0</td>\n      <td>2.0</td>\n      <td>4.0</td>\n    </tr>\n    <tr>\n      <th>25594</th>\n      <td>1.0</td>\n      <td>0.0</td>\n      <td>1.0</td>\n      <td>0.0</td>\n      <td>0.0</td>\n      <td>0.0</td>\n      <td>0.0</td>\n      <td>0.0</td>\n      <td>0.0</td>\n      <td>0.0</td>\n      <td>...</td>\n      <td>0.0</td>\n      <td>0.0</td>\n      <td>0.0</td>\n      <td>1.0</td>\n      <td>1.0</td>\n      <td>1.0</td>\n      <td>2.0</td>\n      <td>2.0</td>\n      <td>4.0</td>\n      <td>0.0</td>\n    </tr>\n  </tbody>\n</table>\n<p>5 rows × 278 columns</p>\n</div>"
     },
     "metadata": {},
     "execution_count": 636
    }
   ],
   "source": [
    "X_train.head()"
   ]
  },
  {
   "source": [
    "# Fitting a XGBoost Classifier"
   ],
   "cell_type": "markdown",
   "metadata": {}
  },
  {
   "cell_type": "code",
   "execution_count": 637,
   "metadata": {},
   "outputs": [],
   "source": [
    "xgbc = XGBClassifier(objective='binary:logistic')"
   ]
  },
  {
   "cell_type": "code",
   "execution_count": 638,
   "metadata": {},
   "outputs": [],
   "source": [
    "params = {\n",
    "    \n",
    "    \"colsample_bytree\": uniform(0.8, 0.3),\n",
    "    \"lambda\" : [0, 0.5, 1],\n",
    "    \"alpha\" : [0, 0.5, 1],\n",
    "    \"gamma\": [0, 0.5, 1],\n",
    "    \"learning_rate\": uniform(0.03, 0.3), \n",
    "    \"max_depth\": [1, 2, 3], \n",
    "    \"n_estimators\": [100, 150, 200, 250, 300], \n",
    "    \"subsample\": uniform(0.7, 0.4)\n",
    "}\n",
    "\n",
    "clf = RandomizedSearchCV(estimator=xgbc, param_distributions=params, random_state=42, n_iter=50, cv=3, verbose=1, n_jobs=-1, return_train_score=True)"
   ]
  },
  {
   "cell_type": "code",
   "execution_count": 639,
   "metadata": {},
   "outputs": [
    {
     "output_type": "stream",
     "name": "stdout",
     "text": [
      "Fitting 3 folds for each of 50 candidates, totalling 150 fits\n",
      "[Parallel(n_jobs=-1)]: Using backend LokyBackend with 8 concurrent workers.\n",
      "[Parallel(n_jobs=-1)]: Done  34 tasks      | elapsed:   37.5s\n",
      "[Parallel(n_jobs=-1)]: Done 150 out of 150 | elapsed:  4.1min finished\n",
      "CPU times: user 47.2 s, sys: 364 ms, total: 47.5 s\n",
      "Wall time: 4min 14s\n"
     ]
    },
    {
     "output_type": "execute_result",
     "data": {
      "text/plain": [
       "RandomizedSearchCV(cv=3,\n",
       "                   estimator=XGBClassifier(base_score=None, booster=None,\n",
       "                                           colsample_bylevel=None,\n",
       "                                           colsample_bynode=None,\n",
       "                                           colsample_bytree=None, gamma=None,\n",
       "                                           gpu_id=None, importance_type='gain',\n",
       "                                           interaction_constraints=None,\n",
       "                                           learning_rate=None,\n",
       "                                           max_delta_step=None, max_depth=None,\n",
       "                                           min_child_weight=None, missing=nan,\n",
       "                                           monotone_constraints=None,\n",
       "                                           n_estimators=100,...\n",
       "                                        'colsample_bytree': <scipy.stats._distn_infrastructure.rv_frozen object at 0x7fec540de340>,\n",
       "                                        'gamma': [0, 0.5, 1],\n",
       "                                        'lambda': [0, 0.5, 1],\n",
       "                                        'learning_rate': <scipy.stats._distn_infrastructure.rv_frozen object at 0x7fec540deaf0>,\n",
       "                                        'max_depth': [1, 2, 3],\n",
       "                                        'n_estimators': [100, 150, 200, 250,\n",
       "                                                         300],\n",
       "                                        'subsample': <scipy.stats._distn_infrastructure.rv_frozen object at 0x7fec540defd0>},\n",
       "                   random_state=42, return_train_score=True, verbose=1)"
      ]
     },
     "metadata": {},
     "execution_count": 639
    }
   ],
   "source": [
    "%%time\n",
    "clf.fit(X_train, y_train)"
   ]
  },
  {
   "cell_type": "code",
   "execution_count": 640,
   "metadata": {},
   "outputs": [
    {
     "output_type": "execute_result",
     "data": {
      "text/plain": [
       "{'alpha': 1,\n",
       " 'colsample_bytree': 0.928132336587877,\n",
       " 'gamma': 0,\n",
       " 'lambda': 0,\n",
       " 'learning_rate': 0.1214343774474087,\n",
       " 'max_depth': 2,\n",
       " 'n_estimators': 200,\n",
       " 'subsample': 0.8669644012595116}"
      ]
     },
     "metadata": {},
     "execution_count": 640
    }
   ],
   "source": [
    "clf.best_params_"
   ]
  },
  {
   "cell_type": "code",
   "execution_count": 641,
   "metadata": {},
   "outputs": [
    {
     "output_type": "execute_result",
     "data": {
      "text/plain": [
       "0.687842244708949"
      ]
     },
     "metadata": {},
     "execution_count": 641
    }
   ],
   "source": [
    "clf.best_score_"
   ]
  },
  {
   "cell_type": "code",
   "execution_count": 642,
   "metadata": {},
   "outputs": [],
   "source": [
    "pred = clf.predict(X_test)"
   ]
  },
  {
   "cell_type": "code",
   "execution_count": 643,
   "metadata": {},
   "outputs": [
    {
     "output_type": "execute_result",
     "data": {
      "text/plain": [
       "2524"
      ]
     },
     "metadata": {},
     "execution_count": 643
    }
   ],
   "source": [
    "del X_train, y_train\n",
    "gc.collect()"
   ]
  },
  {
   "source": [
    "# Measuring performance"
   ],
   "cell_type": "markdown",
   "metadata": {}
  },
  {
   "cell_type": "code",
   "execution_count": 644,
   "metadata": {},
   "outputs": [
    {
     "output_type": "stream",
     "name": "stdout",
     "text": [
      "0.5531098922096819\n"
     ]
    }
   ],
   "source": [
    "fpr, tpr, thresholds = roc_curve(y_test, pred)\n",
    "print(auc(fpr, tpr))"
   ]
  },
  {
   "cell_type": "code",
   "execution_count": 645,
   "metadata": {},
   "outputs": [
    {
     "output_type": "execute_result",
     "data": {
      "text/plain": [
       "0.6869790169588962"
      ]
     },
     "metadata": {},
     "execution_count": 645
    }
   ],
   "source": [
    "accuracy_score(y_test, pred)"
   ]
  },
  {
   "cell_type": "code",
   "execution_count": 646,
   "metadata": {},
   "outputs": [
    {
     "output_type": "execute_result",
     "data": {
      "text/plain": [
       "0.8013136288998357"
      ]
     },
     "metadata": {},
     "execution_count": 646
    }
   ],
   "source": [
    "f1_score(y_test, pred)"
   ]
  },
  {
   "cell_type": "code",
   "execution_count": 647,
   "metadata": {},
   "outputs": [
    {
     "output_type": "execute_result",
     "data": {
      "text/plain": [
       "80"
      ]
     },
     "metadata": {},
     "execution_count": 647
    }
   ],
   "source": [
    "del X_test, y_test, pred\n",
    "gc.collect()"
   ]
  },
  {
   "source": [
    "# Making predictions on test data"
   ],
   "cell_type": "markdown",
   "metadata": {}
  },
  {
   "cell_type": "code",
   "execution_count": 648,
   "metadata": {},
   "outputs": [],
   "source": [
    "target_flag = clf.predict(test_data)"
   ]
  },
  {
   "cell_type": "code",
   "execution_count": 649,
   "metadata": {},
   "outputs": [
    {
     "output_type": "execute_result",
     "data": {
      "text/plain": [
       "array([1, 1, 1, ..., 1, 1, 1])"
      ]
     },
     "metadata": {},
     "execution_count": 649
    }
   ],
   "source": [
    "target_flag"
   ]
  },
  {
   "cell_type": "code",
   "execution_count": 650,
   "metadata": {},
   "outputs": [],
   "source": [
    "data = pd.concat([pd.Series(target_flag, name='target_flag', index=test_data.index), test_data], axis=1)"
   ]
  },
  {
   "cell_type": "code",
   "execution_count": 651,
   "metadata": {},
   "outputs": [
    {
     "output_type": "execute_result",
     "data": {
      "text/plain": [
       "    target_flag  crdeal_deallife__loans_cnt__dlrolesub_zaemshik__curr_uah  \\\n",
       "7             1                                                3.0          \n",
       "9             1                                               25.0          \n",
       "14            1                                               21.0          \n",
       "17            1                                               16.0          \n",
       "21            1                                                9.0          \n",
       "\n",
       "    crdeal_deallife__loans_cnt__dlrolesub_zaemshik__curr_not_uah  \\\n",
       "7                                                 0.0              \n",
       "9                                                 0.0              \n",
       "14                                                0.0              \n",
       "17                                                0.0              \n",
       "21                                                0.0              \n",
       "\n",
       "    crdeal_deallife__loans_cnt__dldonor_bnk  \\\n",
       "7                                       2.0   \n",
       "9                                       5.0   \n",
       "14                                      2.0   \n",
       "17                                      0.0   \n",
       "21                                      2.0   \n",
       "\n",
       "    crdeal_deallife__loans_cnt__dldonor_bnk__opened_lteq_7_days  \\\n",
       "7                                                 0.0             \n",
       "9                                                 0.0             \n",
       "14                                                0.0             \n",
       "17                                                0.0             \n",
       "21                                                0.0             \n",
       "\n",
       "    crdeal_deallife__loans_cnt__dldonor_bnk__opened_lteq_30_days  \\\n",
       "7                                                 0.0              \n",
       "9                                                 0.0              \n",
       "14                                                0.0              \n",
       "17                                                0.0              \n",
       "21                                                0.0              \n",
       "\n",
       "    crdeal_deallife__loans_cnt__dldonor_bnk__opened_lteq_45_days  \\\n",
       "7                                                 0.0              \n",
       "9                                                 0.0              \n",
       "14                                                0.0              \n",
       "17                                                0.0              \n",
       "21                                                0.0              \n",
       "\n",
       "    crdeal_deallife__loans_cnt__dldonor_bnk__opened_lteq_60_days  \\\n",
       "7                                                 0.0              \n",
       "9                                                 0.0              \n",
       "14                                                0.0              \n",
       "17                                                0.0              \n",
       "21                                                0.0              \n",
       "\n",
       "    crdeal_deallife__loans_cnt__dldonor_bnk__opened_lteq_90_days  \\\n",
       "7                                                 0.0              \n",
       "9                                                 0.0              \n",
       "14                                                0.0              \n",
       "17                                                0.0              \n",
       "21                                                0.0              \n",
       "\n",
       "    crdeal_deallife__loans_cnt__dldonor_bnk__opened_lteq_120_days  ...  \\\n",
       "7                                                 0.0              ...   \n",
       "9                                                 0.0              ...   \n",
       "14                                                0.0              ...   \n",
       "17                                                0.0              ...   \n",
       "21                                                0.0              ...   \n",
       "\n",
       "    credres__credit_req_cnt__org_bnk__last_3_5_days  \\\n",
       "7                                               0.0   \n",
       "9                                               0.0   \n",
       "14                                              0.0   \n",
       "17                                              0.0   \n",
       "21                                              0.0   \n",
       "\n",
       "    credres__credit_req_cnt__org_bnk__last_7_days  \\\n",
       "7                                             0.0   \n",
       "9                                             0.0   \n",
       "14                                            0.0   \n",
       "17                                            0.0   \n",
       "21                                            0.0   \n",
       "\n",
       "    credres__credit_req_cnt__org_bnk__last_10_days  \\\n",
       "7                                              0.0   \n",
       "9                                              0.0   \n",
       "14                                             0.0   \n",
       "17                                             0.0   \n",
       "21                                             0.0   \n",
       "\n",
       "    credres__credit_req_cnt__org_bnk__last_13_days  \\\n",
       "7                                              0.0   \n",
       "9                                              1.0   \n",
       "14                                             2.0   \n",
       "17                                             0.0   \n",
       "21                                             0.0   \n",
       "\n",
       "    credres__credit_req_cnt__org_bnk__last_20_days  \\\n",
       "7                                              0.0   \n",
       "9                                              1.0   \n",
       "14                                             2.0   \n",
       "17                                             0.0   \n",
       "21                                             0.0   \n",
       "\n",
       "    credres__credit_req_cnt__org_bnk__last_30_days  \\\n",
       "7                                              0.0   \n",
       "9                                              1.0   \n",
       "14                                             2.0   \n",
       "17                                             0.0   \n",
       "21                                             0.0   \n",
       "\n",
       "    credres__credit_req_cnt__org_bnk__last_60_days  \\\n",
       "7                                              0.0   \n",
       "9                                              4.0   \n",
       "14                                             2.0   \n",
       "17                                             1.0   \n",
       "21                                             0.0   \n",
       "\n",
       "    credres__credit_req_cnt__org_bnk__more_than_90_days  \\\n",
       "7                                                 1.0     \n",
       "9                                                11.0     \n",
       "14                                                6.0     \n",
       "17                                                0.0     \n",
       "21                                                2.0     \n",
       "\n",
       "    credres__credit_req_cnt__org_bnk__last_360_days  \\\n",
       "7                                               0.0   \n",
       "9                                               9.0   \n",
       "14                                              7.0   \n",
       "17                                              1.0   \n",
       "21                                              0.0   \n",
       "\n",
       "    credres__credit_req_cnt__org_bnk__more_than_360_days  \n",
       "7                                                 1.0     \n",
       "9                                                 7.0     \n",
       "14                                                1.0     \n",
       "17                                                0.0     \n",
       "21                                                2.0     \n",
       "\n",
       "[5 rows x 279 columns]"
      ],
      "text/html": "<div>\n<style scoped>\n    .dataframe tbody tr th:only-of-type {\n        vertical-align: middle;\n    }\n\n    .dataframe tbody tr th {\n        vertical-align: top;\n    }\n\n    .dataframe thead th {\n        text-align: right;\n    }\n</style>\n<table border=\"1\" class=\"dataframe\">\n  <thead>\n    <tr style=\"text-align: right;\">\n      <th></th>\n      <th>target_flag</th>\n      <th>crdeal_deallife__loans_cnt__dlrolesub_zaemshik__curr_uah</th>\n      <th>crdeal_deallife__loans_cnt__dlrolesub_zaemshik__curr_not_uah</th>\n      <th>crdeal_deallife__loans_cnt__dldonor_bnk</th>\n      <th>crdeal_deallife__loans_cnt__dldonor_bnk__opened_lteq_7_days</th>\n      <th>crdeal_deallife__loans_cnt__dldonor_bnk__opened_lteq_30_days</th>\n      <th>crdeal_deallife__loans_cnt__dldonor_bnk__opened_lteq_45_days</th>\n      <th>crdeal_deallife__loans_cnt__dldonor_bnk__opened_lteq_60_days</th>\n      <th>crdeal_deallife__loans_cnt__dldonor_bnk__opened_lteq_90_days</th>\n      <th>crdeal_deallife__loans_cnt__dldonor_bnk__opened_lteq_120_days</th>\n      <th>...</th>\n      <th>credres__credit_req_cnt__org_bnk__last_3_5_days</th>\n      <th>credres__credit_req_cnt__org_bnk__last_7_days</th>\n      <th>credres__credit_req_cnt__org_bnk__last_10_days</th>\n      <th>credres__credit_req_cnt__org_bnk__last_13_days</th>\n      <th>credres__credit_req_cnt__org_bnk__last_20_days</th>\n      <th>credres__credit_req_cnt__org_bnk__last_30_days</th>\n      <th>credres__credit_req_cnt__org_bnk__last_60_days</th>\n      <th>credres__credit_req_cnt__org_bnk__more_than_90_days</th>\n      <th>credres__credit_req_cnt__org_bnk__last_360_days</th>\n      <th>credres__credit_req_cnt__org_bnk__more_than_360_days</th>\n    </tr>\n  </thead>\n  <tbody>\n    <tr>\n      <th>7</th>\n      <td>1</td>\n      <td>3.0</td>\n      <td>0.0</td>\n      <td>2.0</td>\n      <td>0.0</td>\n      <td>0.0</td>\n      <td>0.0</td>\n      <td>0.0</td>\n      <td>0.0</td>\n      <td>0.0</td>\n      <td>...</td>\n      <td>0.0</td>\n      <td>0.0</td>\n      <td>0.0</td>\n      <td>0.0</td>\n      <td>0.0</td>\n      <td>0.0</td>\n      <td>0.0</td>\n      <td>1.0</td>\n      <td>0.0</td>\n      <td>1.0</td>\n    </tr>\n    <tr>\n      <th>9</th>\n      <td>1</td>\n      <td>25.0</td>\n      <td>0.0</td>\n      <td>5.0</td>\n      <td>0.0</td>\n      <td>0.0</td>\n      <td>0.0</td>\n      <td>0.0</td>\n      <td>0.0</td>\n      <td>0.0</td>\n      <td>...</td>\n      <td>0.0</td>\n      <td>0.0</td>\n      <td>0.0</td>\n      <td>1.0</td>\n      <td>1.0</td>\n      <td>1.0</td>\n      <td>4.0</td>\n      <td>11.0</td>\n      <td>9.0</td>\n      <td>7.0</td>\n    </tr>\n    <tr>\n      <th>14</th>\n      <td>1</td>\n      <td>21.0</td>\n      <td>0.0</td>\n      <td>2.0</td>\n      <td>0.0</td>\n      <td>0.0</td>\n      <td>0.0</td>\n      <td>0.0</td>\n      <td>0.0</td>\n      <td>0.0</td>\n      <td>...</td>\n      <td>0.0</td>\n      <td>0.0</td>\n      <td>0.0</td>\n      <td>2.0</td>\n      <td>2.0</td>\n      <td>2.0</td>\n      <td>2.0</td>\n      <td>6.0</td>\n      <td>7.0</td>\n      <td>1.0</td>\n    </tr>\n    <tr>\n      <th>17</th>\n      <td>1</td>\n      <td>16.0</td>\n      <td>0.0</td>\n      <td>0.0</td>\n      <td>0.0</td>\n      <td>0.0</td>\n      <td>0.0</td>\n      <td>0.0</td>\n      <td>0.0</td>\n      <td>0.0</td>\n      <td>...</td>\n      <td>0.0</td>\n      <td>0.0</td>\n      <td>0.0</td>\n      <td>0.0</td>\n      <td>0.0</td>\n      <td>0.0</td>\n      <td>1.0</td>\n      <td>0.0</td>\n      <td>1.0</td>\n      <td>0.0</td>\n    </tr>\n    <tr>\n      <th>21</th>\n      <td>1</td>\n      <td>9.0</td>\n      <td>0.0</td>\n      <td>2.0</td>\n      <td>0.0</td>\n      <td>0.0</td>\n      <td>0.0</td>\n      <td>0.0</td>\n      <td>0.0</td>\n      <td>0.0</td>\n      <td>...</td>\n      <td>0.0</td>\n      <td>0.0</td>\n      <td>0.0</td>\n      <td>0.0</td>\n      <td>0.0</td>\n      <td>0.0</td>\n      <td>0.0</td>\n      <td>2.0</td>\n      <td>0.0</td>\n      <td>2.0</td>\n    </tr>\n  </tbody>\n</table>\n<p>5 rows × 279 columns</p>\n</div>"
     },
     "metadata": {},
     "execution_count": 651
    }
   ],
   "source": [
    "data.head()"
   ]
  },
  {
   "cell_type": "code",
   "execution_count": 652,
   "metadata": {},
   "outputs": [],
   "source": [
    "data.to_csv('xgboost_prediction.xlsx', index=False)"
   ]
  }
 ]
}